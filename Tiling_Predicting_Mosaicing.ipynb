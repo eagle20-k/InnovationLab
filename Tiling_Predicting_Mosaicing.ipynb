{
 "cells": [
  {
   "cell_type": "markdown",
   "id": "e3fade1f-3bfa-4a6a-a1cf-30271cecc2a6",
   "metadata": {},
   "source": [
    "# Tiling - Predicting - Mosaicing"
   ]
  },
  {
   "cell_type": "markdown",
   "id": "25118283-e3a1-47b7-8d6a-4f90c1352cb0",
   "metadata": {},
   "source": [
    "##### Before the data can be used in the model, they have to tiled to 256x256\n"
   ]
  },
  {
   "cell_type": "markdown",
   "id": "7092c1fa-a0ee-4092-90b3-9c612049aea3",
   "metadata": {},
   "source": [
    "https://towardsdatascience.com/efficiently-splitting-an-image-into-tiles-in-python-using-numpy-d1bf0dd7b6f7"
   ]
  },
  {
   "cell_type": "markdown",
   "id": "4dde8924-0c3f-4ec4-84dc-902e0cdc9836",
   "metadata": {},
   "source": [
    "TODO\n",
    "1) Tif lesen, georeferenzierten Punkt oben links für späteres Nutzen erstellen \n",
    "2) JPEG erstellen\n",
    "3) tiling\n",
    "4) Klassifizierung \n",
    "5) wieder zusammensetzten der Tiles \n",
    "6) Georeferenzierung wieder hinzufügen (maybe 5?))"
   ]
  },
  {
   "cell_type": "code",
   "execution_count": 3,
   "id": "7ffec791-bd33-476b-814f-7f8884355b40",
   "metadata": {},
   "outputs": [],
   "source": [
    "import os\n",
    "import sys\n",
    "from PIL import Image\n",
    "from osgeo import gdal\n",
    "import numpy as np\n",
    "import rasterio\n",
    "from osgeo import osr\n",
    "import geopandas as gpd\n",
    "from shapely.geometry import Point\n",
    "from pyproj import CRS"
   ]
  },
  {
   "cell_type": "code",
   "execution_count": 39,
   "id": "1e8124d8-7595-42f0-96f2-91e8ed92dccc",
   "metadata": {},
   "outputs": [],
   "source": [
    "savedir = \"E:/W_Katrin/Kigali/Raster/tiles\"\n",
    "filename = \"E:/W_Katrin/Kigali/Raster/2015_Pleiades_Kigali_subset.tif\""
   ]
  },
  {
   "cell_type": "markdown",
   "id": "d8ec884c-e82e-454f-bf8e-9b7712547b5d",
   "metadata": {},
   "source": [
    "## 1) Create Point for Georeferencing [upper left corner]"
   ]
  },
  {
   "cell_type": "code",
   "execution_count": 107,
   "id": "a8593b19-3274-41c9-bef8-c7a316b45bce",
   "metadata": {},
   "outputs": [
    {
     "name": "stdout",
     "output_type": "stream",
     "text": [
      "SRC_CRS: 32736\n",
      "Point: POINT (173723.36172185623 9789230.701895246)\n",
      "GeoDataFrame CRS: epsg:32736\n"
     ]
    }
   ],
   "source": [
    "# get coordinates from raster\n",
    "src = gdal.Open(filename)\n",
    "\n",
    "ulx, xres, xskew, uly, yskew, yres  = src.GetGeoTransform() # ulx, uly = upper left x and y values\n",
    "\n",
    "# get projection from raster\n",
    "wkt = src.GetProjection()\n",
    "src_crs = osr.SpatialReference(wkt).GetAttrValue('AUTHORITY',1)\n",
    "print(\"SRC_CRS:\", src_crs)\n",
    "\n",
    "# create Point \n",
    "point = Point(ulx, uly)\n",
    "print(\"Point:\", point)\n",
    "\n",
    "#create new GeoDataFrame to save the point in\n",
    "newdata = gpd.GeoDataFrame()\n",
    "newdata['geometry'] = None\n",
    "newdata.loc[0, 'geometry'] = point\n",
    "\n",
    "# Set the GeoDataFrame's coordinate system to the same as the src raster \n",
    "newdata.crs = CRS.from_epsg(src_crs)\n",
    "print(\"GeoDataFrame CRS:\", newdata.crs)\n",
    "\n",
    "#save GeoDataFrame\n",
    "outfp = \"E:/W_Katrin/Kigali/Raster/2015_Pleiades_Kigali_subset_ReferencePointUL.shp\"\n",
    "newdata.to_file(outfp)"
   ]
  },
  {
   "cell_type": "markdown",
   "id": "f78dd7bb-1123-40f2-add3-5d354f7ff891",
   "metadata": {
    "jp-MarkdownHeadingCollapsed": true,
    "tags": []
   },
   "source": [
    "## 2) Convert input - file (Tif) to JPEG\n",
    "#### using gdal translate\n",
    "https://gis.stackexchange.com/questions/42584/how-to-call-gdal-translate-from-python-code"
   ]
  },
  {
   "cell_type": "code",
   "execution_count": 1,
   "id": "f7530d6b-333c-4caa-bad1-f60b3ff29e1b",
   "metadata": {},
   "outputs": [
    {
     "name": "stdout",
     "output_type": "stream",
     "text": [
      "Input file size is 13162, 8267\n",
      "0...10...20...30...40...50...60...70...80...90...100 - done.\n"
     ]
    },
    {
     "name": "stderr",
     "output_type": "stream",
     "text": [
      "Warning 6: driver JPEG does not support creation option JGW\n",
      "Warning 6: JPEG driver doesn't support data type Float32. Only eight bit byte bands supported.\n",
      "\n"
     ]
    }
   ],
   "source": [
    "!gdal_translate -of JPEG -b 1 -b 2 -b 3 -scale -co \"JGW=YES\" E:/W_Katrin/Kigali/Raster/2015_Pleiades_Kigali_subset.tif E:/W_Katrin/Kigali/Raster/2015_Pleiades_Kigali_subset_RGB.jpg"
   ]
  },
  {
   "cell_type": "code",
   "execution_count": null,
   "id": "5547d879-8ddf-4b2f-8b0a-02c5609c5381",
   "metadata": {},
   "outputs": [],
   "source": [
    "dst = gdal.Open(\"E:/W_Katrin/Kigali/Raster/2015_Pleiades_Kigali_subset_RGB.jpg\")\n",
    "dst.GetMetadata()\n",
    "!gdalinfo E:/W_Katrin/Kigali/Raster/2015_Pleiades_Kigali_subset_RGB.jpg"
   ]
  },
  {
   "cell_type": "markdown",
   "id": "99e2d8d8-b429-4137-be1d-35463329d7a9",
   "metadata": {
    "jp-MarkdownHeadingCollapsed": true,
    "tags": []
   },
   "source": [
    "## 3) TILING of input data\n",
    "##### - Input raster has to be tiled to feed the model for prediction - "
   ]
  },
  {
   "cell_type": "code",
   "execution_count": 5,
   "id": "a63c8e19-251d-477e-b6a2-b29fa3d4f3bf",
   "metadata": {},
   "outputs": [],
   "source": [
    "# define tiling function \n",
    "def tiling(filename, savedir, target_size): \n",
    "    img = Image.open(filename)\n",
    "    width, height = img.size\n",
    "    start_pos = start_x, start_y = (0, 0)\n",
    "    cropped_image_size = w, h = target_size\n",
    "    frame_num = 1\n",
    "    for col_i in range(0, width, w):\n",
    "        for row_i in range(0, height, h):\n",
    "            crop = img.crop((col_i, row_i, col_i + w, row_i + h))\n",
    "            len = 5\n",
    "            padding='0'\n",
    "            save_to= os.path.join(savedir, \"testing_{col}_{row}.jpg\".format(col=format(col_i, padding + '>'+str(len)), row=format(row_i, padding + '>'+str(len))))\n",
    "            crop.save(save_to)\n"
   ]
  },
  {
   "cell_type": "code",
   "execution_count": 6,
   "id": "25b11eb1-ed7a-4a1f-9a49-6eb2ea952927",
   "metadata": {},
   "outputs": [],
   "source": [
    "# run tiling\n",
    "import warnings\n",
    "savedir = \"E:/W_Katrin/Kigali/Raster/tiles\"\n",
    "filename = \"E:/W_Katrin/Kigali/Raster/2015_Pleiades_Kigali_subset_RGB.jpg\"\n",
    "\n",
    "warnings.simplefilter('ignore', Image.DecompressionBombWarning)\n",
    "\n",
    "tiling(filename, savedir, target_size = (256,256))"
   ]
  },
  {
   "cell_type": "markdown",
   "id": "4ca9aa27-5d0d-42b7-bea3-63000b03d95e",
   "metadata": {
    "jp-MarkdownHeadingCollapsed": true,
    "tags": []
   },
   "source": [
    "## 4) Predict and save predicted masks "
   ]
  },
  {
   "cell_type": "code",
   "execution_count": null,
   "id": "5e99e14d-f8ec-421c-921e-1044bdfaeb2b",
   "metadata": {},
   "outputs": [],
   "source": [
    "#Load the model\n",
    "model_improved = keras.models.load_model(\"17_model_improved\")"
   ]
  },
  {
   "cell_type": "code",
   "execution_count": null,
   "id": "698d9bea-f0e2-4345-bc43-8b4746abe2bf",
   "metadata": {},
   "outputs": [],
   "source": [
    "# add here the folder path, where your  data is stored\n",
    "directory = \"E:/W_Katrin/Kigali/Raster/tiles\"\n",
    "files = glob.glob(os.path.join(directory,'*'))\n",
    "\n",
    "pattern_img = '.*\\.jpg'\n",
    "# create a list of all images in that directory [after converting them to jpg with the code in Github README]\n",
    "files_img = list(filter(re.compile(pattern_img).match,files))\n",
    "\n",
    "files_img = sorted(files_img)\n",
    "\n",
    "print('Image files: {}\\n'.format(len(files_img)))"
   ]
  },
  {
   "cell_type": "code",
   "execution_count": null,
   "id": "3e18856b-c1b2-4d57-a25f-2eca10dbe9f7",
   "metadata": {},
   "outputs": [],
   "source": [
    "# create a dataframe of the satellite images and their respective mask \n",
    "df_files = pd.DataFrame(columns=['img'])\n",
    "df_files['img'] = files_img"
   ]
  },
  {
   "cell_type": "code",
   "execution_count": null,
   "id": "387a13ca-488b-4305-875e-55f7e70a16ad",
   "metadata": {},
   "outputs": [],
   "source": [
    "def make_test_gen(df_test,target_size,batch_size,seed):# this function generates augmented data[!not only training data!]\n",
    "    # or better said: it generates a function which generates augmented data[generator function]\n",
    "    \n",
    "    # https://www.pyimagesearch.com/2019/07/08/keras-imagedatagenerator-and-data-augmentation/\n",
    "    # generate batches of tensor image data with real-time data augmentation \n",
    "    # batches of original training data are randomly transformed and then used for training (not the original data!)\n",
    "  test_gen = keras.preprocessing.image.ImageDataGenerator()\n",
    "    \n",
    "    # read data from dataframe and perform powerful on-the-fly image augmentation with ImageDataGenerator\n",
    "  test_generator = test_gen.flow_from_dataframe(\n",
    "          dataframe=df_test,        \n",
    "          x_col='img',\n",
    "          target_size=target_size,\n",
    "          batch_size=batch_size,\n",
    "          seed = seed,\n",
    "          class_mode=None,\n",
    "          color_mode='rgb',\n",
    "          shuffle=False)\n",
    "  return test_generator"
   ]
  },
  {
   "cell_type": "code",
   "execution_count": null,
   "id": "3753e03b-a00e-43ed-add6-cf8f02ee2bf5",
   "metadata": {},
   "outputs": [],
   "source": [
    "test_image_gen = make_test_gen(df_files, batch_size = 1,target_size = (256, 256), seed = 0) #seed 0 to keep the Reihenfolge"
   ]
  },
  {
   "cell_type": "code",
   "execution_count": null,
   "id": "e7d2801c-e1c5-4b9c-86a0-02dc53ecbeea",
   "metadata": {},
   "outputs": [],
   "source": [
    "# Generate output predictions for the input samples\n",
    "mask_predicted = model_improved.predict(test_image_gen, verbose = 1)"
   ]
  },
  {
   "cell_type": "code",
   "execution_count": null,
   "id": "0ef09b89-0dd4-4788-9b80-5631863abf25",
   "metadata": {},
   "outputs": [],
   "source": [
    "#save predicted maps\n",
    "\n",
    "savedir = \"E:/W_Katrin/Kigali/Raster/tiles/predicted_m17_1\"\n",
    "for i in range(len(mask_predicted)): \n",
    "    mask_pred = np.squeeze(mask_predicted[i])\n",
    "    #print(mask_pred)\n",
    "    #print(mask_pred.dtype)\n",
    "    mask_pred = (255*(mask_pred - np.min(mask_pred))/np.ptp(mask_pred)).astype(\"uint8\")  \n",
    "    #break\n",
    "    padding = '0'\n",
    "    len = 4\n",
    "    save_to = os.path.join(savedir, \"testing_{x}.jpg\".format(x = format(i, padding + '>' + str(len))))\n",
    "    imageio.imwrite(save_to, mask_pred)"
   ]
  },
  {
   "cell_type": "code",
   "execution_count": null,
   "id": "2f96fc82-2f95-4c5e-b0e1-d337d00157b9",
   "metadata": {},
   "outputs": [],
   "source": [
    "# define function to display the results\n",
    "\n",
    "def predict_buildings(img, mask_pred):\n",
    "    i=0\n",
    "    img=img[i].astype(int)\n",
    "    mask_pred=np.squeeze(mask_pred[i])\n",
    "    mask_pred_rend=np.argmax(mask_pred, axis=-1)\n",
    "    plt.figure(figsize=0.8*np.array([3*6.4, 4.8]))\n",
    "    plt.subplot(131) # = plt.subplot(1,3,1), 1 row, 4 columns,  first subplot (from right to left, first top row)\n",
    "    plt.imshow(img)\n",
    "    plt.subplot(132)\n",
    "    plt.imshow(mask_pred)\n",
    "    plt.subplot(133)\n",
    "    plt.imshow(mask_pred_rend)\n",
    "    plt.show()\n",
    "    \n",
    "    return mask_pred, mask_pred_rend"
   ]
  },
  {
   "cell_type": "code",
   "execution_count": null,
   "id": "9ce0a428-bb53-4c48-9f7f-8662c4a34106",
   "metadata": {},
   "outputs": [],
   "source": [
    "mask_predicted_, mask_predicted_rend_= predict_buildings(img_test, mask_predicted)"
   ]
  },
  {
   "cell_type": "markdown",
   "id": "f6485318-e900-4d29-9adf-898d8c3dc79b",
   "metadata": {
    "tags": []
   },
   "source": [
    "## 5) Mosaic - Put images back together"
   ]
  },
  {
   "cell_type": "markdown",
   "id": "b180f362-7896-4b42-83dc-b77a6e5aba67",
   "metadata": {},
   "source": [
    "### 5.1) Mosaic preparation"
   ]
  },
  {
   "cell_type": "code",
   "execution_count": null,
   "id": "db79b51e-b01d-4a05-b2b5-da08d25fb1e2",
   "metadata": {},
   "outputs": [],
   "source": [
    "# create a dataframe of the satellite image tiles and their respective masks\n",
    "directory_img = 'E:/W_Katrin/Kigali/Raster/tiles'\n",
    "files = glob.glob(os.path.join(directory_img,'*'))\n",
    "pattern_img = '.*\\.jpg$'\n",
    "files_img = list(filter(re.compile(pattern_img).match,files))\n",
    "files_img = sorted(files_img)\n",
    "\n",
    "directory_mask = \"E:/W_Katrin/Kigali/Raster/tiles/predicted_m17_1\"\n",
    "files_ = glob.glob(os.path.join(directory_mask,'*'))\n",
    "pattern_mask = '.*\\.jpg$'\n",
    "files_mask = list(filter(re.compile(pattern_mask).match,files_))\n",
    "files_mask = sorted(files_mask)\n",
    "\n",
    "df_files = pd.DataFrame(columns=['img','mask', 'X', 'Y'])\n",
    "df_files['img'] = files_img\n",
    "df_files['mask'] = files_mask\n",
    "\n",
    "# read the upper left corner coordinates from the img-filename and save it in X and Y\n",
    "for i in range(df_files.shape[0]): \n",
    "    string = df_files[\"img\"].iloc[i]\n",
    "    string = string.split('/')[4].split('.')[0].split('_')\n",
    "    x = string[1]\n",
    "    y = string[2]\n",
    "    df_files['X'].iloc[i] = x\n",
    "    df_files['Y'].iloc[i] = y"
   ]
  },
  {
   "cell_type": "code",
   "execution_count": null,
   "id": "e5c94daa-bd3e-46c8-b3a5-343185b92093",
   "metadata": {},
   "outputs": [],
   "source": [
    "# create worldfiles for every mask tile to add georeferencing to them \n",
    "\n",
    "def create_worldfiles(dataframe, res, point_path):\n",
    "    point = gpd.read_file(point_path)\n",
    "    x_coord = point[\"geometry\"].x[0]\n",
    "    y_coord = point[\"geometry\"].y[0]\n",
    "    for i in range(len(dataframe)): \n",
    "        directory = dataframe[\"mask\"].iloc[i].split('\\\\')[0]\n",
    "        mask_str = dataframe[\"mask\"].iloc[i].split('\\\\')[1].split('.')[0]\n",
    "        f = open(os.path.join(directory, mask_str + '.jgw'), \"w\")\n",
    "        f.write('{pixel_size}\\n'.format(pixel_size = res)) #pixel size x\n",
    "        f.write('{pixel_size}\\n'.format(pixel_size = res)) #pixel size y\n",
    "        f.write('0.0\\n') #rotation\n",
    "        f.write('0.0\\n') #rotation\n",
    "        f.write('{easting}\\n'.format(easting = (x_coord + (res*int(dataframe[\"X\"].iloc[i]))))) #location x\n",
    "        f.write('{northing}\\n'.format(northing = (y_coord + (res*int(dataframe[\"Y\"].iloc[i])))))#location y\n",
    "        f.close()  "
   ]
  },
  {
   "cell_type": "code",
   "execution_count": null,
   "id": "0845832e-f375-462c-86c8-eb8abc6121ec",
   "metadata": {},
   "outputs": [],
   "source": [
    "pt_file = \"E:/W_Katrin/Kigali/Raster/2015_Pleiades_Kigali_subset_ReferencePointUL.shp\"\n",
    "create_worldfiles(dataframe = df_files, res =  0.4963, point_path = pt_file)"
   ]
  },
  {
   "cell_type": "markdown",
   "id": "877db079-19a2-410b-989a-d3df0d835bdc",
   "metadata": {},
   "source": [
    "### 5.2) Mosaicing"
   ]
  },
  {
   "cell_type": "code",
   "execution_count": null,
   "id": "600d80bf-f02b-4ebd-b782-cdb510ec3e5a",
   "metadata": {},
   "outputs": [],
   "source": [
    "#with gdal merge? !no seperate!"
   ]
  }
 ],
 "metadata": {
  "kernelspec": {
   "display_name": "Python 3 (ipykernel)",
   "language": "python",
   "name": "python3"
  },
  "language_info": {
   "codemirror_mode": {
    "name": "ipython",
    "version": 3
   },
   "file_extension": ".py",
   "mimetype": "text/x-python",
   "name": "python",
   "nbconvert_exporter": "python",
   "pygments_lexer": "ipython3",
   "version": "3.10.2"
  }
 },
 "nbformat": 4,
 "nbformat_minor": 5
}
