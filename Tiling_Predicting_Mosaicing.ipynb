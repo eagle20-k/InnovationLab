{
 "cells": [
  {
   "cell_type": "markdown",
   "id": "e3fade1f-3bfa-4a6a-a1cf-30271cecc2a6",
   "metadata": {},
   "source": [
    "# Tiling - Predicting - Mosaicing"
   ]
  },
  {
   "cell_type": "markdown",
   "id": "25118283-e3a1-47b7-8d6a-4f90c1352cb0",
   "metadata": {},
   "source": [
    "##### Before the data can be used in the model, they have to tiled to 256x256\n"
   ]
  },
  {
   "cell_type": "markdown",
   "id": "7092c1fa-a0ee-4092-90b3-9c612049aea3",
   "metadata": {},
   "source": [
    "https://towardsdatascience.com/efficiently-splitting-an-image-into-tiles-in-python-using-numpy-d1bf0dd7b6f7"
   ]
  },
  {
   "cell_type": "markdown",
   "id": "4dde8924-0c3f-4ec4-84dc-902e0cdc9836",
   "metadata": {},
   "source": [
    "TODO\n",
    "1) Tif lesen, georeferenzierten Punkt oben links für späteres Nutzen erstellen \n",
    "2) JPEG erstellen\n",
    "3) tiling\n",
    "4) Klassifizierung \n",
    "5) wieder zusammensetzten der Tiles \n",
    "6) Georeferenzierung wieder hinzufügen (maybe 5?))"
   ]
  },
  {
   "cell_type": "code",
   "execution_count": 4,
   "id": "7ffec791-bd33-476b-814f-7f8884355b40",
   "metadata": {},
   "outputs": [],
   "source": [
    "import os\n",
    "import sys\n",
    "from PIL import Image\n",
    "from osgeo import gdal\n",
    "import numpy as np\n",
    "import rasterio\n",
    "from osgeo import osr\n",
    "import geopandas as gpd\n",
    "from shapely.geometry import Point\n",
    "from pyproj import CRS\n",
    "import glob\n",
    "import re\n",
    "import pandas as pd\n",
    "\n",
    "import tensorflow as tf\n",
    "from tensorflow import keras\n",
    "from tensorflow.keras import backend as K\n",
    "\n",
    "import imageio"
   ]
  },
  {
   "cell_type": "code",
   "execution_count": 31,
   "id": "1e8124d8-7595-42f0-96f2-91e8ed92dccc",
   "metadata": {},
   "outputs": [],
   "source": [
    "savedir = \"E:/W_Katrin/Kigali/Raster/tiles\"\n",
    "filename = \"E:/W_Katrin/Kigali/Raster/2015_Pleiades_Kigali_subset.tif\""
   ]
  },
  {
   "cell_type": "markdown",
   "id": "d8ec884c-e82e-454f-bf8e-9b7712547b5d",
   "metadata": {},
   "source": [
    "## 1) Create Point for Georeferencing [upper left corner]"
   ]
  },
  {
   "cell_type": "code",
   "execution_count": 107,
   "id": "a8593b19-3274-41c9-bef8-c7a316b45bce",
   "metadata": {},
   "outputs": [
    {
     "name": "stdout",
     "output_type": "stream",
     "text": [
      "SRC_CRS: 32736\n",
      "Point: POINT (173723.36172185623 9789230.701895246)\n",
      "GeoDataFrame CRS: epsg:32736\n"
     ]
    }
   ],
   "source": [
    "# get coordinates from raster\n",
    "src = gdal.Open(filename)\n",
    "\n",
    "ulx, xres, xskew, uly, yskew, yres  = src.GetGeoTransform() # ulx, uly = upper left x and y values\n",
    "\n",
    "# get projection from raster\n",
    "wkt = src.GetProjection()\n",
    "src_crs = osr.SpatialReference(wkt).GetAttrValue('AUTHORITY',1)\n",
    "print(\"SRC_CRS:\", src_crs)\n",
    "\n",
    "# create Point \n",
    "point = Point(ulx, uly)\n",
    "print(\"Point:\", point)\n",
    "\n",
    "#create new GeoDataFrame to save the point in\n",
    "newdata = gpd.GeoDataFrame()\n",
    "newdata['geometry'] = None\n",
    "newdata.loc[0, 'geometry'] = point\n",
    "\n",
    "# Set the GeoDataFrame's coordinate system to the same as the src raster \n",
    "newdata.crs = CRS.from_epsg(src_crs)\n",
    "print(\"GeoDataFrame CRS:\", newdata.crs)\n",
    "\n",
    "#save GeoDataFrame\n",
    "outfp = \"E:/W_Katrin/Kigali/Raster/2015_Pleiades_Kigali_subset_ReferencePointUL.shp\"\n",
    "newdata.to_file(outfp)"
   ]
  },
  {
   "cell_type": "markdown",
   "id": "f78dd7bb-1123-40f2-add3-5d354f7ff891",
   "metadata": {
    "tags": []
   },
   "source": [
    "## 2) Convert input - file (Tif) to JPEG\n",
    "#### using gdal translate\n",
    "https://gis.stackexchange.com/questions/42584/how-to-call-gdal-translate-from-python-code"
   ]
  },
  {
   "cell_type": "code",
   "execution_count": 32,
   "id": "f7530d6b-333c-4caa-bad1-f60b3ff29e1b",
   "metadata": {},
   "outputs": [
    {
     "name": "stdout",
     "output_type": "stream",
     "text": [
      "Input file size is 13162, 8267\n",
      "0...10...20...30...40...50...60...70...80...90...100 - done.\n"
     ]
    },
    {
     "name": "stderr",
     "output_type": "stream",
     "text": [
      "Warning 6: driver PNG does not support creation option PGW\n",
      "Warning 6: PNG driver doesn't support data type Float32. Only eight bit (Byte) and sixteen bit (UInt16) bands supported. Defaulting to Byte\n",
      "\n"
     ]
    }
   ],
   "source": [
    "!gdal_translate -of PNG -b 1 -b 2 -b 3 -scale -co \"PGW=YES\" E:/W_Katrin/Kigali/Raster/2015_Pleiades_Kigali_subset.tif E:/W_Katrin/Kigali/Raster/2015_Pleiades_Kigali_subset_RGB.png"
   ]
  },
  {
   "cell_type": "code",
   "execution_count": 33,
   "id": "5547d879-8ddf-4b2f-8b0a-02c5609c5381",
   "metadata": {},
   "outputs": [
    {
     "name": "stdout",
     "output_type": "stream",
     "text": [
      "Driver: PNG/Portable Network Graphics\n",
      "Files: E:/W_Katrin/Kigali/Raster/2015_Pleiades_Kigali_subset_RGB.png\n",
      "       E:/W_Katrin/Kigali/Raster/2015_Pleiades_Kigali_subset_RGB.png.aux.xml\n",
      "Size is 13162, 8267\n",
      "Coordinate System is:\n",
      "PROJCRS[\"WGS 84 / UTM zone 36S\",\n",
      "    BASEGEOGCRS[\"WGS 84\",\n",
      "        DATUM[\"World Geodetic System 1984\",\n",
      "            ELLIPSOID[\"WGS 84\",6378137,298.257223563,\n",
      "                LENGTHUNIT[\"metre\",1]]],\n",
      "        PRIMEM[\"Greenwich\",0,\n",
      "            ANGLEUNIT[\"degree\",0.0174532925199433]],\n",
      "        ID[\"EPSG\",4326]],\n",
      "    CONVERSION[\"UTM zone 36S\",\n",
      "        METHOD[\"Transverse Mercator\",\n",
      "            ID[\"EPSG\",9807]],\n",
      "        PARAMETER[\"Latitude of natural origin\",0,\n",
      "            ANGLEUNIT[\"degree\",0.0174532925199433],\n",
      "            ID[\"EPSG\",8801]],\n",
      "        PARAMETER[\"Longitude of natural origin\",33,\n",
      "            ANGLEUNIT[\"degree\",0.0174532925199433],\n",
      "            ID[\"EPSG\",8802]],\n",
      "        PARAMETER[\"Scale factor at natural origin\",0.9996,\n",
      "            SCALEUNIT[\"unity\",1],\n",
      "            ID[\"EPSG\",8805]],\n",
      "        PARAMETER[\"False easting\",500000,\n",
      "            LENGTHUNIT[\"metre\",1],\n",
      "            ID[\"EPSG\",8806]],\n",
      "        PARAMETER[\"False northing\",10000000,\n",
      "            LENGTHUNIT[\"metre\",1],\n",
      "            ID[\"EPSG\",8807]]],\n",
      "    CS[Cartesian,2],\n",
      "        AXIS[\"easting\",east,\n",
      "            ORDER[1],\n",
      "            LENGTHUNIT[\"metre\",1]],\n",
      "        AXIS[\"northing\",north,\n",
      "            ORDER[2],\n",
      "            LENGTHUNIT[\"metre\",1]],\n",
      "    ID[\"EPSG\",32736]]\n",
      "Data axis to CRS axis mapping: 1,2\n",
      "Origin = (173723.361721856228542,9789230.701895246282220)\n",
      "Pixel Size = (0.496305457311709,-0.496305457311709)\n",
      "Metadata:\n",
      "  AREA_OR_POINT=Area\n",
      "Image Structure Metadata:\n",
      "  INTERLEAVE=PIXEL\n",
      "Corner Coordinates:\n",
      "Upper Left  (  173723.362, 9789230.702) ( 30d 4' 3.04\"E,  1d54'15.76\"S)\n",
      "Lower Left  (  173723.362, 9785127.745) ( 30d 4' 2.81\"E,  1d56'29.21\"S)\n",
      "Upper Right (  180255.734, 9789230.702) ( 30d 7'34.22\"E,  1d54'16.11\"S)\n",
      "Lower Right (  180255.734, 9785127.745) ( 30d 7'34.00\"E,  1d56'29.58\"S)\n",
      "Center      (  176989.548, 9787179.223) ( 30d 5'48.52\"E,  1d55'22.67\"S)\n",
      "Band 1 Block=13162x1 Type=Byte, ColorInterp=Red\n",
      "  Description = Layer_1\n",
      "  NoData Value=nan\n",
      "  Metadata:\n",
      "    LAYER_TYPE=athematic\n",
      "    OVERVIEWS_ALGORITHM=ErdasBino3\n",
      "Band 2 Block=13162x1 Type=Byte, ColorInterp=Green\n",
      "  Description = Layer_2\n",
      "  NoData Value=nan\n",
      "  Metadata:\n",
      "    LAYER_TYPE=athematic\n",
      "    OVERVIEWS_ALGORITHM=ErdasBino3\n",
      "Band 3 Block=13162x1 Type=Byte, ColorInterp=Blue\n",
      "  Description = Layer_3\n",
      "  NoData Value=nan\n",
      "  Metadata:\n",
      "    LAYER_TYPE=athematic\n",
      "    OVERVIEWS_ALGORITHM=ErdasBino3\n"
     ]
    }
   ],
   "source": [
    "dst = gdal.Open(\"E:/W_Katrin/Kigali/Raster/2015_Pleiades_Kigali_subset_RGB.png\")\n",
    "dst.GetMetadata()\n",
    "!gdalinfo E:/W_Katrin/Kigali/Raster/2015_Pleiades_Kigali_subset_RGB.png"
   ]
  },
  {
   "cell_type": "markdown",
   "id": "99e2d8d8-b429-4137-be1d-35463329d7a9",
   "metadata": {
    "tags": []
   },
   "source": [
    "## 3) TILING of input data\n",
    "##### - Input raster has to be tiled to feed the model for prediction - "
   ]
  },
  {
   "cell_type": "code",
   "execution_count": 34,
   "id": "a63c8e19-251d-477e-b6a2-b29fa3d4f3bf",
   "metadata": {},
   "outputs": [],
   "source": [
    "# define tiling function \n",
    "def tiling(filename, savedir, target_size): \n",
    "    img = Image.open(filename)\n",
    "    width, height = img.size\n",
    "    start_pos = start_x, start_y = (0, 0)\n",
    "    cropped_image_size = w, h = target_size\n",
    "    frame_num = 1\n",
    "    for col_i in range(0, width, w):\n",
    "        for row_i in range(0, height, h):\n",
    "            crop = img.crop((col_i, row_i, col_i + w, row_i + h))\n",
    "            length = 5\n",
    "            padding='0'\n",
    "            save_to= os.path.join(savedir, \"testing_{col}_{row}.png\".format(col=format(col_i, padding + '>'+str(length)), row=format(row_i, padding + '>'+str(length))))\n",
    "            crop.save(save_to)\n"
   ]
  },
  {
   "cell_type": "code",
   "execution_count": 35,
   "id": "25b11eb1-ed7a-4a1f-9a49-6eb2ea952927",
   "metadata": {},
   "outputs": [],
   "source": [
    "# run tiling\n",
    "import warnings\n",
    "savedir = \"E:/W_Katrin/Kigali/Raster/tiles_1\"\n",
    "filename = \"E:/W_Katrin/Kigali/Raster/2015_Pleiades_Kigali_subset_RGB.png\"\n",
    "\n",
    "warnings.simplefilter('ignore', Image.DecompressionBombWarning)\n",
    "\n",
    "tiling(filename, savedir, target_size = (256,256))"
   ]
  },
  {
   "cell_type": "markdown",
   "id": "4ca9aa27-5d0d-42b7-bea3-63000b03d95e",
   "metadata": {
    "tags": []
   },
   "source": [
    "## 4) Predict and save predicted masks "
   ]
  },
  {
   "cell_type": "code",
   "execution_count": 41,
   "id": "5e99e14d-f8ec-421c-921e-1044bdfaeb2b",
   "metadata": {},
   "outputs": [],
   "source": [
    "#Load the model\n",
    "model_improved = keras.models.load_model(\"E:/W_Katrin/InnovationLab/17_model_improved\")"
   ]
  },
  {
   "cell_type": "code",
   "execution_count": 42,
   "id": "698d9bea-f0e2-4345-bc43-8b4746abe2bf",
   "metadata": {},
   "outputs": [
    {
     "name": "stdout",
     "output_type": "stream",
     "text": [
      "Image files: 1716\n",
      "\n"
     ]
    }
   ],
   "source": [
    "# add here the folder path, where your  data is stored\n",
    "directory = \"E:/W_Katrin/Kigali/Raster/tiles_1\"\n",
    "files = glob.glob(os.path.join(directory,'*'))\n",
    "\n",
    "pattern_img = '.*\\.png'\n",
    "# create a list of all images in that directory [after converting them to jpg with the code in Github README]\n",
    "files_img = list(filter(re.compile(pattern_img).match,files))\n",
    "\n",
    "files_img = sorted(files_img)\n",
    "\n",
    "print('Image files: {}\\n'.format(len(files_img)))"
   ]
  },
  {
   "cell_type": "code",
   "execution_count": 43,
   "id": "3e18856b-c1b2-4d57-a25f-2eca10dbe9f7",
   "metadata": {},
   "outputs": [],
   "source": [
    "# create a dataframe of the satellite images and their respective mask \n",
    "df_files = pd.DataFrame(columns=['img'])\n",
    "df_files['img'] = files_img"
   ]
  },
  {
   "cell_type": "code",
   "execution_count": 44,
   "id": "387a13ca-488b-4305-875e-55f7e70a16ad",
   "metadata": {},
   "outputs": [],
   "source": [
    "def make_test_gen(df_test,target_size,batch_size,seed):# this function generates augmented data[!not only training data!]\n",
    "    # or better said: it generates a function which generates augmented data[generator function]\n",
    "    \n",
    "    # https://www.pyimagesearch.com/2019/07/08/keras-imagedatagenerator-and-data-augmentation/\n",
    "    # generate batches of tensor image data with real-time data augmentation \n",
    "    # batches of original training data are randomly transformed and then used for training (not the original data!)\n",
    "  test_gen = keras.preprocessing.image.ImageDataGenerator()\n",
    "    \n",
    "    # read data from dataframe and perform powerful on-the-fly image augmentation with ImageDataGenerator\n",
    "  test_generator = test_gen.flow_from_dataframe(\n",
    "          dataframe=df_test,        \n",
    "          x_col='img',\n",
    "          target_size=target_size,\n",
    "          batch_size=batch_size,\n",
    "          seed = seed,\n",
    "          class_mode=None,\n",
    "          color_mode='rgb',\n",
    "          shuffle=False)\n",
    "  return test_generator"
   ]
  },
  {
   "cell_type": "code",
   "execution_count": 45,
   "id": "3753e03b-a00e-43ed-add6-cf8f02ee2bf5",
   "metadata": {},
   "outputs": [
    {
     "name": "stdout",
     "output_type": "stream",
     "text": [
      "Found 1716 validated image filenames.\n"
     ]
    }
   ],
   "source": [
    "test_image_gen = make_test_gen(df_files, batch_size = 1,target_size = (256, 256), seed = 0) #seed 0 to keep the Reihenfolge"
   ]
  },
  {
   "cell_type": "code",
   "execution_count": 46,
   "id": "e7d2801c-e1c5-4b9c-86a0-02dc53ecbeea",
   "metadata": {},
   "outputs": [
    {
     "name": "stdout",
     "output_type": "stream",
     "text": [
      "1716/1716 [==============================] - 223s 129ms/step\n"
     ]
    }
   ],
   "source": [
    "# Generate output predictions for the input samples\n",
    "mask_predicted = model_improved.predict(test_image_gen, verbose = 1)"
   ]
  },
  {
   "cell_type": "code",
   "execution_count": null,
   "id": "db37aa2c-8358-4382-a1fe-62edc36a07e3",
   "metadata": {},
   "outputs": [],
   "source": [
    "df_files[\"mask_file\"] = mask_predicted"
   ]
  },
  {
   "cell_type": "code",
   "execution_count": null,
   "id": "ca10c6ca-1d78-4a64-a732-038c928221c5",
   "metadata": {},
   "outputs": [],
   "source": [
    "print(df_files)"
   ]
  },
  {
   "cell_type": "code",
   "execution_count": 49,
   "id": "0ef09b89-0dd4-4788-9b80-5631863abf25",
   "metadata": {},
   "outputs": [],
   "source": [
    "#save predicted maps\n",
    "\n",
    "savedir = \"E:/W_Katrin/Kigali/Raster/tiles_1\"\n",
    "for i in range(len(mask_predicted)): \n",
    "    mask_pred = np.squeeze(mask_predicted[i])\n",
    "    #print(mask_pred)\n",
    "    #print(mask_pred.dtype)\n",
    "    mask_pred = (255*(mask_pred - np.min(mask_pred))/np.ptp(mask_pred)).astype(\"uint8\")  \n",
    "    #break\n",
    "    padding = '0'\n",
    "    length = 4\n",
    "    save_to = os.path.join(savedir, \"testing_{x}.tif\".format(x = format(i, padding + '>' + str(length))))\n",
    "    imageio.imwrite(save_to, mask_pred)"
   ]
  },
  {
   "cell_type": "code",
   "execution_count": null,
   "id": "2f96fc82-2f95-4c5e-b0e1-d337d00157b9",
   "metadata": {},
   "outputs": [],
   "source": [
    "# define function to display the results\n",
    "\n",
    "def predict_buildings(img, mask_pred):\n",
    "    i=0\n",
    "    img=img[i].astype(int)\n",
    "    mask_pred=np.squeeze(mask_pred[i])\n",
    "    mask_pred_rend=np.argmax(mask_pred, axis=-1)\n",
    "    plt.figure(figsize=0.8*np.array([3*6.4, 4.8]))\n",
    "    plt.subplot(131) # = plt.subplot(1,3,1), 1 row, 4 columns,  first subplot (from right to left, first top row)\n",
    "    plt.imshow(img)\n",
    "    plt.subplot(132)\n",
    "    plt.imshow(mask_pred)\n",
    "    plt.subplot(133)\n",
    "    plt.imshow(mask_pred_rend)\n",
    "    plt.show()\n",
    "    \n",
    "    return mask_pred, mask_pred_rend"
   ]
  },
  {
   "cell_type": "code",
   "execution_count": null,
   "id": "9ce0a428-bb53-4c48-9f7f-8662c4a34106",
   "metadata": {},
   "outputs": [],
   "source": [
    "mask_predicted_, mask_predicted_rend_= predict_buildings(img_test, mask_predicted)"
   ]
  },
  {
   "cell_type": "markdown",
   "id": "f6485318-e900-4d29-9adf-898d8c3dc79b",
   "metadata": {
    "tags": []
   },
   "source": [
    "## 5) Mosaic - Put images back together"
   ]
  },
  {
   "cell_type": "markdown",
   "id": "b180f362-7896-4b42-83dc-b77a6e5aba67",
   "metadata": {
    "tags": []
   },
   "source": [
    "### 5.1) Mosaic preparation"
   ]
  },
  {
   "cell_type": "code",
   "execution_count": 37,
   "id": "db79b51e-b01d-4a05-b2b5-da08d25fb1e2",
   "metadata": {},
   "outputs": [
    {
     "data": {
      "text/html": [
       "<div>\n",
       "<style scoped>\n",
       "    .dataframe tbody tr th:only-of-type {\n",
       "        vertical-align: middle;\n",
       "    }\n",
       "\n",
       "    .dataframe tbody tr th {\n",
       "        vertical-align: top;\n",
       "    }\n",
       "\n",
       "    .dataframe thead th {\n",
       "        text-align: right;\n",
       "    }\n",
       "</style>\n",
       "<table border=\"1\" class=\"dataframe\">\n",
       "  <thead>\n",
       "    <tr style=\"text-align: right;\">\n",
       "      <th></th>\n",
       "      <th>img</th>\n",
       "      <th>mask</th>\n",
       "      <th>X</th>\n",
       "      <th>Y</th>\n",
       "    </tr>\n",
       "  </thead>\n",
       "  <tbody>\n",
       "    <tr>\n",
       "      <th>0</th>\n",
       "      <td>E:/W_Katrin/Kigali/Raster/tiles_1\\testing_0000...</td>\n",
       "      <td>E:/W_Katrin/Kigali/Raster/tiles_1\\testing_0000...</td>\n",
       "      <td>00000</td>\n",
       "      <td>00000</td>\n",
       "    </tr>\n",
       "    <tr>\n",
       "      <th>1</th>\n",
       "      <td>E:/W_Katrin/Kigali/Raster/tiles_1\\testing_0000...</td>\n",
       "      <td>E:/W_Katrin/Kigali/Raster/tiles_1\\testing_0001...</td>\n",
       "      <td>00000</td>\n",
       "      <td>00256</td>\n",
       "    </tr>\n",
       "    <tr>\n",
       "      <th>2</th>\n",
       "      <td>E:/W_Katrin/Kigali/Raster/tiles_1\\testing_0000...</td>\n",
       "      <td>E:/W_Katrin/Kigali/Raster/tiles_1\\testing_0002...</td>\n",
       "      <td>00000</td>\n",
       "      <td>00512</td>\n",
       "    </tr>\n",
       "    <tr>\n",
       "      <th>3</th>\n",
       "      <td>E:/W_Katrin/Kigali/Raster/tiles_1\\testing_0000...</td>\n",
       "      <td>E:/W_Katrin/Kigali/Raster/tiles_1\\testing_0003...</td>\n",
       "      <td>00000</td>\n",
       "      <td>00768</td>\n",
       "    </tr>\n",
       "    <tr>\n",
       "      <th>4</th>\n",
       "      <td>E:/W_Katrin/Kigali/Raster/tiles_1\\testing_0000...</td>\n",
       "      <td>E:/W_Katrin/Kigali/Raster/tiles_1\\testing_0004...</td>\n",
       "      <td>00000</td>\n",
       "      <td>01024</td>\n",
       "    </tr>\n",
       "    <tr>\n",
       "      <th>...</th>\n",
       "      <td>...</td>\n",
       "      <td>...</td>\n",
       "      <td>...</td>\n",
       "      <td>...</td>\n",
       "    </tr>\n",
       "    <tr>\n",
       "      <th>1711</th>\n",
       "      <td>E:/W_Katrin/Kigali/Raster/tiles_1\\testing_1305...</td>\n",
       "      <td>E:/W_Katrin/Kigali/Raster/tiles_1\\testing_1711...</td>\n",
       "      <td>13056</td>\n",
       "      <td>07168</td>\n",
       "    </tr>\n",
       "    <tr>\n",
       "      <th>1712</th>\n",
       "      <td>E:/W_Katrin/Kigali/Raster/tiles_1\\testing_1305...</td>\n",
       "      <td>E:/W_Katrin/Kigali/Raster/tiles_1\\testing_1712...</td>\n",
       "      <td>13056</td>\n",
       "      <td>07424</td>\n",
       "    </tr>\n",
       "    <tr>\n",
       "      <th>1713</th>\n",
       "      <td>E:/W_Katrin/Kigali/Raster/tiles_1\\testing_1305...</td>\n",
       "      <td>E:/W_Katrin/Kigali/Raster/tiles_1\\testing_1713...</td>\n",
       "      <td>13056</td>\n",
       "      <td>07680</td>\n",
       "    </tr>\n",
       "    <tr>\n",
       "      <th>1714</th>\n",
       "      <td>E:/W_Katrin/Kigali/Raster/tiles_1\\testing_1305...</td>\n",
       "      <td>E:/W_Katrin/Kigali/Raster/tiles_1\\testing_1714...</td>\n",
       "      <td>13056</td>\n",
       "      <td>07936</td>\n",
       "    </tr>\n",
       "    <tr>\n",
       "      <th>1715</th>\n",
       "      <td>E:/W_Katrin/Kigali/Raster/tiles_1\\testing_1305...</td>\n",
       "      <td>E:/W_Katrin/Kigali/Raster/tiles_1\\testing_1715...</td>\n",
       "      <td>13056</td>\n",
       "      <td>08192</td>\n",
       "    </tr>\n",
       "  </tbody>\n",
       "</table>\n",
       "<p>1716 rows × 4 columns</p>\n",
       "</div>"
      ],
      "text/plain": [
       "                                                    img  \\\n",
       "0     E:/W_Katrin/Kigali/Raster/tiles_1\\testing_0000...   \n",
       "1     E:/W_Katrin/Kigali/Raster/tiles_1\\testing_0000...   \n",
       "2     E:/W_Katrin/Kigali/Raster/tiles_1\\testing_0000...   \n",
       "3     E:/W_Katrin/Kigali/Raster/tiles_1\\testing_0000...   \n",
       "4     E:/W_Katrin/Kigali/Raster/tiles_1\\testing_0000...   \n",
       "...                                                 ...   \n",
       "1711  E:/W_Katrin/Kigali/Raster/tiles_1\\testing_1305...   \n",
       "1712  E:/W_Katrin/Kigali/Raster/tiles_1\\testing_1305...   \n",
       "1713  E:/W_Katrin/Kigali/Raster/tiles_1\\testing_1305...   \n",
       "1714  E:/W_Katrin/Kigali/Raster/tiles_1\\testing_1305...   \n",
       "1715  E:/W_Katrin/Kigali/Raster/tiles_1\\testing_1305...   \n",
       "\n",
       "                                                   mask      X      Y  \n",
       "0     E:/W_Katrin/Kigali/Raster/tiles_1\\testing_0000...  00000  00000  \n",
       "1     E:/W_Katrin/Kigali/Raster/tiles_1\\testing_0001...  00000  00256  \n",
       "2     E:/W_Katrin/Kigali/Raster/tiles_1\\testing_0002...  00000  00512  \n",
       "3     E:/W_Katrin/Kigali/Raster/tiles_1\\testing_0003...  00000  00768  \n",
       "4     E:/W_Katrin/Kigali/Raster/tiles_1\\testing_0004...  00000  01024  \n",
       "...                                                 ...    ...    ...  \n",
       "1711  E:/W_Katrin/Kigali/Raster/tiles_1\\testing_1711...  13056  07168  \n",
       "1712  E:/W_Katrin/Kigali/Raster/tiles_1\\testing_1712...  13056  07424  \n",
       "1713  E:/W_Katrin/Kigali/Raster/tiles_1\\testing_1713...  13056  07680  \n",
       "1714  E:/W_Katrin/Kigali/Raster/tiles_1\\testing_1714...  13056  07936  \n",
       "1715  E:/W_Katrin/Kigali/Raster/tiles_1\\testing_1715...  13056  08192  \n",
       "\n",
       "[1716 rows x 4 columns]"
      ]
     },
     "execution_count": 37,
     "metadata": {},
     "output_type": "execute_result"
    }
   ],
   "source": [
    "# create a dataframe of the satellite image tiles and their respective masks\n",
    "directory_img = 'E:/W_Katrin/Kigali/Raster/tiles_1'\n",
    "files = glob.glob(os.path.join(directory_img,'*'))\n",
    "pattern_img = '.*\\.png$'\n",
    "files_img = list(filter(re.compile(pattern_img).match,files))\n",
    "files_img = sorted(files_img)\n",
    "\n",
    "directory_mask = \"E:/W_Katrin/Kigali/Raster/tiles_1\"\n",
    "files_ = glob.glob(os.path.join(directory_mask,'*'))\n",
    "pattern_mask = '.*\\.tif$'\n",
    "files_mask = list(filter(re.compile(pattern_mask).match,files_))\n",
    "files_mask = sorted(files_mask)\n",
    "\n",
    "df_files = pd.DataFrame(columns=['img','mask', 'X', 'Y'])\n",
    "df_files['img'] = files_img\n",
    "df_files['mask'] = files_mask\n",
    "\n",
    "\n",
    "# read the upper left corner coordinates from the img-filename and save it in X and Y\n",
    "\n",
    "for i in range(df_files.shape[0]): \n",
    "    string = df_files[\"img\"].iloc[i]\n",
    "    string = string.split('/')[4].split('.')[0].split('_')\n",
    "    x = string[2]\n",
    "    y = string[3]\n",
    "    df_files['X'].iloc[i] = x\n",
    "    df_files['Y'].iloc[i] = y\n",
    "\n",
    "df_files"
   ]
  },
  {
   "cell_type": "code",
   "execution_count": 60,
   "id": "e5c94daa-bd3e-46c8-b3a5-343185b92093",
   "metadata": {},
   "outputs": [],
   "source": [
    "# create worldfiles for every mask tile to add georeferencing to them \n",
    "\n",
    "def create_worldfiles(dataframe, res, point_path):\n",
    "    point = gpd.read_file(point_path)\n",
    "    x_coord = point[\"geometry\"].x[0]\n",
    "    y_coord = point[\"geometry\"].y[0]\n",
    "    for i in range(len(dataframe)): \n",
    "        directory = dataframe[\"mask\"].iloc[i].split('\\\\')[0]\n",
    "        mask_str = dataframe[\"mask\"].iloc[i].split('\\\\')[1].split('.')[0]\n",
    "        f = open(os.path.join(directory, mask_str + '.tfw'), \"w\")\n",
    "        f.write('{pixel_size}\\n'.format(pixel_size = res)) #pixel size x\n",
    "        f.write('0.0\\n') #rotation\n",
    "        f.write('0.0\\n') #rotation\n",
    "        f.write('{pixel_size}\\n'.format(pixel_size = -res)) #pixel size y\n",
    "        f.write('{easting}\\n'.format(easting = (x_coord + (res*int(dataframe[\"X\"].iloc[i]))))) #location x\n",
    "        f.write('{northing}\\n'.format(northing = (y_coord - (res*int(dataframe[\"Y\"].iloc[i])))))#location y\n",
    "        f.close()  "
   ]
  },
  {
   "cell_type": "code",
   "execution_count": 61,
   "id": "0845832e-f375-462c-86c8-eb8abc6121ec",
   "metadata": {},
   "outputs": [],
   "source": [
    "pt_file = \"E:/W_Katrin/Kigali/Raster/2015_Pleiades_Kigali_subset_ReferencePointUL.shp\"\n",
    "create_worldfiles(dataframe = df_files, res =  0.4963, point_path = pt_file)"
   ]
  },
  {
   "cell_type": "markdown",
   "id": "877db079-19a2-410b-989a-d3df0d835bdc",
   "metadata": {},
   "source": [
    "### 5.2) Mosaicing"
   ]
  },
  {
   "cell_type": "code",
   "execution_count": 62,
   "id": "9422b882-0a41-46af-9dac-e98b72eb3883",
   "metadata": {},
   "outputs": [
    {
     "data": {
      "text/plain": [
       "'E:\\\\W_Katrin\\\\Kigali\\\\Raster\\\\tiles_1'"
      ]
     },
     "execution_count": 62,
     "metadata": {},
     "output_type": "execute_result"
    }
   ],
   "source": [
    "os.getcwd()\n",
    "os.chdir('E:/W_Katrin/Kigali/Raster/tiles_1')\n",
    "os.getcwd()"
   ]
  },
  {
   "cell_type": "code",
   "execution_count": 63,
   "id": "7cb2c6de-2226-48d3-8414-f2e70d31cc69",
   "metadata": {},
   "outputs": [],
   "source": [
    "# write all paths ofpredicted masks in txt file\n",
    "files_list = glob.glob('*.tif')\n",
    "\n",
    "with open('mask_files.txt', 'w') as f:\n",
    "    for item in files_list:\n",
    "        f.write(\"%s\\n\" % item)"
   ]
  },
  {
   "cell_type": "markdown",
   "id": "b1b161ea-e1ad-4187-8d07-88672e2d6de8",
   "metadata": {},
   "source": [
    "##### First try: Build vrt and then gdal merge "
   ]
  },
  {
   "cell_type": "code",
   "execution_count": 64,
   "id": "7321050f-a203-47f2-9fc3-1b20b2aa5bad",
   "metadata": {},
   "outputs": [
    {
     "name": "stdout",
     "output_type": "stream",
     "text": [
      "0...10...20...30...40...50...60...70...80...90...100 - done.\n"
     ]
    }
   ],
   "source": [
    "!gdalbuildvrt -input_file_list mask_files.txt merged_3.vrt"
   ]
  },
  {
   "cell_type": "code",
   "execution_count": 66,
   "id": "7d5d12ec-1cd1-4fdd-ae67-47567a827217",
   "metadata": {},
   "outputs": [
    {
     "name": "stdout",
     "output_type": "stream",
     "text": [
      "\n",
      "Processing file     1 of     1,  0.000% completed in 0 minutes.\n",
      "Filename: merged_3.vrt\n",
      "File Size: 13312x8448x3\n",
      "Pixel Size: 0.496300 x -0.496300\n",
      "UL:(173723.113572,9789230.950045)   LR:(180329.859172,9785038.207645)\n",
      "Copy 0,0,13312,8448 to 0,0,13312,8448.\n",
      "Copy 0,0,13312,8448 to 0,0,13312,8448.\n",
      "Copy 0,0,13312,8448 to 0,0,13312,8448.\n"
     ]
    }
   ],
   "source": [
    "!python \"E:\\W_Katrin\\miniconda3\\envs\\tue_dl2\\Lib\\site-packages\\GDAL-3.4.1-py3.10-win-amd64.egg-info\\scripts\\gdal_merge.py\" -init 255 -o mask_predicted_mosaic_5.tif -of GTiff -v merged_3.vrt"
   ]
  },
  {
   "cell_type": "code",
   "execution_count": 93,
   "id": "f665a33e-0677-491f-8a11-1b93193b5d07",
   "metadata": {},
   "outputs": [],
   "source": []
  },
  {
   "cell_type": "markdown",
   "id": "ca484ba6-795b-4ced-a276-939247e1cd0c",
   "metadata": {
    "tags": []
   },
   "source": [
    "## Trying out for img"
   ]
  },
  {
   "cell_type": "code",
   "execution_count": 46,
   "id": "10586e6b-9a3a-4fa0-aacb-edb76113e83a",
   "metadata": {},
   "outputs": [],
   "source": [
    "# for mosaicing: create worldfiles for tiles satellite images for evaluation\n",
    "\n",
    "def create_worldfiles_img(dataframe, res, point_path):\n",
    "    point = gpd.read_file(point_path)\n",
    "    x_coord = point[\"geometry\"].x[0]\n",
    "    y_coord = point[\"geometry\"].y[0]\n",
    "    for i in range(len(dataframe)): \n",
    "        directory = dataframe[\"img\"].iloc[i].split('\\\\')[0]\n",
    "        img_str = dataframe[\"img\"].iloc[i].split('\\\\')[1].split('.')[0]\n",
    "        f = open(os.path.join(directory, img_str + '.pgw'), \"w\")\n",
    "        f.write('{pixel_size}\\n'.format(pixel_size = res)) #pixel size x\n",
    "        f.write('0.0\\n') #rotation\n",
    "        f.write('0.0\\n') #rotation\n",
    "        f.write('{pixel_size}\\n'.format(pixel_size = -res)) #pixel size y\n",
    "        f.write('{easting}\\n'.format(easting = (x_coord + (res*int(dataframe[\"X\"].iloc[i]))))) #location x\n",
    "        f.write('{northing}\\n'.format(northing = (y_coord - (res*int(dataframe[\"Y\"].iloc[i])))))#location y # be aware! In southern Hemisphere here minus instead of plus!\n",
    "        f.close()  "
   ]
  },
  {
   "cell_type": "code",
   "execution_count": 47,
   "id": "9070c3c6-85f1-4bdc-9454-bc2c6fe36781",
   "metadata": {},
   "outputs": [],
   "source": [
    "pt_file = \"E:/W_Katrin/Kigali/Raster/2015_Pleiades_Kigali_subset_ReferencePointUL.shp\"\n",
    "create_worldfiles_img(dataframe = df_files, res =  0.4963, point_path = pt_file)"
   ]
  },
  {
   "cell_type": "code",
   "execution_count": 48,
   "id": "8b282fa2-bc41-425e-9829-90267161e5e2",
   "metadata": {},
   "outputs": [
    {
     "data": {
      "text/plain": [
       "'E:\\\\W_Katrin\\\\Kigali\\\\Raster\\\\tiles_1'"
      ]
     },
     "execution_count": 48,
     "metadata": {},
     "output_type": "execute_result"
    }
   ],
   "source": [
    "# write all paths ofpredicted masks in txt file\n",
    "os.getcwd()\n",
    "os.chdir('E:/W_Katrin/Kigali/Raster/tiles_1')\n",
    "os.getcwd()"
   ]
  },
  {
   "cell_type": "code",
   "execution_count": 49,
   "id": "65e58106-c542-472f-b729-aa1073159c0f",
   "metadata": {},
   "outputs": [],
   "source": [
    "files_list = glob.glob('*.png')\n",
    "\n",
    "with open('img_files.txt', 'w') as f:\n",
    "    for item in files_list:\n",
    "        f.write(\"%s\\n\" % item)"
   ]
  },
  {
   "cell_type": "code",
   "execution_count": 50,
   "id": "e419fd62-a655-4832-9ff0-e4525e15d16a",
   "metadata": {},
   "outputs": [
    {
     "name": "stdout",
     "output_type": "stream",
     "text": [
      "0...10...20...30...40...50...60...70...80...90...100 - done.\n"
     ]
    }
   ],
   "source": [
    "!gdalbuildvrt -input_file_list img_files.txt merged_img.vrt"
   ]
  },
  {
   "cell_type": "code",
   "execution_count": 51,
   "id": "4067c63e-f81b-4f50-8165-c532ffd2956b",
   "metadata": {},
   "outputs": [
    {
     "name": "stdout",
     "output_type": "stream",
     "text": [
      "\n",
      "Processing file     1 of     1,  0.000% completed in 0 minutes.\n",
      "Filename: merged_img.vrt\n",
      "File Size: 13312x8448x3\n",
      "Pixel Size: 0.496300 x -0.496300\n",
      "UL:(173723.113572,9789230.950045)   LR:(180329.859172,9785038.207645)\n",
      "Copy 0,0,13312,8448 to 0,0,13312,8448.\n",
      "Copy 0,0,13312,8448 to 0,0,13312,8448.\n",
      "Copy 0,0,13312,8448 to 0,0,13312,8448.\n"
     ]
    },
    {
     "name": "stderr",
     "output_type": "stream",
     "text": [
      "ERROR 4: init: No such file or directory\n",
      "ERROR 4: 255: No such file or directory\n"
     ]
    }
   ],
   "source": [
    "!python \"E:\\W_Katrin\\miniconda3\\envs\\tue_dl2\\Lib\\site-packages\\GDAL-3.4.1-py3.10-win-amd64.egg-info\\scripts\\gdal_merge.py\" -init 255 -o img_predicted_mosaic_2.tif -of GTiff -v merged_img.vrt"
   ]
  },
  {
   "cell_type": "markdown",
   "id": "a1016b89-98cc-48a4-83ec-a33353af6cc9",
   "metadata": {},
   "source": [
    "### Other stuff"
   ]
  },
  {
   "cell_type": "code",
   "execution_count": null,
   "id": "66f76934-b2d8-4a3b-8dd7-731e27715007",
   "metadata": {},
   "outputs": [],
   "source": [
    "!python \"E:\\W_Katrin\\miniconda3\\envs\\tue_dl2\\Lib\\site-packages\\GDAL-3.4.1-py3.10-win-amd64.egg-info\\scripts\\gdal_merge.py\" init 255 -o mask_predicted_mosaic_2.tif -of GTiff -v merged.vrt"
   ]
  },
  {
   "cell_type": "code",
   "execution_count": null,
   "id": "36b6966e-bc85-4f1a-aa21-a832cb48386c",
   "metadata": {},
   "outputs": [],
   "source": [
    "gdalwarp -t_srs EPSG:32736"
   ]
  },
  {
   "cell_type": "code",
   "execution_count": 76,
   "id": "600d80bf-f02b-4ebd-b782-cdb510ec3e5a",
   "metadata": {},
   "outputs": [],
   "source": [
    "#with gdal merge? !no seperate!\n",
    "import subprocess\n",
    "files_list = glob.glob('*.tif')\n",
    "#files_list = files_list[:2]\n",
    "\n",
    "\n",
    "\n",
    "#print(files_list)\n",
    "\n",
    "files_string = \" \".join(files_list)\n",
    "gdal_merge_loc = \"E:\\W_Katrin\\miniconda3\\envs\\tue_dl2\\Lib\\site-packages\\GDAL-3.4.1-py3.10-win-amd64.egg-info\\scripts\\gdal_merge.py\"\n",
    "#cmd = python + gdal_merge_loc + \"-init 255 -o mask_predicted_mosaic_2.jpg -of JPEG -v\" + files_string\n",
    "\n",
    "#os.system(cmd)"
   ]
  },
  {
   "cell_type": "code",
   "execution_count": 91,
   "id": "d18edaf5-886d-4e57-83ba-034124f02338",
   "metadata": {},
   "outputs": [
    {
     "name": "stderr",
     "output_type": "stream",
     "text": [
      "Traceback (most recent call last):\n",
      "  File \"E:\\W_Katrin\\miniconda3\\envs\\tue_dl2\\Scripts\\gdal_merge.py\", line 4, in <module>\n",
      "    __import__('pkg_resources').run_script('GDAL==3.4.1', 'gdal_merge.py')\n",
      "  File \"C:\\Python27\\ArcGIS10.6\\lib\\site-packages\\pkg_resources\\__init__.py\", line 3017, in <module>\n",
      "    @_call_aside\n",
      "  File \"C:\\Python27\\ArcGIS10.6\\lib\\site-packages\\pkg_resources\\__init__.py\", line 3003, in _call_aside\n",
      "    f(*args, **kwargs)\n",
      "  File \"C:\\Python27\\ArcGIS10.6\\lib\\site-packages\\pkg_resources\\__init__.py\", line 3030, in _initialize_master_working_set\n",
      "    working_set = WorkingSet._build_master()\n",
      "  File \"C:\\Python27\\ArcGIS10.6\\lib\\site-packages\\pkg_resources\\__init__.py\", line 659, in _build_master\n",
      "    ws.require(__requires__)\n",
      "  File \"C:\\Python27\\ArcGIS10.6\\lib\\site-packages\\pkg_resources\\__init__.py\", line 967, in require\n",
      "    needed = self.resolve(parse_requirements(requirements))\n",
      "  File \"C:\\Python27\\ArcGIS10.6\\lib\\site-packages\\pkg_resources\\__init__.py\", line 853, in resolve\n",
      "    raise DistributionNotFound(req, requirers)\n",
      "pkg_resources.DistributionNotFound: The 'GDAL==3.4.1' distribution was not found and is required by the application\n"
     ]
    }
   ],
   "source": [
    "!gdal_merge.py -o mask_predicted_mosaic_1.tif -of GTiff merged.vrt"
   ]
  },
  {
   "cell_type": "code",
   "execution_count": null,
   "id": "aac2919e-de06-4f90-a6d9-4f1b0fb7f591",
   "metadata": {},
   "outputs": [],
   "source": [
    "!gdalbuildvrt -input_file_list mask_files.txt merged.vrt"
   ]
  },
  {
   "cell_type": "code",
   "execution_count": null,
   "id": "bfc0d4c7-4c15-4f1f-a9bc-a6047cb65a1b",
   "metadata": {},
   "outputs": [],
   "source": []
  }
 ],
 "metadata": {
  "kernelspec": {
   "display_name": "Python 3 (ipykernel)",
   "language": "python",
   "name": "python3"
  },
  "language_info": {
   "codemirror_mode": {
    "name": "ipython",
    "version": 3
   },
   "file_extension": ".py",
   "mimetype": "text/x-python",
   "name": "python",
   "nbconvert_exporter": "python",
   "pygments_lexer": "ipython3",
   "version": "3.10.2"
  }
 },
 "nbformat": 4,
 "nbformat_minor": 5
}
