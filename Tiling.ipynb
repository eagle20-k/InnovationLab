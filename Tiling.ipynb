{
 "cells": [
  {
   "cell_type": "markdown",
   "id": "e3fade1f-3bfa-4a6a-a1cf-30271cecc2a6",
   "metadata": {},
   "source": [
    "# Tiling"
   ]
  },
  {
   "cell_type": "markdown",
   "id": "25118283-e3a1-47b7-8d6a-4f90c1352cb0",
   "metadata": {},
   "source": [
    "### Before the data can be used in the model, they have to tiled to 256x256\n"
   ]
  },
  {
   "cell_type": "markdown",
   "id": "7092c1fa-a0ee-4092-90b3-9c612049aea3",
   "metadata": {},
   "source": [
    "https://towardsdatascience.com/efficiently-splitting-an-image-into-tiles-in-python-using-numpy-d1bf0dd7b6f7"
   ]
  },
  {
   "cell_type": "markdown",
   "id": "4dde8924-0c3f-4ec4-84dc-902e0cdc9836",
   "metadata": {},
   "source": [
    "TODO\n",
    "1) Tif lesen, georeferenzierten Punkt oben links für späteres Nutzen erstellen \n",
    "2) JPEG erstellen\n",
    "3) tiling\n",
    "4) Klassifizierung \n",
    "5) wieder zusammensetzten der Tiles \n",
    "6) Georeferenzierung wieder hinzufügen "
   ]
  },
  {
   "cell_type": "code",
   "execution_count": 2,
   "id": "7ffec791-bd33-476b-814f-7f8884355b40",
   "metadata": {},
   "outputs": [],
   "source": [
    "import os\n",
    "import sys\n",
    "from PIL import Image\n",
    "from osgeo import gdal\n",
    "import numpy as np\n",
    "import rasterio\n",
    "from osgeo import osr\n",
    "import geopandas as gpd\n",
    "from shapely.geometry import Point\n",
    "from pyproj import CRS"
   ]
  },
  {
   "cell_type": "code",
   "execution_count": 39,
   "id": "1e8124d8-7595-42f0-96f2-91e8ed92dccc",
   "metadata": {},
   "outputs": [],
   "source": [
    "savedir = \"E:/W_Katrin/Kigali/Raster/tiles\"\n",
    "filename = \"E:/W_Katrin/Kigali/Raster/2015_Pleiades_Kigali_subset.tif\""
   ]
  },
  {
   "cell_type": "markdown",
   "id": "d8ec884c-e82e-454f-bf8e-9b7712547b5d",
   "metadata": {},
   "source": [
    "## Create Point for later Georeferencing"
   ]
  },
  {
   "cell_type": "code",
   "execution_count": 107,
   "id": "a8593b19-3274-41c9-bef8-c7a316b45bce",
   "metadata": {},
   "outputs": [
    {
     "name": "stdout",
     "output_type": "stream",
     "text": [
      "SRC_CRS: 32736\n",
      "Point: POINT (173723.36172185623 9789230.701895246)\n",
      "GeoDataFrame CRS: epsg:32736\n"
     ]
    }
   ],
   "source": [
    "# get coordinates from raster\n",
    "src = gdal.Open(filename)\n",
    "\n",
    "ulx, xres, xskew, uly, yskew, yres  = src.GetGeoTransform() # ulx, uly = upper left x and y values\n",
    "\n",
    "# get projection from raster\n",
    "wkt = src.GetProjection()\n",
    "src_crs = osr.SpatialReference(wkt).GetAttrValue('AUTHORITY',1)\n",
    "print(\"SRC_CRS:\", src_crs)\n",
    "\n",
    "# create Point \n",
    "point = Point(ulx, uly)\n",
    "print(\"Point:\", point)\n",
    "\n",
    "#create new GeoDataFrame to save the point in\n",
    "newdata = gpd.GeoDataFrame()\n",
    "newdata['geometry'] = None\n",
    "newdata.loc[0, 'geometry'] = point\n",
    "\n",
    "# Set the GeoDataFrame's coordinate system to the same as the src raster \n",
    "newdata.crs = CRS.from_epsg(src_crs)\n",
    "print(\"GeoDataFrame CRS:\", newdata.crs)\n",
    "\n",
    "#save GeoDataFrame\n",
    "outfp = \"E:/W_Katrin/Kigali/Raster/2015_Pleiades_Kigali_subset_ReferencePointUL.shp\"\n",
    "newdata.to_file(outfp)"
   ]
  },
  {
   "cell_type": "code",
   "execution_count": null,
   "id": "6361cdfc-f27e-4ba1-b6aa-d3e101357654",
   "metadata": {},
   "outputs": [],
   "source": [
    "import subprocess as sp\n",
    "command = \"E:\\W_Katrin\\miniconda3\\pkgs\\gdal-3.4.1-py310h2a306c7_3\\Scripts\\gdal_edit.py -unsetgt E:/W_Katrin/Kigali/Raster/2015_Pleiades_Kigali_subset_copy.tif\"\n",
    "os.system(command)"
   ]
  },
  {
   "cell_type": "raw",
   "id": "759cac79-199b-4d33-9ac6-fe1b704bd56e",
   "metadata": {},
   "source": [
    "\n",
    "import osgeo_utils.gdal_edit as gdal_edit\n",
    "\n",
    "gdal_edit.main(\"-unsetgt E:/W_Katrin/Kigali/Raster/2015_Pleiades_Kigali_subset_copy.tif\")\n"
   ]
  },
  {
   "cell_type": "code",
   "execution_count": null,
   "id": "690aff59-34c6-469a-b768-b14d316af3b2",
   "metadata": {},
   "outputs": [],
   "source": [
    "import subprocess as sp\n",
    "\n",
    "#locate your gdal_edit script\n",
    "gdaledit = r\"E:\\W_Katrin\\miniconda3\\pkgs\\gdal-3.4.1-py310h2a306c7_3\\Scripts\\gdal_edit.py\"\n",
    "\n",
    "#input data \n",
    "srcdata = 'E:/W_Katrin/Kigali/Raster/2015_Pleiades_Kigali_subset_copy.tif'\n",
    "\n",
    "cmd = [gdaledit, '-unsetgt', srcdata]\n",
    "sp.check_call(cmd, shell=True)"
   ]
  },
  {
   "cell_type": "code",
   "execution_count": 65,
   "id": "26165853-4234-496d-b079-905f663cedbe",
   "metadata": {},
   "outputs": [
    {
     "name": "stderr",
     "output_type": "stream",
     "text": [
      "Der Befehl \"gdal_edit\" ist entweder falsch geschrieben oder\n",
      "konnte nicht gefunden werden.\n"
     ]
    }
   ],
   "source": [
    "!gdal_edit -unsetgt E:/W_Katrin/Kigali/Raster/2015_Pleiades_Kigali_subset_copy.tif"
   ]
  },
  {
   "cell_type": "markdown",
   "id": "f78dd7bb-1123-40f2-add3-5d354f7ff891",
   "metadata": {},
   "source": [
    "## Convert Tif to JPEG\n",
    "#### using gdal translate\n",
    "https://gis.stackexchange.com/questions/42584/how-to-call-gdal-translate-from-python-code"
   ]
  },
  {
   "cell_type": "code",
   "execution_count": 17,
   "id": "c5bd326a-feb2-46c3-b3a4-5d862031337c",
   "metadata": {},
   "outputs": [],
   "source": [
    "# out_ds = \"E:/W_Katrin/Kigali/Raster/2015_Pleiades_Kigali_subset_RGB_4.jpg\""
   ]
  },
  {
   "cell_type": "code",
   "execution_count": 67,
   "id": "f7530d6b-333c-4caa-bad1-f60b3ff29e1b",
   "metadata": {},
   "outputs": [
    {
     "name": "stdout",
     "output_type": "stream",
     "text": [
      "Input file size is 13162, 8267\n",
      "0...10...20...30...40...50...60...70...80...90...100 - done."
     ]
    },
    {
     "name": "stderr",
     "output_type": "stream",
     "text": [
      "Warning 6: JPEG driver doesn't support data type Float32. Only eight bit byte bands supported.\n",
      "\n"
     ]
    },
    {
     "name": "stdout",
     "output_type": "stream",
     "text": [
      "\n"
     ]
    }
   ],
   "source": [
    "!gdal_translate -of JPEG -b 1 -b 2 -b 3 -scale E:/W_Katrin/Kigali/Raster/2015_Pleiades_Kigali_subset.tif E:/W_Katrin/Kigali/Raster/2015_Pleiades_Kigali_subset_RGB.jpg"
   ]
  },
  {
   "cell_type": "code",
   "execution_count": 9,
   "id": "a52d747d-30fa-4293-b0ee-a455fe9784bb",
   "metadata": {},
   "outputs": [
    {
     "name": "stdout",
     "output_type": "stream",
     "text": [
      "Python 3.10.2\n"
     ]
    }
   ],
   "source": [
    "!python --version"
   ]
  },
  {
   "cell_type": "code",
   "execution_count": 4,
   "id": "26e03168-7121-45a8-a418-bb7360d98c06",
   "metadata": {},
   "outputs": [
    {
     "name": "stdout",
     "output_type": "stream",
     "text": [
      "Driver: JPEG/JPEG JFIF\n",
      "Files: E:/W_Katrin/Kigali/Raster/2015_Pleiades_Kigali_subset_RGB.jpg\n",
      "       E:/W_Katrin/Kigali/Raster/2015_Pleiades_Kigali_subset_RGB.jpg.aux.xml\n",
      "Size is 13162, 8267\n",
      "Coordinate System is:\n",
      "PROJCRS[\"WGS 84 / UTM zone 36S\",\n",
      "    BASEGEOGCRS[\"WGS 84\",\n",
      "        DATUM[\"World Geodetic System 1984\",\n",
      "            ELLIPSOID[\"WGS 84\",6378137,298.257223563,\n",
      "                LENGTHUNIT[\"metre\",1]]],\n",
      "        PRIMEM[\"Greenwich\",0,\n",
      "            ANGLEUNIT[\"degree\",0.0174532925199433]],\n",
      "        ID[\"EPSG\",4326]],\n",
      "    CONVERSION[\"UTM zone 36S\",\n",
      "        METHOD[\"Transverse Mercator\",\n",
      "            ID[\"EPSG\",9807]],\n",
      "        PARAMETER[\"Latitude of natural origin\",0,\n",
      "            ANGLEUNIT[\"degree\",0.0174532925199433],\n",
      "            ID[\"EPSG\",8801]],\n",
      "        PARAMETER[\"Longitude of natural origin\",33,\n",
      "            ANGLEUNIT[\"degree\",0.0174532925199433],\n",
      "            ID[\"EPSG\",8802]],\n",
      "        PARAMETER[\"Scale factor at natural origin\",0.9996,\n",
      "            SCALEUNIT[\"unity\",1],\n",
      "            ID[\"EPSG\",8805]],\n",
      "        PARAMETER[\"False easting\",500000,\n",
      "            LENGTHUNIT[\"metre\",1],\n",
      "            ID[\"EPSG\",8806]],\n",
      "        PARAMETER[\"False northing\",10000000,\n",
      "            LENGTHUNIT[\"metre\",1],\n",
      "            ID[\"EPSG\",8807]]],\n",
      "    CS[Cartesian,2],\n",
      "        AXIS[\"easting\",east,\n",
      "            ORDER[1],\n",
      "            LENGTHUNIT[\"metre\",1]],\n",
      "        AXIS[\"northing\",north,\n",
      "            ORDER[2],\n",
      "            LENGTHUNIT[\"metre\",1]],\n",
      "    ID[\"EPSG\",32736]]\n",
      "Data axis to CRS axis mapping: 1,2\n",
      "Origin = (173723.361721856228542,9789230.701895246282220)\n",
      "Pixel Size = (0.496305457311709,-0.496305457311709)\n",
      "Metadata:\n",
      "  AREA_OR_POINT=Area\n",
      "Image Structure Metadata:\n",
      "  COMPRESSION=JPEG\n",
      "  INTERLEAVE=PIXEL\n",
      "  SOURCE_COLOR_SPACE=YCbCr\n",
      "Corner Coordinates:\n",
      "Upper Left  (  173723.362, 9789230.702) ( 30d 4' 3.04\"E,  1d54'15.76\"S)\n",
      "Lower Left  (  173723.362, 9785127.745) ( 30d 4' 2.81\"E,  1d56'29.21\"S)\n",
      "Upper Right (  180255.734, 9789230.702) ( 30d 7'34.22\"E,  1d54'16.11\"S)\n",
      "Lower Right (  180255.734, 9785127.745) ( 30d 7'34.00\"E,  1d56'29.58\"S)\n",
      "Center      (  176989.548, 9787179.223) ( 30d 5'48.52\"E,  1d55'22.67\"S)\n",
      "Band 1 Block=13162x1 Type=Byte, ColorInterp=Red\n",
      "  Description = Layer_1\n",
      "  Min=4.000 Max=245.000 \n",
      "  Minimum=4.000, Maximum=245.000, Mean=28.065, StdDev=11.033\n",
      "  NoData Value=nan\n",
      "  Overviews: 6581x4134, 3291x2067, 1646x1034\n",
      "  Metadata:\n",
      "    LAYER_TYPE=athematic\n",
      "    OVERVIEWS_ALGORITHM=ErdasBino3\n",
      "    STATISTICS_APPROXIMATE=YES\n",
      "    STATISTICS_MAXIMUM=245\n",
      "    STATISTICS_MEAN=28.064788091875\n",
      "    STATISTICS_MINIMUM=4\n",
      "    STATISTICS_STDDEV=11.032859133288\n",
      "    STATISTICS_VALID_PERCENT=100\n",
      "  Image Structure Metadata:\n",
      "    COMPRESSION=JPEG\n",
      "Band 2 Block=13162x1 Type=Byte, ColorInterp=Green\n",
      "  Description = Layer_2\n",
      "  Min=6.000 Max=254.000 \n",
      "  Minimum=6.000, Maximum=254.000, Mean=23.019, StdDev=7.271\n",
      "  NoData Value=nan\n",
      "  Overviews: 6581x4134, 3291x2067, 1646x1034\n",
      "  Metadata:\n",
      "    LAYER_TYPE=athematic\n",
      "    OVERVIEWS_ALGORITHM=ErdasBino3\n",
      "    STATISTICS_APPROXIMATE=YES\n",
      "    STATISTICS_MAXIMUM=254\n",
      "    STATISTICS_MEAN=23.019072083781\n",
      "    STATISTICS_MINIMUM=6\n",
      "    STATISTICS_STDDEV=7.2711055980295\n",
      "    STATISTICS_VALID_PERCENT=100\n",
      "  Image Structure Metadata:\n",
      "    COMPRESSION=JPEG\n",
      "Band 3 Block=13162x1 Type=Byte, ColorInterp=Blue\n",
      "  Description = Layer_3\n",
      "  Min=21.000 Max=253.000 \n",
      "  Minimum=21.000, Maximum=253.000, Mean=36.518, StdDev=6.378\n",
      "  NoData Value=nan\n",
      "  Overviews: 6581x4134, 3291x2067, 1646x1034\n",
      "  Metadata:\n",
      "    LAYER_TYPE=athematic\n",
      "    OVERVIEWS_ALGORITHM=ErdasBino3\n",
      "    STATISTICS_APPROXIMATE=YES\n",
      "    STATISTICS_MAXIMUM=253\n",
      "    STATISTICS_MEAN=36.517727754524\n",
      "    STATISTICS_MINIMUM=21\n",
      "    STATISTICS_STDDEV=6.3783566873936\n",
      "    STATISTICS_VALID_PERCENT=100\n",
      "  Image Structure Metadata:\n",
      "    COMPRESSION=JPEG\n"
     ]
    }
   ],
   "source": [
    "dst = gdal.Open(\"E:/W_Katrin/Kigali/Raster/2015_Pleiades_Kigali_subset_RGB.jpg\")\n",
    "dst.GetMetadata()\n",
    "!gdalinfo E:/W_Katrin/Kigali/Raster/2015_Pleiades_Kigali_subset_RGB.jpg"
   ]
  },
  {
   "cell_type": "markdown",
   "id": "99e2d8d8-b429-4137-be1d-35463329d7a9",
   "metadata": {},
   "source": [
    "# TILING"
   ]
  },
  {
   "cell_type": "code",
   "execution_count": 69,
   "id": "a63c8e19-251d-477e-b6a2-b29fa3d4f3bf",
   "metadata": {},
   "outputs": [],
   "source": [
    "# define tiling function \n",
    "def tiling(filename, savedir, target_size): \n",
    "    img = Image.open(filename)\n",
    "    width, height = img.size\n",
    "    start_pos = start_x, start_y = (0, 0)\n",
    "    cropped_image_size = w, h = target_size\n",
    "    frame_num = 1\n",
    "    for col_i in range(0, width, w):\n",
    "        for row_i in range(0, height, h):\n",
    "            crop = img.crop((col_i, row_i, col_i + w, row_i + h))\n",
    "            save_to= os.path.join(savedir, \"testing_{row}_{col}.jpg\".format(row=row_i, col=col_i))\n",
    "            crop.save(save_to)\n"
   ]
  },
  {
   "cell_type": "code",
   "execution_count": 72,
   "id": "25b11eb1-ed7a-4a1f-9a49-6eb2ea952927",
   "metadata": {},
   "outputs": [],
   "source": [
    "# run tiling\n",
    "import warnings\n",
    "savedir = \"E:/W_Katrin/Kigali/Raster/tiles\"\n",
    "filename = \"E:/W_Katrin/Kigali/Raster/2015_Pleiades_Kigali_subset_RGB.jpg\"\n",
    "\n",
    "warnings.simplefilter('ignore', Image.DecompressionBombWarning)\n",
    "\n",
    "tiling(filename, savedir, target_size = (256,256))"
   ]
  },
  {
   "cell_type": "markdown",
   "id": "c3b8e9e2-9b8c-4d10-a023-0be7bb9e5eba",
   "metadata": {},
   "source": [
    "## TODO\n",
    "\n",
    "develop code to enter many images and return tiles in a logical way (also think of mask pixels!!) \n",
    "\n",
    "Problem: we have images, but we need the mask to be tiled at the same location the exact same way!"
   ]
  },
  {
   "cell_type": "code",
   "execution_count": null,
   "id": "fe4e5c53-da32-4084-9de5-a6b51730771b",
   "metadata": {},
   "outputs": [],
   "source": []
  }
 ],
 "metadata": {
  "kernelspec": {
   "display_name": "Python 3 (ipykernel)",
   "language": "python",
   "name": "python3"
  },
  "language_info": {
   "codemirror_mode": {
    "name": "ipython",
    "version": 3
   },
   "file_extension": ".py",
   "mimetype": "text/x-python",
   "name": "python",
   "nbconvert_exporter": "python",
   "pygments_lexer": "ipython3",
   "version": "3.10.2"
  }
 },
 "nbformat": 4,
 "nbformat_minor": 5
}
