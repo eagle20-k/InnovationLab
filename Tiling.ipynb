{
 "cells": [
  {
   "cell_type": "markdown",
   "id": "e3fade1f-3bfa-4a6a-a1cf-30271cecc2a6",
   "metadata": {},
   "source": [
    "# Tiling"
   ]
  },
  {
   "cell_type": "markdown",
   "id": "25118283-e3a1-47b7-8d6a-4f90c1352cb0",
   "metadata": {},
   "source": [
    "### Before the data can be used in the model, they have to tiled to 256x256\n"
   ]
  },
  {
   "cell_type": "markdown",
   "id": "7092c1fa-a0ee-4092-90b3-9c612049aea3",
   "metadata": {},
   "source": [
    "https://towardsdatascience.com/efficiently-splitting-an-image-into-tiles-in-python-using-numpy-d1bf0dd7b6f7"
   ]
  },
  {
   "cell_type": "markdown",
   "id": "4dde8924-0c3f-4ec4-84dc-902e0cdc9836",
   "metadata": {},
   "source": [
    "TODO\n",
    "1) Tif lesen, georeferenzierten Punkt oben links für späteres Nutzen erstellen \n",
    "2) JPEG erstellen\n",
    "3) tiling\n",
    "4) Klassifizierung \n",
    "5) wieder zusammensetzten der Tiles \n",
    "6) Georeferenzierung wieder hinzufügen "
   ]
  },
  {
   "cell_type": "code",
   "execution_count": 74,
   "id": "7ffec791-bd33-476b-814f-7f8884355b40",
   "metadata": {},
   "outputs": [],
   "source": [
    "import os\n",
    "import sys\n",
    "from PIL import Image\n",
    "from osgeo import gdal\n",
    "import numpy as np\n",
    "import rasterio\n",
    "from osgeo import osr\n",
    "import geopandas as gpd\n",
    "from shapely.geometry import Point\n",
    "from pyproj import CRS"
   ]
  },
  {
   "cell_type": "code",
   "execution_count": 39,
   "id": "1e8124d8-7595-42f0-96f2-91e8ed92dccc",
   "metadata": {},
   "outputs": [],
   "source": [
    "savedir = \"E:/W_Katrin/Kigali/Raster/tiles\"\n",
    "filename = \"E:/W_Katrin/Kigali/Raster/2015_Pleiades_Kigali_subset.tif\""
   ]
  },
  {
   "cell_type": "markdown",
   "id": "d8ec884c-e82e-454f-bf8e-9b7712547b5d",
   "metadata": {},
   "source": [
    "## Create Point for later Georeferencing"
   ]
  },
  {
   "cell_type": "code",
   "execution_count": 107,
   "id": "a8593b19-3274-41c9-bef8-c7a316b45bce",
   "metadata": {},
   "outputs": [
    {
     "name": "stdout",
     "output_type": "stream",
     "text": [
      "SRC_CRS: 32736\n",
      "Point: POINT (173723.36172185623 9789230.701895246)\n",
      "GeoDataFrame CRS: epsg:32736\n"
     ]
    }
   ],
   "source": [
    "# get coordinates from raster\n",
    "src = gdal.Open(filename)\n",
    "\n",
    "ulx, xres, xskew, uly, yskew, yres  = src.GetGeoTransform() # ulx, uly = upper left x and y values\n",
    "\n",
    "# get projection from raster\n",
    "wkt = src.GetProjection()\n",
    "src_crs = osr.SpatialReference(wkt).GetAttrValue('AUTHORITY',1)\n",
    "print(\"SRC_CRS:\", src_crs)\n",
    "\n",
    "# create Point \n",
    "point = Point(ulx, uly)\n",
    "print(\"Point:\", point)\n",
    "\n",
    "#create new GeoDataFrame to save the point in\n",
    "newdata = gpd.GeoDataFrame()\n",
    "newdata['geometry'] = None\n",
    "newdata.loc[0, 'geometry'] = point\n",
    "\n",
    "# Set the GeoDataFrame's coordinate system to the same as the src raster \n",
    "newdata.crs = CRS.from_epsg(src_crs)\n",
    "print(\"GeoDataFrame CRS:\", newdata.crs)\n",
    "\n",
    "#save GeoDataFrame\n",
    "outfp = \"E:/W_Katrin/Kigali/Raster/2015_Pleiades_Kigali_subset_ReferencePointUL.shp\"\n",
    "newdata.to_file(outfp)"
   ]
  },
  {
   "cell_type": "code",
   "execution_count": null,
   "id": "6361cdfc-f27e-4ba1-b6aa-d3e101357654",
   "metadata": {},
   "outputs": [],
   "source": [
    "import subprocess as sp\n",
    "command = \"E:\\W_Katrin\\miniconda3\\pkgs\\gdal-3.4.1-py310h2a306c7_3\\Scripts\\gdal_edit.py -unsetgt E:/W_Katrin/Kigali/Raster/2015_Pleiades_Kigali_subset_copy.tif\"\n",
    "os.system(command)"
   ]
  },
  {
   "cell_type": "raw",
   "id": "759cac79-199b-4d33-9ac6-fe1b704bd56e",
   "metadata": {},
   "source": [
    "\n",
    "import osgeo_utils.gdal_edit as gdal_edit\n",
    "\n",
    "gdal_edit.main(\"-unsetgt E:/W_Katrin/Kigali/Raster/2015_Pleiades_Kigali_subset_copy.tif\")\n"
   ]
  },
  {
   "cell_type": "code",
   "execution_count": null,
   "id": "690aff59-34c6-469a-b768-b14d316af3b2",
   "metadata": {},
   "outputs": [],
   "source": [
    "import subprocess as sp\n",
    "\n",
    "#locate your gdal_edit script\n",
    "gdaledit = r\"E:\\W_Katrin\\miniconda3\\pkgs\\gdal-3.4.1-py310h2a306c7_3\\Scripts\\gdal_edit.py\"\n",
    "\n",
    "#input data \n",
    "srcdata = 'E:/W_Katrin/Kigali/Raster/2015_Pleiades_Kigali_subset_copy.tif'\n",
    "\n",
    "cmd = [gdaledit, '-unsetgt', srcdata]\n",
    "sp.check_call(cmd, shell=True)"
   ]
  },
  {
   "cell_type": "code",
   "execution_count": 65,
   "id": "26165853-4234-496d-b079-905f663cedbe",
   "metadata": {},
   "outputs": [
    {
     "name": "stderr",
     "output_type": "stream",
     "text": [
      "Der Befehl \"gdal_edit\" ist entweder falsch geschrieben oder\n",
      "konnte nicht gefunden werden.\n"
     ]
    }
   ],
   "source": [
    "!gdal_edit -unsetgt E:/W_Katrin/Kigali/Raster/2015_Pleiades_Kigali_subset_copy.tif"
   ]
  },
  {
   "cell_type": "markdown",
   "id": "f78dd7bb-1123-40f2-add3-5d354f7ff891",
   "metadata": {},
   "source": [
    "## Convert Tif to JPEG\n",
    "#### using gdal translate\n",
    "https://gis.stackexchange.com/questions/42584/how-to-call-gdal-translate-from-python-code"
   ]
  },
  {
   "cell_type": "code",
   "execution_count": 17,
   "id": "c5bd326a-feb2-46c3-b3a4-5d862031337c",
   "metadata": {},
   "outputs": [],
   "source": [
    "# out_ds = \"E:/W_Katrin/Kigali/Raster/2015_Pleiades_Kigali_subset_RGB_4.jpg\""
   ]
  },
  {
   "cell_type": "code",
   "execution_count": 67,
   "id": "f7530d6b-333c-4caa-bad1-f60b3ff29e1b",
   "metadata": {},
   "outputs": [
    {
     "name": "stdout",
     "output_type": "stream",
     "text": [
      "Input file size is 13162, 8267\n",
      "0...10...20...30...40...50...60...70...80...90...100 - done."
     ]
    },
    {
     "name": "stderr",
     "output_type": "stream",
     "text": [
      "Warning 6: JPEG driver doesn't support data type Float32. Only eight bit byte bands supported.\n",
      "\n"
     ]
    },
    {
     "name": "stdout",
     "output_type": "stream",
     "text": [
      "\n"
     ]
    }
   ],
   "source": [
    "!gdal_translate -of JPEG -b 1 -b 2 -b 3 -scale E:/W_Katrin/Kigali/Raster/2015_Pleiades_Kigali_subset.tif E:/W_Katrin/Kigali/Raster/2015_Pleiades_Kigali_subset_RGB.jpg"
   ]
  },
  {
   "cell_type": "code",
   "execution_count": null,
   "id": "26e03168-7121-45a8-a418-bb7360d98c06",
   "metadata": {},
   "outputs": [],
   "source": [
    "dst = gdal.Open(\"E:/W_Katrin/Kigali/Raster/2015_Pleiades_Kigali_subset_RGB.jpg\")\n",
    "dst.GetMetadata()\n",
    "!gdalinfo E:/W_Katrin/Kigali/Raster/2015_Pleiades_Kigali_subset_RGB_4.jpg"
   ]
  },
  {
   "cell_type": "markdown",
   "id": "99e2d8d8-b429-4137-be1d-35463329d7a9",
   "metadata": {},
   "source": [
    "# TILING"
   ]
  },
  {
   "cell_type": "code",
   "execution_count": 69,
   "id": "a63c8e19-251d-477e-b6a2-b29fa3d4f3bf",
   "metadata": {},
   "outputs": [],
   "source": [
    "# define tiling function \n",
    "def tiling(filename, savedir, target_size): \n",
    "    img = Image.open(filename)\n",
    "    width, height = img.size\n",
    "    start_pos = start_x, start_y = (0, 0)\n",
    "    cropped_image_size = w, h = target_size\n",
    "    frame_num = 1\n",
    "    for col_i in range(0, width, w):\n",
    "        for row_i in range(0, height, h):\n",
    "            crop = img.crop((col_i, row_i, col_i + w, row_i + h))\n",
    "            save_to= os.path.join(savedir, \"testing_{row}_{col}.jpg\".format(row=row_i, col=col_i))\n",
    "            crop.save(save_to)\n"
   ]
  },
  {
   "cell_type": "code",
   "execution_count": 72,
   "id": "25b11eb1-ed7a-4a1f-9a49-6eb2ea952927",
   "metadata": {},
   "outputs": [],
   "source": [
    "# run tiling\n",
    "import warnings\n",
    "savedir = \"E:/W_Katrin/Kigali/Raster/tiles\"\n",
    "filename = \"E:/W_Katrin/Kigali/Raster/2015_Pleiades_Kigali_subset_RGB.jpg\"\n",
    "\n",
    "warnings.simplefilter('ignore', Image.DecompressionBombWarning)\n",
    "\n",
    "tiling(filename, savedir, target_size = (256,256))"
   ]
  },
  {
   "cell_type": "markdown",
   "id": "c3b8e9e2-9b8c-4d10-a023-0be7bb9e5eba",
   "metadata": {},
   "source": [
    "## TODO\n",
    "\n",
    "develop code to enter many images and return tiles in a logical way (also think of mask pixels!!) \n",
    "\n",
    "Problem: we have images, but we need the mask to be tiled at the same location the exact same way!"
   ]
  },
  {
   "cell_type": "code",
   "execution_count": null,
   "id": "fe4e5c53-da32-4084-9de5-a6b51730771b",
   "metadata": {},
   "outputs": [],
   "source": []
  }
 ],
 "metadata": {
  "kernelspec": {
   "display_name": "Python 3 (ipykernel)",
   "language": "python",
   "name": "python3"
  },
  "language_info": {
   "codemirror_mode": {
    "name": "ipython",
    "version": 3
   },
   "file_extension": ".py",
   "mimetype": "text/x-python",
   "name": "python",
   "nbconvert_exporter": "python",
   "pygments_lexer": "ipython3",
   "version": "3.10.2"
  }
 },
 "nbformat": 4,
 "nbformat_minor": 5
}
