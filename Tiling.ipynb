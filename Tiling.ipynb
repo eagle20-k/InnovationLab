{
 "cells": [
  {
   "cell_type": "markdown",
   "id": "e3fade1f-3bfa-4a6a-a1cf-30271cecc2a6",
   "metadata": {},
   "source": [
    "# Tiling"
   ]
  },
  {
   "cell_type": "markdown",
   "id": "25118283-e3a1-47b7-8d6a-4f90c1352cb0",
   "metadata": {},
   "source": [
    "### Before the data can be used in the model, they have to tiled to 256x256\n"
   ]
  },
  {
   "cell_type": "markdown",
   "id": "7092c1fa-a0ee-4092-90b3-9c612049aea3",
   "metadata": {},
   "source": [
    "https://towardsdatascience.com/efficiently-splitting-an-image-into-tiles-in-python-using-numpy-d1bf0dd7b6f7"
   ]
  },
  {
   "cell_type": "markdown",
   "id": "4dde8924-0c3f-4ec4-84dc-902e0cdc9836",
   "metadata": {},
   "source": [
    "TODO\n",
    "1) Tif lesen, georeferenzierten Punkt oben links für späteres Nutzen erstellen \n",
    "2) Georeferenzierung fallen lassen\n",
    "3) tiling\n",
    "4) Klassifizierung \n",
    "5) wieder zusammensetzten der Tiles \n",
    "6) Georeferenzierung wieder hinzufügen "
   ]
  },
  {
   "cell_type": "code",
   "execution_count": null,
   "id": "7ffec791-bd33-476b-814f-7f8884355b40",
   "metadata": {},
   "outputs": [],
   "source": [
    "import os\n",
    "import sys\n",
    "from PIL import Image"
   ]
  },
  {
   "cell_type": "code",
   "execution_count": 16,
   "id": "1e8124d8-7595-42f0-96f2-91e8ed92dccc",
   "metadata": {},
   "outputs": [],
   "source": [
    "savedir = r\"E:/W_Katrin/Kigali/Raster/tiles\"\n",
    "filename = r\"E:/W_Katrin/Kigali/Raster/2015_Pleiades_Kigali_subset.tif\""
   ]
  },
  {
   "cell_type": "code",
   "execution_count": null,
   "id": "90a11b11-4d0d-4154-9fde-a61ded62e046",
   "metadata": {},
   "outputs": [],
   "source": [
    "img = Image.open(filename)\n",
    "#tiling(filename, savedir, (256, 256))"
   ]
  },
  {
   "cell_type": "code",
   "execution_count": 18,
   "id": "4c2b33de-c0a5-4e3f-b34d-19202f3ec5e5",
   "metadata": {},
   "outputs": [
    {
     "data": {
      "text/plain": [
       "<osgeo.gdal.Dataset; proxy of <Swig Object of type 'GDALDatasetShadow *' at 0x0000020F3BC19770> >"
      ]
     },
     "execution_count": 18,
     "metadata": {},
     "output_type": "execute_result"
    }
   ],
   "source": [
    "from osgeo import gdal\n",
    "dataset = gdal.Open(filename, gdal.GA_ReadOnly)\n",
    "dataset"
   ]
  },
  {
   "cell_type": "code",
   "execution_count": 19,
   "id": "b2a3a106-00c7-4eeb-8dbf-e8eaf71b2beb",
   "metadata": {},
   "outputs": [
    {
     "name": "stdout",
     "output_type": "stream",
     "text": [
      "5\n",
      "13162\n",
      "8267\n"
     ]
    }
   ],
   "source": [
    "print(dataset.RasterCount)\n",
    "  \n",
    "# width \n",
    "print(dataset.RasterXSize)\n",
    "  \n",
    "# height\n",
    "print(dataset.RasterYSize)"
   ]
  },
  {
   "cell_type": "code",
   "execution_count": 31,
   "id": "bbd19a43-f07c-4c71-ad55-8d17bb1ebb12",
   "metadata": {},
   "outputs": [
    {
     "name": "stdout",
     "output_type": "stream",
     "text": [
      "<osgeo.gdal.Dataset; proxy of <Swig Object of type 'GDALDatasetShadow *' at 0x0000020F3F0FA160> >\n",
      "E:/W_Katrin/Kigali/Raster/2015_Pleiades_Kigali_subset.jpg\n"
     ]
    },
    {
     "ename": "NameError",
     "evalue": "name 'save' is not defined",
     "output_type": "error",
     "traceback": [
      "\u001b[1;31m---------------------------------------------------------------------------\u001b[0m",
      "\u001b[1;31mNameError\u001b[0m                                 Traceback (most recent call last)",
      "Input \u001b[1;32mIn [31]\u001b[0m, in \u001b[0;36m<module>\u001b[1;34m\u001b[0m\n\u001b[0;32m      9\u001b[0m outfile \u001b[38;5;241m=\u001b[39m filename\u001b[38;5;241m.\u001b[39msplit(\u001b[38;5;124m'\u001b[39m\u001b[38;5;124m.\u001b[39m\u001b[38;5;124m'\u001b[39m)[\u001b[38;5;241m0\u001b[39m] \u001b[38;5;241m+\u001b[39m \u001b[38;5;124m'\u001b[39m\u001b[38;5;124m.jpg\u001b[39m\u001b[38;5;124m'\u001b[39m\n\u001b[0;32m     10\u001b[0m \u001b[38;5;28mprint\u001b[39m(outfile)\n\u001b[1;32m---> 11\u001b[0m \u001b[43msave\u001b[49m(im, outputfile, \u001b[38;5;124m\"\u001b[39m\u001b[38;5;124mJPEG\u001b[39m\u001b[38;5;124m\"\u001b[39m, quality\u001b[38;5;241m=\u001b[39m\u001b[38;5;241m100\u001b[39m)\n",
      "\u001b[1;31mNameError\u001b[0m: name 'save' is not defined"
     ]
    }
   ],
   "source": [
    "import cv2, os\n",
    "base_path = \"E:/W_Katrin/Kigali/Raster/\"\n",
    "new_path = \"E:/W_Katrin/Kigali/Raster/\"\n",
    "\n",
    "#print(img)\n",
    "\n",
    "im = gdal.Open(filename)\n",
    "print(im)\n",
    "\n",
    "\n",
    "outfile = filename.split('.')[0] + '.jpg'\n",
    "print(outfile)\n",
    "save(im, outputfile, \"JPEG\", quality=100)\n"
   ]
  },
  {
   "cell_type": "code",
   "execution_count": 41,
   "id": "1c1a4057-199c-401b-82ab-131dd195a10f",
   "metadata": {},
   "outputs": [
    {
     "ename": "ModuleNotFoundError",
     "evalue": "No module named 'earthpy'",
     "output_type": "error",
     "traceback": [
      "\u001b[1;31m---------------------------------------------------------------------------\u001b[0m",
      "\u001b[1;31mModuleNotFoundError\u001b[0m                       Traceback (most recent call last)",
      "Input \u001b[1;32mIn [41]\u001b[0m, in \u001b[0;36m<module>\u001b[1;34m\u001b[0m\n\u001b[0;32m      1\u001b[0m \u001b[38;5;28;01mimport\u001b[39;00m \u001b[38;5;21;01mrasterio\u001b[39;00m\n\u001b[1;32m----> 2\u001b[0m \u001b[38;5;28;01mimport\u001b[39;00m \u001b[38;5;21;01mearthpy\u001b[39;00m \u001b[38;5;28;01mas\u001b[39;00m \u001b[38;5;21;01met\u001b[39;00m\n\u001b[0;32m      3\u001b[0m \u001b[38;5;28;01mimport\u001b[39;00m \u001b[38;5;21;01mearthpy\u001b[39;00m\u001b[38;5;21;01m.\u001b[39;00m\u001b[38;5;21;01mspatial\u001b[39;00m \u001b[38;5;28;01mas\u001b[39;00m \u001b[38;5;21;01mes\u001b[39;00m\n\u001b[0;32m      4\u001b[0m \u001b[38;5;28;01mimport\u001b[39;00m \u001b[38;5;21;01mearthpy\u001b[39;00m\u001b[38;5;21;01m.\u001b[39;00m\u001b[38;5;21;01mplot\u001b[39;00m \u001b[38;5;28;01mas\u001b[39;00m \u001b[38;5;21;01mep\u001b[39;00m\n",
      "\u001b[1;31mModuleNotFoundError\u001b[0m: No module named 'earthpy'"
     ]
    }
   ],
   "source": [
    "import rasterio\n",
    "import earthpy as et\n",
    "import earthpy.spatial as es\n",
    "import earthpy.plot as ep\n",
    "\n",
    "raster = rasterio.open(\"E:/W_Katrin/Kigali/Raster/2015_Pleiades_Kigali_subset.tif\")\n",
    "raster\n",
    "band1 = raster.read(1)\n",
    "band2 = raster.read(2)\n",
    "band3 = raster.read(3)\n",
    "\n",
    "rasterRGB = es.stack(band1, band2, band3)\n"
   ]
  },
  {
   "cell_type": "code",
   "execution_count": 42,
   "id": "f5522c38-b156-4478-bdde-3afea21725e2",
   "metadata": {},
   "outputs": [
    {
     "name": "stdout",
     "output_type": "stream",
     "text": [
      "{'driver': 'GTiff', 'dtype': 'float32', 'nodata': nan, 'width': 13162, 'height': 8267, 'count': 5, 'crs': CRS.from_epsg(32736), 'transform': Affine(0.4963054573117089, 0.0, 173723.36172185623,\n",
      "       0.0, -0.4963054573117089, 9789230.701895246)}\n",
      "{'driver': 'JPEG', 'dtype': 'float32', 'nodata': nan, 'width': 13162, 'height': 8267, 'count': 5, 'crs': None, 'transform': None}\n"
     ]
    },
    {
     "ename": "CPLE_NotSupportedError",
     "evalue": "JPEG driver doesn't support 5 bands.  Must be 1 (grey), 3 (RGB) or 4 bands (CMYK). ",
     "output_type": "error",
     "traceback": [
      "\u001b[1;31m---------------------------------------------------------------------------\u001b[0m",
      "\u001b[1;31mInvalidArrayError\u001b[0m                         Traceback (most recent call last)",
      "Input \u001b[1;32mIn [42]\u001b[0m, in \u001b[0;36m<module>\u001b[1;34m\u001b[0m\n\u001b[0;32m     11\u001b[0m \u001b[38;5;28;01mwith\u001b[39;00m rasterio\u001b[38;5;241m.\u001b[39mopen(outraster, \u001b[38;5;124m\"\u001b[39m\u001b[38;5;124mw\u001b[39m\u001b[38;5;124m\"\u001b[39m, \u001b[38;5;241m*\u001b[39m\u001b[38;5;241m*\u001b[39mout_meta) \u001b[38;5;28;01mas\u001b[39;00m dest:\n\u001b[1;32m---> 12\u001b[0m        \u001b[43mdest\u001b[49m\u001b[38;5;241;43m.\u001b[39;49m\u001b[43mwrite\u001b[49m\u001b[43m(\u001b[49m\u001b[43mraster\u001b[49m\u001b[43m)\u001b[49m\n",
      "File \u001b[1;32mrasterio\\_io.pyx:1349\u001b[0m, in \u001b[0;36mrasterio._io.DatasetWriterBase.write\u001b[1;34m()\u001b[0m\n",
      "\u001b[1;31mInvalidArrayError\u001b[0m: Positional argument arr must be an array-like object",
      "\nDuring handling of the above exception, another exception occurred:\n",
      "\u001b[1;31mCPLE_NotSupportedError\u001b[0m                    Traceback (most recent call last)",
      "Input \u001b[1;32mIn [42]\u001b[0m, in \u001b[0;36m<module>\u001b[1;34m\u001b[0m\n\u001b[0;32m      8\u001b[0m \u001b[38;5;28mprint\u001b[39m(out_meta)\n\u001b[0;32m     10\u001b[0m outraster \u001b[38;5;241m=\u001b[39m \u001b[38;5;124m\"\u001b[39m\u001b[38;5;124mE:/W_Katrin/Kigali/Raster/2015_Pleiades_Kigali_subset.jpg\u001b[39m\u001b[38;5;124m\"\u001b[39m\n\u001b[1;32m---> 11\u001b[0m \u001b[38;5;28;01mwith\u001b[39;00m rasterio\u001b[38;5;241m.\u001b[39mopen(outraster, \u001b[38;5;124m\"\u001b[39m\u001b[38;5;124mw\u001b[39m\u001b[38;5;124m\"\u001b[39m, \u001b[38;5;241m*\u001b[39m\u001b[38;5;241m*\u001b[39mout_meta) \u001b[38;5;28;01mas\u001b[39;00m dest:\n\u001b[0;32m     12\u001b[0m        dest\u001b[38;5;241m.\u001b[39mwrite(raster)\n",
      "File \u001b[1;32mrasterio\\_base.pyx:395\u001b[0m, in \u001b[0;36mrasterio._base.DatasetBase.__exit__\u001b[1;34m()\u001b[0m\n",
      "File \u001b[1;32mrasterio\\_base.pyx:386\u001b[0m, in \u001b[0;36mrasterio._base.DatasetBase.close\u001b[1;34m()\u001b[0m\n",
      "File \u001b[1;32mrasterio\\_io.pyx:2125\u001b[0m, in \u001b[0;36mrasterio._io.BufferedDatasetWriterBase.stop\u001b[1;34m()\u001b[0m\n",
      "File \u001b[1;32mrasterio\\_err.pyx:216\u001b[0m, in \u001b[0;36mrasterio._err.exc_wrap_pointer\u001b[1;34m()\u001b[0m\n",
      "\u001b[1;31mCPLE_NotSupportedError\u001b[0m: JPEG driver doesn't support 5 bands.  Must be 1 (grey), 3 (RGB) or 4 bands (CMYK). "
     ]
    }
   ],
   "source": [
    "out_meta = raster.meta.copy()\n",
    "print(out_meta)\n",
    "# save out_meta for later use!!\n",
    "\n",
    "out_meta.update({\"driver\": \"JPEG\",\n",
    "                 \"transform\": None,\n",
    "                 \"crs\": None}\n",
    "                         )\n",
    "print(out_meta)\n",
    "\n",
    "outraster = \"E:/W_Katrin/Kigali/Raster/2015_Pleiades_Kigali_subset.jpg\"\n",
    "with rasterio.open(outraster, \"w\", **out_meta) as dest:\n",
    "       dest.write(raster)"
   ]
  },
  {
   "cell_type": "markdown",
   "id": "bf3e87ef-7c9c-41a0-bdb6-b368f7c6adf1",
   "metadata": {},
   "source": [
    "Thoughts: \n",
    "JPG can only hold 3 layers --- \n",
    "should maybe drop two layers anyways as was also trained to be 3 layers\n"
   ]
  },
  {
   "cell_type": "code",
   "execution_count": 12,
   "id": "a63c8e19-251d-477e-b6a2-b29fa3d4f3bf",
   "metadata": {},
   "outputs": [],
   "source": [
    "# define tiling function \n",
    "def tiling(filename, savedir, target_size): \n",
    "    img = Image.open(filename)\n",
    "    width, height = img.size\n",
    "    start_pos = start_x, start_y = (0, 0)\n",
    "    cropped_image_size = w, h = target_size\n",
    "    frame_num = 1\n",
    "    for col_i in range(0, width, w):\n",
    "        for row_i in range(0, height, h):\n",
    "            crop = img.crop((col_i, row_i, col_i + w, row_i + h))\n",
    "            save_to= os.path.join(savedir, \"testing_{row}_{col}.jpg\".format(row=row_i, col=col_i))\n",
    "            crop.save(save_to)\n"
   ]
  },
  {
   "cell_type": "markdown",
   "id": "c24dc48b-5ee9-4754-b5fa-66b4ae47608e",
   "metadata": {},
   "source": [
    "### Andere Methode, hier fehlen Randpieces! (nur 270 tiles, bei oberem mehr tiles, auch Randtiles)"
   ]
  },
  {
   "cell_type": "markdown",
   "id": "425570f7-da8d-427b-aa2d-0b01bdcd9e0a",
   "metadata": {},
   "source": [
    "### This method results in a list of arrays"
   ]
  },
  {
   "cell_type": "markdown",
   "id": "c3b8e9e2-9b8c-4d10-a023-0be7bb9e5eba",
   "metadata": {},
   "source": [
    "## TODO\n",
    "\n",
    "develop code to enter many images and return tiles in a logical way (also think of mask pixels!!) \n",
    "\n",
    "Problem: we have images, but we need the mask to be tiled at the same location the exact same way!"
   ]
  },
  {
   "cell_type": "code",
   "execution_count": null,
   "id": "fe4e5c53-da32-4084-9de5-a6b51730771b",
   "metadata": {},
   "outputs": [],
   "source": []
  }
 ],
 "metadata": {
  "kernelspec": {
   "display_name": "Python 3 (ipykernel)",
   "language": "python",
   "name": "python3"
  },
  "language_info": {
   "codemirror_mode": {
    "name": "ipython",
    "version": 3
   },
   "file_extension": ".py",
   "mimetype": "text/x-python",
   "name": "python",
   "nbconvert_exporter": "python",
   "pygments_lexer": "ipython3",
   "version": "3.10.2"
  }
 },
 "nbformat": 4,
 "nbformat_minor": 5
}
