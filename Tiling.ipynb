{
 "cells": [
  {
   "cell_type": "markdown",
   "id": "e3fade1f-3bfa-4a6a-a1cf-30271cecc2a6",
   "metadata": {},
   "source": [
    "# Tiling"
   ]
  },
  {
   "cell_type": "markdown",
   "id": "25118283-e3a1-47b7-8d6a-4f90c1352cb0",
   "metadata": {},
   "source": [
    "### Before the data can be used in the model, they have to tiled to 256x256\n"
   ]
  },
  {
   "cell_type": "markdown",
   "id": "7092c1fa-a0ee-4092-90b3-9c612049aea3",
   "metadata": {},
   "source": [
    "https://towardsdatascience.com/efficiently-splitting-an-image-into-tiles-in-python-using-numpy-d1bf0dd7b6f7"
   ]
  },
  {
   "cell_type": "markdown",
   "id": "4dde8924-0c3f-4ec4-84dc-902e0cdc9836",
   "metadata": {},
   "source": [
    "TODO\n",
    "1) Tif lesen, georeferenzierten Punkt oben links für späteres Nutzen erstellen \n",
    "2) Georeferenzierung fallen lassen\n",
    "3) tiling\n",
    "4) Klassifizierung \n",
    "5) wieder zusammensetzten der Tiles \n",
    "6) Georeferenzierung wieder hinzufügen "
   ]
  },
  {
   "cell_type": "code",
   "execution_count": 1,
   "id": "7ffec791-bd33-476b-814f-7f8884355b40",
   "metadata": {},
   "outputs": [],
   "source": [
    "import os\n",
    "import sys\n",
    "from PIL import Image\n",
    "from osgeo import gdal\n",
    "import glob\n",
    "import rasterio\n",
    "import earthpy as et\n",
    "import earthpy.spatial as es\n",
    "import earthpy.plot as ep\n",
    "import numpy as np"
   ]
  },
  {
   "cell_type": "code",
   "execution_count": 2,
   "id": "1e8124d8-7595-42f0-96f2-91e8ed92dccc",
   "metadata": {},
   "outputs": [],
   "source": [
    "savedir = r\"E:/W_Katrin/Kigali/Raster/tiles\"\n",
    "filename = r\"E:/W_Katrin/Kigali/Raster/2015_Pleiades_Kigali_subset.tif\""
   ]
  },
  {
   "cell_type": "markdown",
   "id": "f78dd7bb-1123-40f2-add3-5d354f7ff891",
   "metadata": {},
   "source": [
    "## Idea 0\n",
    "#### gdal translate"
   ]
  },
  {
   "cell_type": "code",
   "execution_count": 11,
   "id": "8db4a7d2-587f-4bd7-8cf4-3f0a7f813f06",
   "metadata": {},
   "outputs": [],
   "source": [
    "in_ds = gdal.Open(filename)\n",
    "out_ds = \"E:/W_Katrin/Kigali/Raster/2015_Pleiades_Kigali_subset_RGB_2.jpg\"\n",
    "ds=gdal.Translate(out_ds, in_ds, \n",
    "                  format = \"JPEG\", \n",
    "                  bandList = [1,2,3], \n",
    "                  width = in_ds.RasterXSize, \n",
    "                  height = in_ds.RasterYSize, \n",
    "                  rgbExpand = \"rgb\")"
   ]
  },
  {
   "cell_type": "code",
   "execution_count": 6,
   "id": "674636f3-69f7-4682-a87e-80f9c19b86aa",
   "metadata": {},
   "outputs": [],
   "source": [
    "in_ds = gdal.Open(filename)\n"
   ]
  },
  {
   "cell_type": "code",
   "execution_count": 10,
   "id": "c9926419-0c84-4df5-9f0c-4632fc660ff9",
   "metadata": {},
   "outputs": [
    {
     "data": {
      "text/plain": [
       "8267"
      ]
     },
     "execution_count": 10,
     "metadata": {},
     "output_type": "execute_result"
    }
   ],
   "source": [
    "in_ds.RasterYSize"
   ]
  },
  {
   "cell_type": "code",
   "execution_count": 17,
   "id": "c5bd326a-feb2-46c3-b3a4-5d862031337c",
   "metadata": {},
   "outputs": [],
   "source": [
    "out_ds = \"E:/W_Katrin/Kigali/Raster/2015_Pleiades_Kigali_subset_RGB_4.jpg\""
   ]
  },
  {
   "cell_type": "code",
   "execution_count": 36,
   "id": "5e5cab66-356f-42a9-baa3-b5704ca12059",
   "metadata": {},
   "outputs": [
    {
     "name": "stdout",
     "output_type": "stream",
     "text": [
      "Usage: gdal_translate [--help-general] [--long-usage]\n",
      "       [-ot {Byte/Int16/UInt16/UInt32/Int32/Float32/Float64/\n",
      "             CInt16/CInt32/CFloat32/CFloat64}] [-strict]\n",
      "       [-if format]* [-of format]\n",
      "       [-b band] [-mask band] [-expand {gray|rgb|rgba}]\n",
      "       [-outsize xsize[%]|0 ysize[%]|0] [-tr xres yres]\n",
      "       [-r {nearest,bilinear,cubic,cubicspline,lanczos,average,mode}]\n",
      "       [-unscale] [-scale[_bn] [src_min src_max [dst_min dst_max]]]* [-exponent[_bn] exp_val]*\n",
      "       [-srcwin xoff yoff xsize ysize] [-epo] [-eco]\n",
      "       [-projwin ulx uly lrx lry] [-projwin_srs srs_def]\n",
      "       [-a_srs srs_def] [-a_coord_epoch epoch]\n",
      "       [-a_ullr ulx uly lrx lry] [-a_nodata value]\n",
      "       [-a_scale value] [-a_offset value]\n",
      "       [-nogcp] [-gcp pixel line easting northing [elevation]]*\n",
      "       |-colorinterp{_bn} {red|green|blue|alpha|gray|undefined}]\n",
      "       |-colorinterp {red|green|blue|alpha|gray|undefined},...]\n",
      "       [-mo \"META-TAG=VALUE\"]* [-q] [-sds]\n",
      "       [-co \"NAME=VALUE\"]* [-stats] [-norat] [-noxmp]\n",
      "       [-oo NAME=VALUE]*\n",
      "       src_dataset dst_dataset\n"
     ]
    },
    {
     "name": "stderr",
     "output_type": "stream",
     "text": [
      "ERROR 6: Too many command options 'E:/W_Katrin/Kigali/Raster/2015_Pleiades_Kigali_subset_RGB_4.jpg'\n"
     ]
    }
   ],
   "source": [
    "!gdal_translate -of JPEG -b 1 -b 2 -b 3 -scale - a_srs None E:/W_Katrin/Kigali/Raster/2015_Pleiades_Kigali_subset.tif E:/W_Katrin/Kigali/Raster/2015_Pleiades_Kigali_subset_RGB_4.jpg"
   ]
  },
  {
   "cell_type": "code",
   "execution_count": 32,
   "id": "96c07c6d-e668-43a7-a275-ee66a65154e2",
   "metadata": {},
   "outputs": [
    {
     "name": "stdout",
     "output_type": "stream",
     "text": [
      "{'driver': 'JPEG', 'dtype': 'uint8', 'nodata': nan, 'width': 13162, 'height': 8267, 'count': 3, 'crs': CRS.from_epsg(32736), 'transform': Affine(0.4963054573117089, 0.0, 173723.36172185623,\n",
      "       0.0, -0.4963054573117089, 9789230.701895246)}\n"
     ]
    }
   ],
   "source": [
    "with rasterio.open(\"E:/W_Katrin/Kigali/Raster/2015_Pleiades_Kigali_subset_RGB_4.jpg\") as src: \n",
    "    meta = src.meta\n",
    "    print(meta)"
   ]
  },
  {
   "cell_type": "code",
   "execution_count": 34,
   "id": "506b123e-4ec9-445e-81d8-6371de20ed21",
   "metadata": {},
   "outputs": [
    {
     "name": "stdout",
     "output_type": "stream",
     "text": [
      "Driver: JPEG/JPEG JFIF\n",
      "Files: E:/W_Katrin/Kigali/Raster/2015_Pleiades_Kigali_subset_RGB_4.jpg\n",
      "       E:/W_Katrin/Kigali/Raster/2015_Pleiades_Kigali_subset_RGB_4.jpg.aux.xml\n",
      "Size is 13162, 8267\n",
      "Coordinate System is:\n",
      "PROJCRS[\"WGS 84 / UTM zone 36S\",\n",
      "    BASEGEOGCRS[\"WGS 84\",\n",
      "        DATUM[\"World Geodetic System 1984\",\n",
      "            ELLIPSOID[\"WGS 84\",6378137,298.257223563,\n",
      "                LENGTHUNIT[\"metre\",1]]],\n",
      "        PRIMEM[\"Greenwich\",0,\n",
      "            ANGLEUNIT[\"degree\",0.0174532925199433]],\n",
      "        ID[\"EPSG\",4326]],\n",
      "    CONVERSION[\"UTM zone 36S\",\n",
      "        METHOD[\"Transverse Mercator\",\n",
      "            ID[\"EPSG\",9807]],\n",
      "        PARAMETER[\"Latitude of natural origin\",0,\n",
      "            ANGLEUNIT[\"degree\",0.0174532925199433],\n",
      "            ID[\"EPSG\",8801]],\n",
      "        PARAMETER[\"Longitude of natural origin\",33,\n",
      "            ANGLEUNIT[\"degree\",0.0174532925199433],\n",
      "            ID[\"EPSG\",8802]],\n",
      "        PARAMETER[\"Scale factor at natural origin\",0.9996,\n",
      "            SCALEUNIT[\"unity\",1],\n",
      "            ID[\"EPSG\",8805]],\n",
      "        PARAMETER[\"False easting\",500000,\n",
      "            LENGTHUNIT[\"metre\",1],\n",
      "            ID[\"EPSG\",8806]],\n",
      "        PARAMETER[\"False northing\",10000000,\n",
      "            LENGTHUNIT[\"metre\",1],\n",
      "            ID[\"EPSG\",8807]]],\n",
      "    CS[Cartesian,2],\n",
      "        AXIS[\"easting\",east,\n",
      "            ORDER[1],\n",
      "            LENGTHUNIT[\"metre\",1]],\n",
      "        AXIS[\"northing\",north,\n",
      "            ORDER[2],\n",
      "            LENGTHUNIT[\"metre\",1]],\n",
      "    ID[\"EPSG\",32736]]\n",
      "Data axis to CRS axis mapping: 1,2\n",
      "Origin = (173723.361721856228542,9789230.701895246282220)\n",
      "Pixel Size = (0.496305457311709,-0.496305457311709)\n",
      "Metadata:\n",
      "  AREA_OR_POINT=Area\n",
      "Image Structure Metadata:\n",
      "  COMPRESSION=JPEG\n",
      "  INTERLEAVE=PIXEL\n",
      "  SOURCE_COLOR_SPACE=YCbCr\n",
      "Corner Coordinates:\n",
      "Upper Left  (  173723.362, 9789230.702) ( 30d 4' 3.04\"E,  1d54'15.76\"S)\n",
      "Lower Left  (  173723.362, 9785127.745) ( 30d 4' 2.81\"E,  1d56'29.21\"S)\n",
      "Upper Right (  180255.734, 9789230.702) ( 30d 7'34.22\"E,  1d54'16.11\"S)\n",
      "Lower Right (  180255.734, 9785127.745) ( 30d 7'34.00\"E,  1d56'29.58\"S)\n",
      "Center      (  176989.548, 9787179.223) ( 30d 5'48.52\"E,  1d55'22.67\"S)\n",
      "Band 1 Block=13162x1 Type=Byte, ColorInterp=Red\n",
      "  Description = Layer_1\n",
      "  NoData Value=nan\n",
      "  Overviews: 6581x4134, 3291x2067, 1646x1034\n",
      "  Metadata:\n",
      "    LAYER_TYPE=athematic\n",
      "    OVERVIEWS_ALGORITHM=ErdasBino3\n",
      "  Image Structure Metadata:\n",
      "    COMPRESSION=JPEG\n",
      "Band 2 Block=13162x1 Type=Byte, ColorInterp=Green\n",
      "  Description = Layer_2\n",
      "  NoData Value=nan\n",
      "  Overviews: 6581x4134, 3291x2067, 1646x1034\n",
      "  Metadata:\n",
      "    LAYER_TYPE=athematic\n",
      "    OVERVIEWS_ALGORITHM=ErdasBino3\n",
      "  Image Structure Metadata:\n",
      "    COMPRESSION=JPEG\n",
      "Band 3 Block=13162x1 Type=Byte, ColorInterp=Blue\n",
      "  Description = Layer_3\n",
      "  NoData Value=nan\n",
      "  Overviews: 6581x4134, 3291x2067, 1646x1034\n",
      "  Metadata:\n",
      "    LAYER_TYPE=athematic\n",
      "    OVERVIEWS_ALGORITHM=ErdasBino3\n",
      "  Image Structure Metadata:\n",
      "    COMPRESSION=JPEG\n"
     ]
    }
   ],
   "source": [
    "dst = gdal.Open(\"E:/W_Katrin/Kigali/Raster/2015_Pleiades_Kigali_subset_RGB_4.jpg\")\n",
    "dst.GetMetadata()\n",
    "!gdalinfo E:/W_Katrin/Kigali/Raster/2015_Pleiades_Kigali_subset_RGB_4.jpg"
   ]
  },
  {
   "cell_type": "markdown",
   "id": "71d42966-bea2-4952-bd5d-94804125834b",
   "metadata": {},
   "source": [
    "## Idea 1"
   ]
  },
  {
   "cell_type": "code",
   "execution_count": 5,
   "id": "9d445ca5-9c3f-468a-af62-5e280898519e",
   "metadata": {},
   "outputs": [],
   "source": [
    "raster = gdal.Open(filename)"
   ]
  },
  {
   "cell_type": "code",
   "execution_count": 6,
   "id": "30abca01-676f-47ee-84f6-6c250a446664",
   "metadata": {},
   "outputs": [],
   "source": [
    "band1 = raster.GetRasterBand(1)\n",
    "rows = raster.RasterYSize\n",
    "cols = raster.RasterXSize\n",
    "\n",
    "b1_data = band1.ReadAsArray(0,0,cols, rows)"
   ]
  },
  {
   "cell_type": "code",
   "execution_count": 7,
   "id": "ff9955c5-5805-4cb4-98e1-a6ccbf62d61a",
   "metadata": {},
   "outputs": [],
   "source": [
    "#print(b1_data)"
   ]
  },
  {
   "cell_type": "code",
   "execution_count": 8,
   "id": "9cf3f004-748c-4102-b77e-aed84863ac04",
   "metadata": {},
   "outputs": [],
   "source": [
    "band2 = raster.GetRasterBand(2)\n",
    "b2_data = band2.ReadAsArray(0,0,cols, rows)"
   ]
  },
  {
   "cell_type": "code",
   "execution_count": 9,
   "id": "28abe7f8-e11c-4788-bdc6-d635c120a3be",
   "metadata": {},
   "outputs": [],
   "source": [
    "band3 = raster.GetRasterBand(3)\n",
    "b3_data = band3.ReadAsArray(0,0,cols, rows)"
   ]
  },
  {
   "cell_type": "code",
   "execution_count": 10,
   "id": "62d62e35-2143-48c6-9d7c-eb012249250f",
   "metadata": {},
   "outputs": [],
   "source": [
    "rgb_array = np.array([b1_data, b2_data, b3_data])"
   ]
  },
  {
   "cell_type": "code",
   "execution_count": 17,
   "id": "ccd0ee1a-a48b-4d38-bd9b-28f69e2e508f",
   "metadata": {},
   "outputs": [
    {
     "data": {
      "text/plain": [
       "array([[[547.3768 , 557.5864 , 558.6454 , ..., 601.21313, 606.2491 ,\n",
       "         578.84186],\n",
       "        [541.05414, 544.25433, 542.46704, ..., 603.34283, 592.30634,\n",
       "         560.804  ],\n",
       "        [533.61566, 530.57184, 530.2392 , ..., 584.64484, 568.3835 ,\n",
       "         542.2961 ],\n",
       "        ...,\n",
       "        [679.7468 , 657.0126 , 652.2072 , ..., 848.4657 , 844.2835 ,\n",
       "         845.85815],\n",
       "        [681.76044, 664.20935, 662.334  , ..., 862.1436 , 853.9357 ,\n",
       "         847.71747],\n",
       "        [679.9162 , 663.1915 , 662.75006, ..., 877.46564, 862.4148 ,\n",
       "         852.59845]],\n",
       "\n",
       "       [[575.74634, 582.7441 , 582.06665, ..., 612.41003, 613.8362 ,\n",
       "         581.7774 ],\n",
       "        [579.1492 , 580.11993, 577.3272 , ..., 616.54407, 603.1896 ,\n",
       "         569.0417 ],\n",
       "        [581.32385, 576.9154 , 575.74567, ..., 603.93286, 586.14636,\n",
       "         556.4349 ],\n",
       "        ...,\n",
       "        [571.11475, 554.5059 , 558.92236, ..., 706.9965 , 705.4458 ,\n",
       "         709.72473],\n",
       "        [565.23   , 556.0568 , 565.5616 , ..., 711.4415 , 707.4643 ,\n",
       "         706.12933],\n",
       "        [560.28436, 552.8299 , 565.97186, ..., 717.3969 , 709.27527,\n",
       "         706.0574 ]],\n",
       "\n",
       "       [[616.11255, 621.63556, 619.8221 , ..., 618.7287 , 621.4599 ,\n",
       "         593.7994 ],\n",
       "        [617.0854 , 616.3494 , 612.34564, ..., 632.1172 , 619.2708 ,\n",
       "         588.62946],\n",
       "        [617.74286, 611.55493, 609.7969 , ..., 624.94977, 606.66815,\n",
       "         580.00073],\n",
       "        ...,\n",
       "        [592.511  , 572.81866, 574.02704, ..., 680.29095, 679.8377 ,\n",
       "         686.44055],\n",
       "        [590.7485 , 579.42834, 586.4184 , ..., 687.6981 , 682.16504,\n",
       "         679.96716],\n",
       "        [590.5242 , 581.1771 , 592.05505, ..., 697.0751 , 684.5683 ,\n",
       "         678.05225]]], dtype=float32)"
      ]
     },
     "execution_count": 17,
     "metadata": {},
     "output_type": "execute_result"
    }
   ],
   "source": [
    "rgb_array\n"
   ]
  },
  {
   "cell_type": "code",
   "execution_count": 18,
   "id": "15d2cfa5-dc54-4905-83d4-68474cb48447",
   "metadata": {},
   "outputs": [
    {
     "data": {
      "text/plain": [
       "(8267, 13162, 3)"
      ]
     },
     "execution_count": 18,
     "metadata": {},
     "output_type": "execute_result"
    }
   ],
   "source": [
    "# reshape the array to [[[b1, b2, b3]x13162]x8267]\n"
   ]
  },
  {
   "cell_type": "code",
   "execution_count": 12,
   "id": "3622b1b4-1d14-4083-84d0-e35c22bef3b7",
   "metadata": {},
   "outputs": [
    {
     "name": "stdout",
     "output_type": "stream",
     "text": [
      "[[575.74634 582.7441  582.06665 ... 612.41003 613.8362  581.7774 ]\n",
      " [579.1492  580.11993 577.3272  ... 616.54407 603.1896  569.0417 ]\n",
      " [581.32385 576.9154  575.74567 ... 603.93286 586.14636 556.4349 ]\n",
      " ...\n",
      " [571.11475 554.5059  558.92236 ... 706.9965  705.4458  709.72473]\n",
      " [565.23    556.0568  565.5616  ... 711.4415  707.4643  706.12933]\n",
      " [560.28436 552.8299  565.97186 ... 717.3969  709.27527 706.0574 ]]\n",
      "[[575.74634 582.7441  582.06665 ... 612.41003 613.8362  581.7774 ]\n",
      " [579.1492  580.11993 577.3272  ... 616.54407 603.1896  569.0417 ]\n",
      " [581.32385 576.9154  575.74567 ... 603.93286 586.14636 556.4349 ]\n",
      " ...\n",
      " [571.11475 554.5059  558.92236 ... 706.9965  705.4458  709.72473]\n",
      " [565.23    556.0568  565.5616  ... 711.4415  707.4643  706.12933]\n",
      " [560.28436 552.8299  565.97186 ... 717.3969  709.27527 706.0574 ]]\n"
     ]
    }
   ],
   "source": [
    "print(b2_data)\n",
    "print(rgb_array[1])"
   ]
  },
  {
   "cell_type": "code",
   "execution_count": 14,
   "id": "46beb86a-7d1f-445b-bdee-7a0b53ac16c5",
   "metadata": {},
   "outputs": [],
   "source": [
    "# changing to Int\n",
    "\n",
    "random_array = (rgb_array *255).astype(np.uint8)\n"
   ]
  },
  {
   "cell_type": "code",
   "execution_count": 15,
   "id": "30be3e37-cdcf-473e-873b-b3bcf75e214a",
   "metadata": {},
   "outputs": [
    {
     "ename": "TypeError",
     "evalue": "Cannot handle this data type: (1, 1, 13162), |u1",
     "output_type": "error",
     "traceback": [
      "\u001b[1;31m---------------------------------------------------------------------------\u001b[0m",
      "\u001b[1;31mKeyError\u001b[0m                                  Traceback (most recent call last)",
      "File \u001b[1;32mE:\\W_Katrin\\miniconda3\\envs\\tue_dl2\\lib\\site-packages\\PIL\\Image.py:2835\u001b[0m, in \u001b[0;36mfromarray\u001b[1;34m(obj, mode)\u001b[0m\n\u001b[0;32m   2834\u001b[0m \u001b[38;5;28;01mtry\u001b[39;00m:\n\u001b[1;32m-> 2835\u001b[0m     mode, rawmode \u001b[38;5;241m=\u001b[39m \u001b[43m_fromarray_typemap\u001b[49m\u001b[43m[\u001b[49m\u001b[43mtypekey\u001b[49m\u001b[43m]\u001b[49m\n\u001b[0;32m   2836\u001b[0m \u001b[38;5;28;01mexcept\u001b[39;00m \u001b[38;5;167;01mKeyError\u001b[39;00m \u001b[38;5;28;01mas\u001b[39;00m e:\n",
      "\u001b[1;31mKeyError\u001b[0m: ((1, 1, 13162), '|u1')",
      "\nThe above exception was the direct cause of the following exception:\n",
      "\u001b[1;31mTypeError\u001b[0m                                 Traceback (most recent call last)",
      "Input \u001b[1;32mIn [15]\u001b[0m, in \u001b[0;36m<module>\u001b[1;34m\u001b[0m\n\u001b[0;32m      1\u001b[0m \u001b[38;5;66;03m# try: save as PIL Image [white image]\u001b[39;00m\n\u001b[0;32m      2\u001b[0m \u001b[38;5;28;01mfrom\u001b[39;00m \u001b[38;5;21;01mPIL\u001b[39;00m \u001b[38;5;28;01mimport\u001b[39;00m Image\n\u001b[1;32m----> 3\u001b[0m im \u001b[38;5;241m=\u001b[39m \u001b[43mImage\u001b[49m\u001b[38;5;241;43m.\u001b[39;49m\u001b[43mfromarray\u001b[49m\u001b[43m(\u001b[49m\u001b[43mrandom_array\u001b[49m\u001b[43m)\u001b[49m\u001b[38;5;241m.\u001b[39mconvert(\u001b[38;5;124m'\u001b[39m\u001b[38;5;124mRGB\u001b[39m\u001b[38;5;124m'\u001b[39m)\n\u001b[0;32m      4\u001b[0m \u001b[38;5;28mprint\u001b[39m(im)\n\u001b[0;32m      5\u001b[0m im\u001b[38;5;241m.\u001b[39mshow()\n",
      "File \u001b[1;32mE:\\W_Katrin\\miniconda3\\envs\\tue_dl2\\lib\\site-packages\\PIL\\Image.py:2837\u001b[0m, in \u001b[0;36mfromarray\u001b[1;34m(obj, mode)\u001b[0m\n\u001b[0;32m   2835\u001b[0m         mode, rawmode \u001b[38;5;241m=\u001b[39m _fromarray_typemap[typekey]\n\u001b[0;32m   2836\u001b[0m     \u001b[38;5;28;01mexcept\u001b[39;00m \u001b[38;5;167;01mKeyError\u001b[39;00m \u001b[38;5;28;01mas\u001b[39;00m e:\n\u001b[1;32m-> 2837\u001b[0m         \u001b[38;5;28;01mraise\u001b[39;00m \u001b[38;5;167;01mTypeError\u001b[39;00m(\u001b[38;5;124m\"\u001b[39m\u001b[38;5;124mCannot handle this data type: \u001b[39m\u001b[38;5;132;01m%s\u001b[39;00m\u001b[38;5;124m, \u001b[39m\u001b[38;5;132;01m%s\u001b[39;00m\u001b[38;5;124m\"\u001b[39m \u001b[38;5;241m%\u001b[39m typekey) \u001b[38;5;28;01mfrom\u001b[39;00m \u001b[38;5;21;01me\u001b[39;00m\n\u001b[0;32m   2838\u001b[0m \u001b[38;5;28;01melse\u001b[39;00m:\n\u001b[0;32m   2839\u001b[0m     rawmode \u001b[38;5;241m=\u001b[39m mode\n",
      "\u001b[1;31mTypeError\u001b[0m: Cannot handle this data type: (1, 1, 13162), |u1"
     ]
    }
   ],
   "source": [
    "# try: save as PIL Image [white image] (maybe here same problem like matplotib\n",
    "from PIL import Image\n",
    "im = Image.fromarray(random_array).convert('RGB')\n",
    "print(im)\n",
    "im.show()\n",
    "\n",
    "#im.save(\"E:/W_Katrin/Kigali/Raster/2015_Pleiades_Kigali_subset_rgb.jpg\")"
   ]
  },
  {
   "cell_type": "code",
   "execution_count": null,
   "id": "2475bb65-6261-41e5-9e30-ed8127ab1e1b",
   "metadata": {},
   "outputs": [],
   "source": [
    "# try: save with matplotlib\n",
    "# for this solution I would need to get the array in the shape (12162, 8267, 3)\n",
    "import matplotlib\n",
    "matplotlib.pyplot.imsave(\"E:/W_Katrin/Kigali/Raster/2015_Pleiades_Kigali_subset_rgb2.jpg\", rgb_array)"
   ]
  },
  {
   "cell_type": "code",
   "execution_count": 138,
   "id": "05847156-3c42-4744-9d79-e023f8ad862a",
   "metadata": {},
   "outputs": [],
   "source": [
    "# try: writing as GeoTiff with GDAL\n",
    "driver = gdal.GetDriverByName(\"GTiff\")\n",
    "output_path = \"E:/W_Katrin/Kigali/Raster/2015_Pleiades_Kigali_subset_multi_rgb2.tif\"\n",
    "outDs = driver.Create(output_path, cols, rows, bands=3)"
   ]
  },
  {
   "cell_type": "code",
   "execution_count": 173,
   "id": "45c09652-8a64-4fba-9646-ea697fa10c94",
   "metadata": {},
   "outputs": [
    {
     "ename": "AttributeError",
     "evalue": "'NoneType' object has no attribute 'GetRasterBand'",
     "output_type": "error",
     "traceback": [
      "\u001b[1;31m---------------------------------------------------------------------------\u001b[0m",
      "\u001b[1;31mAttributeError\u001b[0m                            Traceback (most recent call last)",
      "Input \u001b[1;32mIn [173]\u001b[0m, in \u001b[0;36m<module>\u001b[1;34m\u001b[0m\n\u001b[1;32m----> 1\u001b[0m \u001b[43moutDs\u001b[49m\u001b[38;5;241;43m.\u001b[39;49m\u001b[43mGetRasterBand\u001b[49m(\u001b[38;5;241m1\u001b[39m)\u001b[38;5;241m.\u001b[39mWriteArray(b1_data)\n\u001b[0;32m      2\u001b[0m outDs\u001b[38;5;241m.\u001b[39mGetRasterBand(\u001b[38;5;241m2\u001b[39m)\u001b[38;5;241m.\u001b[39mWriteArray(b2_data)\n\u001b[0;32m      3\u001b[0m outDs\u001b[38;5;241m.\u001b[39mGetRasterBand(\u001b[38;5;241m3\u001b[39m)\u001b[38;5;241m.\u001b[39mWriteArray(b3_data)\n",
      "\u001b[1;31mAttributeError\u001b[0m: 'NoneType' object has no attribute 'GetRasterBand'"
     ]
    }
   ],
   "source": [
    "outDs.GetRasterBand(1).WriteArray(b1_data)\n",
    "outDs.GetRasterBand(2).WriteArray(b2_data)\n",
    "outDs.GetRasterBand(3).WriteArray(b3_data)\n",
    "\n",
    "\"\"\"\n",
    "for i in range(3): \n",
    "    outband = outDs.GetRasterBand(i+1)\n",
    "    outband.WriteArray(rgb_array[i])\n",
    "\"\"\""
   ]
  },
  {
   "cell_type": "code",
   "execution_count": 141,
   "id": "e29f7b6b-1a73-49b4-8ba1-066a19de5889",
   "metadata": {},
   "outputs": [],
   "source": [
    "outDs = None\n"
   ]
  },
  {
   "cell_type": "markdown",
   "id": "1ce995f3-c926-42af-aed9-92a362c04a1b",
   "metadata": {},
   "source": [
    "## Idea 2: Try with rasterio and gdal"
   ]
  },
  {
   "cell_type": "code",
   "execution_count": 12,
   "id": "a78207a0-b980-4cec-808a-2a5b075b1e3d",
   "metadata": {},
   "outputs": [
    {
     "name": "stdout",
     "output_type": "stream",
     "text": [
      "{'driver': 'GTiff', 'dtype': 'float32', 'nodata': nan, 'width': 13162, 'height': 8267, 'count': 5, 'crs': CRS.from_epsg(32736), 'transform': Affine(0.4963054573117089, 0.0, 173723.36172185623,\n",
      "       0.0, -0.4963054573117089, 9789230.701895246)}\n"
     ]
    }
   ],
   "source": [
    "raster = rasterio.open(filename)\n",
    "out_meta = raster.meta.copy()\n",
    "print(out_meta)\n",
    "out_meta.update({\"driver\": \"GTiff\",\n",
    "                 \"count\":1})"
   ]
  },
  {
   "cell_type": "code",
   "execution_count": 37,
   "id": "757795c2-fe91-4bdf-a7b3-2033f227f05c",
   "metadata": {},
   "outputs": [],
   "source": [
    "#write raster 1\n",
    "b1 = raster.read(1)\n",
    "with rasterio.open(\"E:/W_Katrin/Kigali/Raster/2015_Pleiades_Kigali_subset_B1.tiff\", \"w\", driver=\"GTiff\", height=raster.shape[0], width = raster.shape[1], count = 1, dtype = \"float32\", nodata = \"NaN\") as dst: \n",
    "    dst.write(b1, 1)\n",
    "b2=raster.read(2)\n",
    "with rasterio.open(\"E:/W_Katrin/Kigali/Raster/2015_Pleiades_Kigali_subset_B2.tiff\", \"w\", driver=\"GTiff\", height=raster.shape[0], width = raster.shape[1], count = 1, dtype = float32,  nodata = \"NaN\") as dst: \n",
    "    dst.write(b2, 1)\n",
    "b3 = raster.read(3)\n",
    "with rasterio.open(\"E:/W_Katrin/Kigali/Raster/2015_Pleiades_Kigali_subset_B3.tiff\", \"w\", driver=\"GTiff\", height=raster.shape[0], width = raster.shape[1], count = 1, dtype = \"float32\", nodata = \"NaN\") as dst: \n",
    "    dst.write(b3, 1)\n"
   ]
  },
  {
   "cell_type": "code",
   "execution_count": 70,
   "id": "198e8ce4-6480-4118-a38e-c15c39b68f9a",
   "metadata": {},
   "outputs": [
    {
     "data": {
      "text/plain": [
       "['E:/W_Katrin/Kigali/Raster/2015_Pleiades_Kigali_subset_B1.tiff',\n",
       " 'E:/W_Katrin/Kigali/Raster/2015_Pleiades_Kigali_subset_B2.tiff',\n",
       " 'E:/W_Katrin/Kigali/Raster/2015_Pleiades_Kigali_subset_B3.tiff']"
      ]
     },
     "execution_count": 70,
     "metadata": {},
     "output_type": "execute_result"
    }
   ],
   "source": [
    "multi_bands = glob.glob(\"E:/W_Katrin/Kigali/Raster/2015_Pleiades_Kigali_subset_B*[1:2:3]*.tiff\")\n",
    "multi_bands = ['E:/W_Katrin/Kigali/Raster/2015_Pleiades_Kigali_subset_B1.tiff',\n",
    " 'E:/W_Katrin/Kigali/Raster/2015_Pleiades_Kigali_subset_B2.tiff',\n",
    " 'E:/W_Katrin/Kigali/Raster/2015_Pleiades_Kigali_subset_B3.tiff']\n",
    "multi_bands"
   ]
  },
  {
   "cell_type": "code",
   "execution_count": 71,
   "id": "3b3c9c36-89f5-4c55-9356-ed0f7df1335f",
   "metadata": {},
   "outputs": [],
   "source": [
    "multi_path = \"E:/W_Katrin/Kigali/Raster/2015_Pleiades_Kigali_subset_multi_rgb1.tiff\""
   ]
  },
  {
   "cell_type": "code",
   "execution_count": null,
   "id": "945a04be-b03b-4879-b7f9-506500ac8d1e",
   "metadata": {},
   "outputs": [],
   "source": [
    "# try: stacking with eartyphy (not working)\n",
    "rgb_stack = es.stack(multi_bands, multi_path)"
   ]
  },
  {
   "cell_type": "code",
   "execution_count": 73,
   "id": "de2aef04-67c9-4375-88ec-032e65a6ab4b",
   "metadata": {},
   "outputs": [
    {
     "name": "stdout",
     "output_type": "stream",
     "text": [
      "{'driver': 'GTiff', 'dtype': 'float32', 'nodata': nan, 'width': 13162, 'height': 8267, 'count': 1, 'crs': None, 'transform': Affine(1.0, 0.0, 0.0,\n",
      "       0.0, 1.0, 0.0)}\n"
     ]
    }
   ],
   "source": [
    "#try: writing with rasterio [not working]\n",
    "import rasterio\n",
    "\n",
    "# Read metadata of first file\n",
    "with rasterio.open(multi_bands[0]) as src0:\n",
    "    meta = src0.meta\n",
    "print(meta)\n",
    "# Update meta to reflect the number of layers\n",
    "meta.update({\"driver\": \"GTiff\", \n",
    "             \"count\":len(multi_bands)\n",
    "            })\n",
    "\n",
    "# Read each layer and write it to stack\n",
    "with rasterio.open(multi_path, 'w', **meta) as dst:\n",
    "    for id, layer in enumerate(multi_bands, start=1):\n",
    "        with rasterio.open(layer) as src1:\n",
    "            dst.write_band(id, src1.read(1))"
   ]
  },
  {
   "cell_type": "markdown",
   "id": "9def3107-c5d1-4968-8faf-64a90a91122b",
   "metadata": {},
   "source": [
    "### some random lines"
   ]
  },
  {
   "cell_type": "code",
   "execution_count": null,
   "id": "90a11b11-4d0d-4154-9fde-a61ded62e046",
   "metadata": {},
   "outputs": [],
   "source": [
    "img = Image.open(filename)\n",
    "#tiling(filename, savedir, (256, 256))"
   ]
  },
  {
   "cell_type": "code",
   "execution_count": 18,
   "id": "4c2b33de-c0a5-4e3f-b34d-19202f3ec5e5",
   "metadata": {},
   "outputs": [
    {
     "data": {
      "text/plain": [
       "<osgeo.gdal.Dataset; proxy of <Swig Object of type 'GDALDatasetShadow *' at 0x0000020F3BC19770> >"
      ]
     },
     "execution_count": 18,
     "metadata": {},
     "output_type": "execute_result"
    }
   ],
   "source": [
    "from osgeo import gdal\n",
    "dataset = gdal.Open(filename, gdal.GA_ReadOnly)\n",
    "dataset"
   ]
  },
  {
   "cell_type": "code",
   "execution_count": 31,
   "id": "bbd19a43-f07c-4c71-ad55-8d17bb1ebb12",
   "metadata": {},
   "outputs": [
    {
     "name": "stdout",
     "output_type": "stream",
     "text": [
      "<osgeo.gdal.Dataset; proxy of <Swig Object of type 'GDALDatasetShadow *' at 0x0000020F3F0FA160> >\n",
      "E:/W_Katrin/Kigali/Raster/2015_Pleiades_Kigali_subset.jpg\n"
     ]
    },
    {
     "ename": "NameError",
     "evalue": "name 'save' is not defined",
     "output_type": "error",
     "traceback": [
      "\u001b[1;31m---------------------------------------------------------------------------\u001b[0m",
      "\u001b[1;31mNameError\u001b[0m                                 Traceback (most recent call last)",
      "Input \u001b[1;32mIn [31]\u001b[0m, in \u001b[0;36m<module>\u001b[1;34m\u001b[0m\n\u001b[0;32m      9\u001b[0m outfile \u001b[38;5;241m=\u001b[39m filename\u001b[38;5;241m.\u001b[39msplit(\u001b[38;5;124m'\u001b[39m\u001b[38;5;124m.\u001b[39m\u001b[38;5;124m'\u001b[39m)[\u001b[38;5;241m0\u001b[39m] \u001b[38;5;241m+\u001b[39m \u001b[38;5;124m'\u001b[39m\u001b[38;5;124m.jpg\u001b[39m\u001b[38;5;124m'\u001b[39m\n\u001b[0;32m     10\u001b[0m \u001b[38;5;28mprint\u001b[39m(outfile)\n\u001b[1;32m---> 11\u001b[0m \u001b[43msave\u001b[49m(im, outputfile, \u001b[38;5;124m\"\u001b[39m\u001b[38;5;124mJPEG\u001b[39m\u001b[38;5;124m\"\u001b[39m, quality\u001b[38;5;241m=\u001b[39m\u001b[38;5;241m100\u001b[39m)\n",
      "\u001b[1;31mNameError\u001b[0m: name 'save' is not defined"
     ]
    }
   ],
   "source": [
    "import cv2, os\n",
    "base_path = \"E:/W_Katrin/Kigali/Raster/\"\n",
    "new_path = \"E:/W_Katrin/Kigali/Raster/\"\n",
    "\n",
    "#print(img)\n",
    "\n",
    "im = gdal.Open(filename)\n",
    "print(im)\n",
    "\n",
    "\n",
    "outfile = filename.split('.')[0] + '.jpg'\n",
    "print(outfile)\n",
    "save(im, outputfile, \"JPEG\", quality=100)\n"
   ]
  },
  {
   "cell_type": "code",
   "execution_count": null,
   "id": "1d5309a0-fe8c-4af9-ba11-6c1f16611e57",
   "metadata": {},
   "outputs": [],
   "source": [
    "from osgeo import gdal\n",
    "import numpy\n",
    "import rasterio\n",
    "\n",
    "savedir = r\"E:/W_Katrin/Kigali/Raster/tiles\"\n",
    "filename = r\"E:/W_Katrin/Kigali/Raster/2015_Pleiades_Kigali_subset.tif\"\n",
    "dst_filename = \"E:/W_Katrin/Kigali/Raster/2015_Pleiades_Kigali_subset_rgb6.tiff\"\n",
    "\n",
    "\n",
    "\n",
    "src_ds = gdal.Open(filename)\n",
    "dataset_src = src_ds.ReadRaster()\n",
    "\n",
    "width = src_ds.RasterXSize\n",
    "height=src_ds.RasterYSize\n",
    "dataset = src_ds.ReadAsArray(0,0,width, height)\n",
    "#print(dataset)\n",
    "datasetrgb = dataset[:3]\n",
    "#print(datasetrgb)\n",
    "\n",
    "for band in range( src_ds.RasterCount ):\n",
    "    band += 1\n",
    "    print( \"[ GETTING BAND ]: \", band)\n",
    "    srcband = src_ds.GetRasterBand(band)\n",
    "    if band == 3: \n",
    "        break\n",
    "print(srcband)\n",
    "\"\"\"\n",
    "with rasterio.open(filename) as src: \n",
    "    out_meta = src.meta.copy()\n",
    "    out_meta.update({\"driver\": \"GTiff\",\n",
    "                 \"transform\": None,\n",
    "                 \"count\":3,\n",
    "                 \"crs\": None}\n",
    "                         )\n",
    "print(out_meta)\n",
    "with rasterio.open(dst_filename, \"w\", **out_meta) as dest1:\n",
    "    dest1.write(datasetrgb)\n",
    "\n",
    "\n",
    "driver = gdal.GetDriverByName(\"GTiff\")\n",
    "\n",
    "dst_ds = driver.Create(dst_filename, xsize=width, ysize=height, bands=3, options=[\"INTERLEAVE=PIXEL\"])\n",
    "with rasterio.open(dst_filename, \"w\", **out_meta) as dest1:\n",
    "    dest1.write(srcband)\n",
    "    \n",
    "#dst_ds.WriteRaster(0,0,width,height,srcband,width,height,band_list=[1,2,3])\n",
    "\n",
    "\"\"\""
   ]
  },
  {
   "cell_type": "code",
   "execution_count": null,
   "id": "7f04a03b-d67a-40b2-85a6-44f45e4b0528",
   "metadata": {},
   "outputs": [
    {
     "name": "stdout",
     "output_type": "stream",
     "text": [
      "[[547.3768  557.5864  558.6454  ... 601.21313 606.2491  578.84186]\n",
      " [541.05414 544.25433 542.46704 ... 603.34283 592.30634 560.804  ]\n",
      " [533.61566 530.57184 530.2392  ... 584.64484 568.3835  542.2961 ]\n",
      " ...\n",
      " [679.7468  657.0126  652.2072  ... 848.4657  844.2835  845.85815]\n",
      " [681.76044 664.20935 662.334   ... 862.1436  853.9357  847.71747]\n",
      " [679.9162  663.1915  662.75006 ... 877.46564 862.4148  852.59845]]\n",
      "[[575.74634 582.7441  582.06665 ... 612.41003 613.8362  581.7774 ]\n",
      " [579.1492  580.11993 577.3272  ... 616.54407 603.1896  569.0417 ]\n",
      " [581.32385 576.9154  575.74567 ... 603.93286 586.14636 556.4349 ]\n",
      " ...\n",
      " [571.11475 554.5059  558.92236 ... 706.9965  705.4458  709.72473]\n",
      " [565.23    556.0568  565.5616  ... 711.4415  707.4643  706.12933]\n",
      " [560.28436 552.8299  565.97186 ... 717.3969  709.27527 706.0574 ]]\n",
      "[[616.11255 621.63556 619.8221  ... 618.7287  621.4599  593.7994 ]\n",
      " [617.0854  616.3494  612.34564 ... 632.1172  619.2708  588.62946]\n",
      " [617.74286 611.55493 609.7969  ... 624.94977 606.66815 580.00073]\n",
      " ...\n",
      " [592.511   572.81866 574.02704 ... 680.29095 679.8377  686.44055]\n",
      " [590.7485  579.42834 586.4184  ... 687.6981  682.16504 679.96716]\n",
      " [590.5242  581.1771  592.05505 ... 697.0751  684.5683  678.05225]]\n"
     ]
    }
   ],
   "source": [
    "import rasterio\n",
    "from rasterio.plot import show\n",
    "import earthpy.spatial as es\n",
    "import earthpy.plot as ep\n",
    "\n",
    "\n",
    "\n",
    "savedir = r\"E:/W_Katrin/Kigali/Raster/tiles\"\n",
    "filename = r\"E:/W_Katrin/Kigali/Raster/2015_Pleiades_Kigali_subset.tif\"\n",
    "dst_filename = \"E:/W_Katrin/Kigali/Raster/2015_Pleiades_Kigali_subset_rgb8.tiff\"\n",
    "\n",
    "\n",
    "raster = rasterio.open(filename)\n",
    "band1 = raster.read(1)\n",
    "band2 = raster.read(2)\n",
    "band3 = raster.read(3)\n",
    "\n",
    "print(band1)\n",
    "print(band2)\n",
    "print(band3)\n",
    "\n",
    "bands = [band1.tobytes(), band2.tobytes(), band3.tobytes()]"
   ]
  },
  {
   "cell_type": "code",
   "execution_count": 16,
   "id": "d4a029be-c99b-4da6-aca5-b33bac14c23c",
   "metadata": {},
   "outputs": [
    {
     "name": "stdout",
     "output_type": "stream",
     "text": [
      "[ RASTER BAND COUNT ]:  5\n",
      "[ GETTING BAND ]:  1\n",
      "[ STATS ] =  Minimum=173.111, Maximum=4067.498, Mean=599.796, StdDev=185.006\n",
      "[ GETTING BAND ]:  2\n",
      "[ STATS ] =  Minimum=240.969, Maximum=3946.303, Mean=572.243, StdDev=123.608\n",
      "[ GETTING BAND ]:  3\n",
      "<osgeo.gdal.Band; proxy of <Swig Object of type 'GDALRasterBandShadow *' at 0x000002601C9CEDF0> >\n"
     ]
    }
   ],
   "source": [
    "from osgeo import gdal\n",
    "import sys\n",
    "\n",
    "src_ds = gdal.Open(filename)\n",
    "if src_ds is None:\n",
    "    print( 'Unable to open INPUT.tif')\n",
    "    sys.exit(1)\n",
    "\n",
    "print( \"[ RASTER BAND COUNT ]: \", src_ds.RasterCount)\n",
    "for band in range( src_ds.RasterCount ):\n",
    "    band += 1\n",
    "    print( \"[ GETTING BAND ]: \", band)\n",
    "    srcband = src_ds.GetRasterBand(band)\n",
    "    if band == 3: \n",
    "        break\n",
    "\n",
    "\n",
    "    stats = srcband.GetStatistics( True, True )\n",
    "    if stats is None:\n",
    "        continue\n",
    "\n",
    "    print( \"[ STATS ] =  Minimum=%.3f, Maximum=%.3f, Mean=%.3f, StdDev=%.3f\" % ( \\\n",
    "                stats[0], stats[1], stats[2], stats[3] ))\n",
    "print(srcband)"
   ]
  },
  {
   "cell_type": "code",
   "execution_count": 10,
   "id": "f5522c38-b156-4478-bdde-3afea21725e2",
   "metadata": {},
   "outputs": [
    {
     "name": "stdout",
     "output_type": "stream",
     "text": [
      "{'driver': 'GTiff', 'dtype': 'float32', 'nodata': nan, 'width': 13162, 'height': 8267, 'count': 5, 'crs': CRS.from_epsg(32736), 'transform': Affine(0.4963054573117089, 0.0, 173723.36172185623,\n",
      "       0.0, -0.4963054573117089, 9789230.701895246)}\n",
      "{'driver': 'JPEG', 'dtype': 'float32', 'nodata': nan, 'width': 13162, 'height': 8267, 'count': 5, 'crs': None, 'transform': None}\n"
     ]
    },
    {
     "name": "stderr",
     "output_type": "stream",
     "text": [
      "E:\\W_Katrin\\miniconda3\\envs\\tue_dl2\\lib\\site-packages\\rasterio\\__init__.py:230: NotGeoreferencedWarning: Dataset has no geotransform, gcps, or rpcs. The identity matrix be returned.\n",
      "  s = writer(path, mode, driver=driver,\n"
     ]
    },
    {
     "ename": "CPLE_NotSupportedError",
     "evalue": "JPEG driver doesn't support 5 bands.  Must be 1 (grey), 3 (RGB) or 4 bands (CMYK). ",
     "output_type": "error",
     "traceback": [
      "\u001b[1;31m---------------------------------------------------------------------------\u001b[0m",
      "\u001b[1;31mInvalidArrayError\u001b[0m                         Traceback (most recent call last)",
      "Input \u001b[1;32mIn [10]\u001b[0m, in \u001b[0;36m<module>\u001b[1;34m\u001b[0m\n\u001b[0;32m     12\u001b[0m \u001b[38;5;28;01mwith\u001b[39;00m rasterio\u001b[38;5;241m.\u001b[39mopen(outraster, \u001b[38;5;124m\"\u001b[39m\u001b[38;5;124mw\u001b[39m\u001b[38;5;124m\"\u001b[39m, \u001b[38;5;241m*\u001b[39m\u001b[38;5;241m*\u001b[39mout_meta) \u001b[38;5;28;01mas\u001b[39;00m dest:\n\u001b[1;32m---> 13\u001b[0m        \u001b[43mdest\u001b[49m\u001b[38;5;241;43m.\u001b[39;49m\u001b[43mwrite\u001b[49m\u001b[43m(\u001b[49m\u001b[43mraster\u001b[49m\u001b[43m)\u001b[49m\n",
      "File \u001b[1;32mrasterio\\_io.pyx:1349\u001b[0m, in \u001b[0;36mrasterio._io.DatasetWriterBase.write\u001b[1;34m()\u001b[0m\n",
      "\u001b[1;31mInvalidArrayError\u001b[0m: Positional argument arr must be an array-like object",
      "\nDuring handling of the above exception, another exception occurred:\n",
      "\u001b[1;31mCPLE_NotSupportedError\u001b[0m                    Traceback (most recent call last)",
      "Input \u001b[1;32mIn [10]\u001b[0m, in \u001b[0;36m<module>\u001b[1;34m\u001b[0m\n\u001b[0;32m      9\u001b[0m \u001b[38;5;28mprint\u001b[39m(out_meta)\n\u001b[0;32m     11\u001b[0m outraster \u001b[38;5;241m=\u001b[39m \u001b[38;5;124m\"\u001b[39m\u001b[38;5;124mE:/W_Katrin/Kigali/Raster/2015_Pleiades_Kigali_subset.jpg\u001b[39m\u001b[38;5;124m\"\u001b[39m\n\u001b[1;32m---> 12\u001b[0m \u001b[38;5;28;01mwith\u001b[39;00m rasterio\u001b[38;5;241m.\u001b[39mopen(outraster, \u001b[38;5;124m\"\u001b[39m\u001b[38;5;124mw\u001b[39m\u001b[38;5;124m\"\u001b[39m, \u001b[38;5;241m*\u001b[39m\u001b[38;5;241m*\u001b[39mout_meta) \u001b[38;5;28;01mas\u001b[39;00m dest:\n\u001b[0;32m     13\u001b[0m        dest\u001b[38;5;241m.\u001b[39mwrite(raster)\n",
      "File \u001b[1;32mrasterio\\_base.pyx:395\u001b[0m, in \u001b[0;36mrasterio._base.DatasetBase.__exit__\u001b[1;34m()\u001b[0m\n",
      "File \u001b[1;32mrasterio\\_base.pyx:386\u001b[0m, in \u001b[0;36mrasterio._base.DatasetBase.close\u001b[1;34m()\u001b[0m\n",
      "File \u001b[1;32mrasterio\\_io.pyx:2125\u001b[0m, in \u001b[0;36mrasterio._io.BufferedDatasetWriterBase.stop\u001b[1;34m()\u001b[0m\n",
      "File \u001b[1;32mrasterio\\_err.pyx:216\u001b[0m, in \u001b[0;36mrasterio._err.exc_wrap_pointer\u001b[1;34m()\u001b[0m\n",
      "\u001b[1;31mCPLE_NotSupportedError\u001b[0m: JPEG driver doesn't support 5 bands.  Must be 1 (grey), 3 (RGB) or 4 bands (CMYK). "
     ]
    }
   ],
   "source": [
    "out_meta = raster.meta.copy()\n",
    "print(out_meta)\n",
    "# save out_meta for later use!!\n",
    "\n",
    "out_meta.update({\"driver\": \"JPEG\",\n",
    "                 \"transform\": None,\n",
    "                 \"crs\": None}\n",
    "                         )\n",
    "print(out_meta)\n",
    "\n",
    "outraster = \"E:/W_Katrin/Kigali/Raster/2015_Pleiades_Kigali_subset.jpg\"\n",
    "with rasterio.open(outraster, \"w\", **out_meta) as dest:\n",
    "       dest.write(raster)"
   ]
  },
  {
   "cell_type": "markdown",
   "id": "bf3e87ef-7c9c-41a0-bdb6-b368f7c6adf1",
   "metadata": {},
   "source": [
    "Thoughts: \n",
    "JPG can only hold 3 layers --- \n",
    "should maybe drop two layers anyways as was also trained to be 3 layers\n"
   ]
  },
  {
   "cell_type": "markdown",
   "id": "99e2d8d8-b429-4137-be1d-35463329d7a9",
   "metadata": {},
   "source": [
    "# TILING"
   ]
  },
  {
   "cell_type": "code",
   "execution_count": 12,
   "id": "a63c8e19-251d-477e-b6a2-b29fa3d4f3bf",
   "metadata": {},
   "outputs": [],
   "source": [
    "# define tiling function \n",
    "def tiling(filename, savedir, target_size): \n",
    "    img = Image.open(filename)\n",
    "    width, height = img.size\n",
    "    start_pos = start_x, start_y = (0, 0)\n",
    "    cropped_image_size = w, h = target_size\n",
    "    frame_num = 1\n",
    "    for col_i in range(0, width, w):\n",
    "        for row_i in range(0, height, h):\n",
    "            crop = img.crop((col_i, row_i, col_i + w, row_i + h))\n",
    "            save_to= os.path.join(savedir, \"testing_{row}_{col}.jpg\".format(row=row_i, col=col_i))\n",
    "            crop.save(save_to)\n"
   ]
  },
  {
   "cell_type": "markdown",
   "id": "c24dc48b-5ee9-4754-b5fa-66b4ae47608e",
   "metadata": {},
   "source": [
    "### Andere Methode, hier fehlen Randpieces! (nur 270 tiles, bei oberem mehr tiles, auch Randtiles)"
   ]
  },
  {
   "cell_type": "markdown",
   "id": "425570f7-da8d-427b-aa2d-0b01bdcd9e0a",
   "metadata": {},
   "source": [
    "### This method results in a list of arrays"
   ]
  },
  {
   "cell_type": "markdown",
   "id": "c3b8e9e2-9b8c-4d10-a023-0be7bb9e5eba",
   "metadata": {},
   "source": [
    "## TODO\n",
    "\n",
    "develop code to enter many images and return tiles in a logical way (also think of mask pixels!!) \n",
    "\n",
    "Problem: we have images, but we need the mask to be tiled at the same location the exact same way!"
   ]
  },
  {
   "cell_type": "code",
   "execution_count": null,
   "id": "fe4e5c53-da32-4084-9de5-a6b51730771b",
   "metadata": {},
   "outputs": [],
   "source": []
  }
 ],
 "metadata": {
  "kernelspec": {
   "display_name": "Python 3 (ipykernel)",
   "language": "python",
   "name": "python3"
  },
  "language_info": {
   "codemirror_mode": {
    "name": "ipython",
    "version": 3
   },
   "file_extension": ".py",
   "mimetype": "text/x-python",
   "name": "python",
   "nbconvert_exporter": "python",
   "pygments_lexer": "ipython3",
   "version": "3.10.2"
  }
 },
 "nbformat": 4,
 "nbformat_minor": 5
}
