{
 "cells": [
  {
   "cell_type": "markdown",
   "id": "e3fade1f-3bfa-4a6a-a1cf-30271cecc2a6",
   "metadata": {},
   "source": [
    "# Tiling"
   ]
  },
  {
   "cell_type": "markdown",
   "id": "25118283-e3a1-47b7-8d6a-4f90c1352cb0",
   "metadata": {},
   "source": [
    "### Before the data can be used in the model, they have to tiled to 256x256\n"
   ]
  },
  {
   "cell_type": "markdown",
   "id": "7092c1fa-a0ee-4092-90b3-9c612049aea3",
   "metadata": {},
   "source": [
    "https://towardsdatascience.com/efficiently-splitting-an-image-into-tiles-in-python-using-numpy-d1bf0dd7b6f7"
   ]
  },
  {
   "cell_type": "markdown",
   "id": "4dde8924-0c3f-4ec4-84dc-902e0cdc9836",
   "metadata": {},
   "source": [
    "TODO\n",
    "1) Tif lesen, georeferenzierten Punkt oben links für späteres Nutzen erstellen \n",
    "2) Georeferenzierung fallen lassen\n",
    "3) tiling\n",
    "4) Klassifizierung \n",
    "5) wieder zusammensetzten der Tiles \n",
    "6) Georeferenzierung wieder hinzufügen "
   ]
  },
  {
   "cell_type": "code",
   "execution_count": 15,
   "id": "1e8124d8-7595-42f0-96f2-91e8ed92dccc",
   "metadata": {},
   "outputs": [
    {
     "ename": "UnidentifiedImageError",
     "evalue": "cannot identify image file 'E:/W_Katrin/Kigali/Raster/2015_Pleiades_Kigali_subset_1.tiff'",
     "output_type": "error",
     "traceback": [
      "\u001b[1;31m---------------------------------------------------------------------------\u001b[0m",
      "\u001b[1;31mUnidentifiedImageError\u001b[0m                    Traceback (most recent call last)",
      "Input \u001b[1;32mIn [15]\u001b[0m, in \u001b[0;36m<module>\u001b[1;34m\u001b[0m\n\u001b[0;32m      6\u001b[0m savedir \u001b[38;5;241m=\u001b[39m \u001b[38;5;124mr\u001b[39m\u001b[38;5;124m\"\u001b[39m\u001b[38;5;124mE:/W_Katrin/Kigali/Raster/tiles\u001b[39m\u001b[38;5;124m\"\u001b[39m\n\u001b[0;32m      7\u001b[0m filename \u001b[38;5;241m=\u001b[39m \u001b[38;5;124mr\u001b[39m\u001b[38;5;124m\"\u001b[39m\u001b[38;5;124mE:/W_Katrin/Kigali/Raster/2015_Pleiades_Kigali_subset_1.tiff\u001b[39m\u001b[38;5;124m\"\u001b[39m\n\u001b[1;32m----> 9\u001b[0m img \u001b[38;5;241m=\u001b[39m \u001b[43mImage\u001b[49m\u001b[38;5;241;43m.\u001b[39;49m\u001b[43mopen\u001b[49m\u001b[43m(\u001b[49m\u001b[43mfilename\u001b[49m\u001b[43m)\u001b[49m\n",
      "File \u001b[1;32mE:\\W_Katrin\\miniconda3\\envs\\tue_dl2\\lib\\site-packages\\PIL\\Image.py:3030\u001b[0m, in \u001b[0;36mopen\u001b[1;34m(fp, mode, formats)\u001b[0m\n\u001b[0;32m   3028\u001b[0m \u001b[38;5;28;01mfor\u001b[39;00m message \u001b[38;5;129;01min\u001b[39;00m accept_warnings:\n\u001b[0;32m   3029\u001b[0m     warnings\u001b[38;5;241m.\u001b[39mwarn(message)\n\u001b[1;32m-> 3030\u001b[0m \u001b[38;5;28;01mraise\u001b[39;00m UnidentifiedImageError(\n\u001b[0;32m   3031\u001b[0m     \u001b[38;5;124m\"\u001b[39m\u001b[38;5;124mcannot identify image file \u001b[39m\u001b[38;5;132;01m%r\u001b[39;00m\u001b[38;5;124m\"\u001b[39m \u001b[38;5;241m%\u001b[39m (filename \u001b[38;5;28;01mif\u001b[39;00m filename \u001b[38;5;28;01melse\u001b[39;00m fp)\n\u001b[0;32m   3032\u001b[0m )\n",
      "\u001b[1;31mUnidentifiedImageError\u001b[0m: cannot identify image file 'E:/W_Katrin/Kigali/Raster/2015_Pleiades_Kigali_subset_1.tiff'"
     ]
    }
   ],
   "source": [
    "import os\n",
    "import sys\n",
    "from PIL import Image\n",
    "\n",
    "\n",
    "savedir = r\"E:/W_Katrin/Kigali/Raster/tiles\"\n",
    "filename = r\"E:/W_Katrin/Kigali/Raster/2015_Pleiades_Kigali_subset.tif\"\n",
    "\n",
    "img = Image.open(filename)\n",
    "#tiling(filename, savedir, (256, 256))"
   ]
  },
  {
   "cell_type": "code",
   "execution_count": 12,
   "id": "a63c8e19-251d-477e-b6a2-b29fa3d4f3bf",
   "metadata": {},
   "outputs": [],
   "source": [
    "# define tiling \n",
    "def tiling(filename, savedir, target_size): \n",
    "    img = Image.open(filename)\n",
    "    width, height = img.size\n",
    "    start_pos = start_x, start_y = (0, 0)\n",
    "    cropped_image_size = w, h = target_size\n",
    "    frame_num = 1\n",
    "    for col_i in range(0, width, w):\n",
    "        for row_i in range(0, height, h):\n",
    "            crop = img.crop((col_i, row_i, col_i + w, row_i + h))\n",
    "            save_to= os.path.join(savedir, \"testing_{row}_{col}.jpg\".format(row=row_i, col=col_i))\n",
    "            crop.save(save_to)\n"
   ]
  },
  {
   "cell_type": "markdown",
   "id": "9ebf6d1f-effb-49b5-9380-66336715c228",
   "metadata": {},
   "source": [
    "import os\n",
    "import sys\n",
    "from PIL import Image\n",
    "\n",
    "savedir = r\"E:/W_Katrin/Kigali/Raster/tiles\"\n",
    "filename = r\"E:/W_Katrin/Kigali/Raster/2015_Pleiades_Kigali_subset_1.tiff\"\n",
    "\n",
    "img = Image.open(filename)\n",
    "width, height = img.size\n",
    "start_pos = start_x, start_y = (0, 0)\n",
    "cropped_image_size = w, h = (256,256)\n",
    "\n",
    "frame_num = 1\n",
    "for col_i in range(0, width, w):\n",
    "    for row_i in range(0, height, h):\n",
    "        crop = img.crop((col_i, row_i, col_i + w, row_i + h))\n",
    "        save_to= os.path.join(savedir, \"testing_{:02}.png\")\n",
    "        crop.save(save_to.format(frame_num))\n",
    "        frame_num += 1"
   ]
  },
  {
   "cell_type": "markdown",
   "id": "c24dc48b-5ee9-4754-b5fa-66b4ae47608e",
   "metadata": {},
   "source": [
    "### Andere Methode, hier fehlen Randpieces! (nur 270 tiles, bei oberem mehr tiles, auch Randtiles)"
   ]
  },
  {
   "cell_type": "raw",
   "id": "1f4e2afe-e944-4f9a-9fcb-7b544434e7ca",
   "metadata": {},
   "source": [
    "from PIL import Image\n",
    "from itertools import product\n",
    "\n",
    "def tile(filename, dir_in, dir_out, d):\n",
    "    name, ext = os.path.splitext(filename)\n",
    "    img = Image.open(os.path.join(dir_in, filename))\n",
    "    w, h = img.size\n",
    "    \n",
    "    grid = product(range(0, h-h%d, d), range(0, w-w%d, d))\n",
    "    for i, j in grid:\n",
    "        box = (j, i, j+d, i+d)\n",
    "        out = os.path.join(dir_out, f'{name}_{i}_{j}{ext}')\n",
    "        img.crop(box).save(out)"
   ]
  },
  {
   "cell_type": "code",
   "execution_count": 17,
   "id": "f861a35e-4b9a-4076-965e-91ab41cb2b7c",
   "metadata": {},
   "outputs": [],
   "source": [
    "tile('img.jpg', 'E:/W_Katrin/InnovationLab', 'E:/W_Katrin/InnovationLab/test', 256)"
   ]
  },
  {
   "cell_type": "markdown",
   "id": "425570f7-da8d-427b-aa2d-0b01bdcd9e0a",
   "metadata": {},
   "source": [
    "### This method results in a list of arrays"
   ]
  },
  {
   "cell_type": "code",
   "execution_count": 20,
   "id": "188c8062-010d-4236-b19a-c756980661d4",
   "metadata": {},
   "outputs": [],
   "source": [
    "im = mpimg.imread('img.jpg')\n",
    "M = 256\n",
    "N=256\n",
    "tiles = [im[x:x+M,y:y+N] for x in range(0,im.shape[0],M) for y in range(0,im.shape[1],N)]\n"
   ]
  },
  {
   "cell_type": "markdown",
   "id": "c3b8e9e2-9b8c-4d10-a023-0be7bb9e5eba",
   "metadata": {},
   "source": [
    "## TODO\n",
    "\n",
    "develop code to enter many images and return tiles in a logical way (also think of mask pixels!!) \n",
    "\n",
    "Problem: we have images, but we need the mask to be tiled at the same location the exact same way!"
   ]
  },
  {
   "cell_type": "code",
   "execution_count": null,
   "id": "fe4e5c53-da32-4084-9de5-a6b51730771b",
   "metadata": {},
   "outputs": [],
   "source": []
  }
 ],
 "metadata": {
  "kernelspec": {
   "display_name": "Python 3 (ipykernel)",
   "language": "python",
   "name": "python3"
  },
  "language_info": {
   "codemirror_mode": {
    "name": "ipython",
    "version": 3
   },
   "file_extension": ".py",
   "mimetype": "text/x-python",
   "name": "python",
   "nbconvert_exporter": "python",
   "pygments_lexer": "ipython3",
   "version": "3.10.2"
  }
 },
 "nbformat": 4,
 "nbformat_minor": 5
}
