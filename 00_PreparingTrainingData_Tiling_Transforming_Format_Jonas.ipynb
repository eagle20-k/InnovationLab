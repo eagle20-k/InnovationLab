{
 "cells": [
  {
   "cell_type": "markdown",
   "id": "e0015fc2-aa19-4c8b-9d11-e0cdcc7016cb",
   "metadata": {},
   "source": [
    "# Import python packages"
   ]
  },
  {
   "cell_type": "code",
   "execution_count": null,
   "id": "127b5fb6-37de-4eb5-aef9-00bf031f505c",
   "metadata": {},
   "outputs": [],
   "source": [
    "import os\n",
    "import sys\n",
    "from PIL import Image\n",
    "from osgeo import gdal\n",
    "import glob\n",
    "import rasterio\n",
    "import numpy as np\n",
    "import subprocess"
   ]
  },
  {
   "cell_type": "markdown",
   "id": "246c9240-3907-4f2d-bbeb-88750ced407d",
   "metadata": {},
   "source": [
    "# Functions for translate the image into png"
   ]
  },
  {
   "cell_type": "markdown",
   "id": "5193a339-74e8-40a6-871b-fa0db5ac2bcf",
   "metadata": {},
   "source": [
    "### the function translates the raster image and/or the mask image to png in order to be tiled. "
   ]
  },
  {
   "cell_type": "code",
   "execution_count": null,
   "id": "c8e072a1-d151-4ac7-abef-48617f0450bc",
   "metadata": {},
   "outputs": [],
   "source": [
    "def gdal_translate_img(org_img, output_img):\n",
    "    process_img = 'gdal_translate -of PNG -b 1 -b 2 -b 3 -scale {org_img} {output_img}'.format(org_img=org_img, output_img=output_img)\n",
    "    subprocess.call(process_img, shell = True)"
   ]
  },
  {
   "cell_type": "code",
   "execution_count": null,
   "id": "aaa38f4c-215f-4402-aa9c-3eb015638c23",
   "metadata": {},
   "outputs": [],
   "source": [
    "def gdal_translate_mask(org_mask, output_mask):\n",
    "    process_mask = 'gdal_translate -of PNG -b 1 -scale {org_mask} {output_mask}'.format(org_img=org_mask, output_mask=output_mask)\n",
    "    subprocess.call(process_mask, shell = True)"
   ]
  },
  {
   "cell_type": "code",
   "execution_count": null,
   "id": "de603508-9dc7-425e-8fdf-e53b4c109920",
   "metadata": {},
   "outputs": [],
   "source": [
    "def change_format_to_png(org_img=0, output_img=0,org_mask=0,output_mask=0):\n",
    "    if org_img != 0 and output_img !=0:\n",
    "        gdal_translate_img(org_img, output_img)\n",
    "    if org_mask != 0 and output_mask !=0:\n",
    "        gdal_translate_mask(org_mask, output_mask)"
   ]
  },
  {
   "cell_type": "markdown",
   "id": "5f64d8fb-a0df-4ee2-ad67-2e87cb4ca38b",
   "metadata": {},
   "source": [
    "### Set input values and running the programm"
   ]
  },
  {
   "cell_type": "code",
   "execution_count": null,
   "id": "ada5d3e3-0ce7-46cb-a797-bd27d5536f0f",
   "metadata": {},
   "outputs": [],
   "source": [
    "# You can set here the source data (org_) and the output path (output). If you want to process\n",
    "#only a mask_file or a img_file set the remaining values to \"0\"\n",
    "# Example: \n",
    "    #org_img = r\"C:\\Users\\jonas\\Desktop\\Projekt_Baum_Deeplearning\\Baum_Deeplearning\\raw_data\\products\\cas_32bitbands532.tif\"\n",
    "    #output_img = r\"E:/U-Net/Images/cas_32bit_bands532_5.png\"\n",
    "    #org_mask = 0\n",
    "    #output_mask = 0\n",
    "    \n",
    "# Input path for 3 band raster file \n",
    "org_img = r\"C:\\Users\\jonas\\Desktop\\Projekt_Baum_Deeplearning\\Baum_Deeplearning\\raw_data\\products\\cas_32bitbands532.tif\"\n",
    "output_img = r\"E:/U-Net/Images/cas_32bit_bands532_5.png\"\n",
    "# Input path for 1 band raster file\n",
    "org_mask = 0\n",
    "output_mask = 0"
   ]
  },
  {
   "cell_type": "code",
   "execution_count": null,
   "id": "613dacf3-61b5-4ebe-b27a-57e0ee439344",
   "metadata": {},
   "outputs": [],
   "source": [
    "# Run this code for starting the programm\n",
    "change_format_to_png(org_img, output_img,org_mask,output_mask)"
   ]
  },
  {
   "cell_type": "markdown",
   "id": "44917492-85cc-43c7-8171-05696d1fbbb4",
   "metadata": {},
   "source": [
    "# Tiling"
   ]
  },
  {
   "cell_type": "code",
   "execution_count": null,
   "id": "c7b3b902-8394-43a9-ab73-b5a4be648a48",
   "metadata": {},
   "outputs": [],
   "source": [
    "def tiling(filename, savedir, target_size, stride_size):\n",
    "    if filename== filename_mask:\n",
    "        data_type= \"mask\"\n",
    "    if filename == filename_img:\n",
    "        data_type = \"img\"\n",
    "    img = Image.open(filename)\n",
    "    width, height = img.size\n",
    "    start_pos = start_x, start_y = (0, 0)\n",
    "    cropped_image_size = w, h = target_size\n",
    "    stride_w, stride_h = stride_size\n",
    "    frame_num = 1\n",
    "    for col_i in range(0, width, stride_w):\n",
    "        for row_i in range(0, height, stride_h):\n",
    "            padding = '0'\n",
    "            len1 = 5\n",
    "            crop = img.crop((col_i, row_i, col_i + w, row_i + h))\n",
    "            save_to= os.path.join(savedir, \"{data_type}_{col}_{row}.png\".format(data_type=data_type,row=format(row_i, padding + '>' + str(len1)), col= format(col_i, padding+ '>' + str(len1))))\n",
    "            crop.save(save_to)"
   ]
  },
  {
   "cell_type": "code",
   "execution_count": null,
   "id": "4779ef3d-2d98-498b-8210-c8fdbfb0be89",
   "metadata": {},
   "outputs": [],
   "source": [
    "def tiling_training_prediction(filename_img,filename_mask,savedir_img,savedir_mask, target_size, stride_size):\n",
    "    if filename_img !=0 and savedir_img !=0:\n",
    "        tiling(filename_img, savedir_img, target_size, stride_size)\n",
    "    if filename_mask !=0 and savedir_img !=0:\n",
    "        tiling(filename_mask, savedir_mask, target_size, stride_size)"
   ]
  },
  {
   "cell_type": "markdown",
   "id": "4e6eca45-48c2-491b-a64a-b14a99045fae",
   "metadata": {},
   "source": [
    "### Set values for tiling and running the code"
   ]
  },
  {
   "cell_type": "code",
   "execution_count": null,
   "id": "de48115d-3603-4544-8e09-f7fea832db54",
   "metadata": {},
   "outputs": [],
   "source": [
    "# You can set here the source data (filename) and the output path (savdir). If you want to proceed only a mask_file or a img_file set the remaining values to \"0\"\n",
    "# Example: \n",
    "    #filename_img= r\"E:\\U-Net\\Images\\all_samples.png\"\n",
    "    #savedir_img= r\"E:\\U-Net\\trainingsdata\\img\"\n",
    "    #filename_mask= 0\n",
    "    #savedir_mask= 0\n",
    "    \n",
    "# Input path for 3 band raster file \n",
    "filename_img= r\"E:\\U-Net\\Images\\all_samples.png\" # Path for the 3 band raster_file (training_file or prediction_file)\n",
    "savedir_img= r\"E:\\U-Net\\trainingsdata\\img1\" # output path for the 3 band training or prediction tiles\n",
    "\n",
    "# Input path for the 1 band raster file (mask_raster_file)\n",
    "filename_mask= r\"E:\\U-Net\\Images\\cas_32bit_bands532_mask2.png\" #path for the 1 band raster_file (mask_file)\n",
    "savedir_mask= r\"E:\\U-Net\\trainingsdata\\mask1\" # output path for the 1 band mask tiles\n",
    "\n",
    "# Here you can set the target_size for the tiles and the stride_size\n",
    "target_size=(256,256)\n",
    "stride_size=(128,128)"
   ]
  },
  {
   "cell_type": "code",
   "execution_count": null,
   "id": "ee49ba78-ce10-4d70-af4d-e5380406e5f8",
   "metadata": {},
   "outputs": [],
   "source": [
    "# run this code for starting the programm\n",
    "tiling_training_prediction(filename_img, filename_mask, savedir_img, savedir_mask, target_size, stride_size)"
   ]
  }
 ],
 "metadata": {
  "kernelspec": {
   "display_name": "Python 3 (ipykernel)",
   "language": "python",
   "name": "python3"
  },
  "language_info": {
   "codemirror_mode": {
    "name": "ipython",
    "version": 3
   },
   "file_extension": ".py",
   "mimetype": "text/x-python",
   "name": "python",
   "nbconvert_exporter": "python",
   "pygments_lexer": "ipython3",
   "version": "3.10.2"
  }
 },
 "nbformat": 4,
 "nbformat_minor": 5
}
