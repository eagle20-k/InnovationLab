{
 "cells": [
  {
   "cell_type": "markdown",
   "id": "94b2a589-37e3-4b91-afaa-1a83cdd31d0f",
   "metadata": {},
   "source": [
    "## Import python packages"
   ]
  },
  {
   "cell_type": "code",
   "execution_count": 4,
   "id": "758d110f-cd61-4c22-beff-4e3032c388e8",
   "metadata": {},
   "outputs": [],
   "source": [
    "from osgeo import gdal\n",
    "import numpy as np\n",
    "import os"
   ]
  },
  {
   "cell_type": "code",
   "execution_count": 5,
   "id": "e4c268a9-9ad5-48f0-8d07-b19ecccc7e78",
   "metadata": {},
   "outputs": [
    {
     "data": {
      "text/plain": [
       "'E:\\\\W_Katrin\\\\Kigali\\\\Raster'"
      ]
     },
     "execution_count": 5,
     "metadata": {},
     "output_type": "execute_result"
    }
   ],
   "source": [
    "os.getcwd()\n",
    "os.chdir('E:/W_Katrin/Kigali/Raster/')\n",
    "os.getcwd()"
   ]
  },
  {
   "cell_type": "code",
   "execution_count": 6,
   "id": "62a42665-6b6f-4369-9f13-e237b18e2e60",
   "metadata": {},
   "outputs": [],
   "source": [
    "file_path = r\"2015_Pleiades_Kigali_subset.tif\"\n",
    "single_band = True # set single band true to calculate for each band a percentile. False --> calculate one percentiule for all bands \n",
    "percentile = (0.02,0.98)# set the percentile "
   ]
  },
  {
   "cell_type": "code",
   "execution_count": 11,
   "id": "6f6a1978-353d-4743-94fd-dce8343b21f7",
   "metadata": {},
   "outputs": [],
   "source": [
    "def get_max_min_by_bands(file_path, percentile, single_band=True):\n",
    "    image_raw = gdal.Open(file_path) # opens the image \n",
    "    img_array = image_raw.ReadAsArray()  # reads image into array missing values get the value 0\n",
    "    perc_min, perc_max = percentile  # reads the the percentile into perc_min, perc_max\n",
    "    bands = img_array.shape[0] # reads out the number of bands\n",
    "    bands = 3 # if RGB wanted\n",
    "    img_perc = []   \n",
    "    if single_band == True:  # \n",
    "        for b in range(bands):\n",
    "            band_array = img_array[b]\n",
    "    \n",
    "            resh_band_array = np.reshape(band_array,(-1,1))\n",
    "            img_squeez = np.squeeze(resh_band_array, axis=1)\n",
    "            print(img_squeez.shape)\n",
    "            img_squeez = np.delete(img_squeez, img_squeez == 0)\n",
    "            print(img_squeez.shape)\n",
    "            img_size = img_squeez.shape[0]\n",
    "            img_sort_listed = np.sort(img_squeez)\n",
    "        \n",
    "            img_max_var= int(img_size* perc_max-1)\n",
    "            img_min_var= int(img_size* perc_min)\n",
    "     \n",
    "            img_max = img_sort_listed[img_max_var]\n",
    "            img_min = img_sort_listed[img_min_var]\n",
    "        \n",
    "            img_perc.append(img_min)\n",
    "            img_perc.append(img_max)\n",
    "    if single_band == False:\n",
    "        band_array = img_array\n",
    "        resh_band_array = np.reshape(band_array,(-1,1))\n",
    "        img_squeez = np.squeeze(resh_band_array, axis=1)\n",
    "        img_size = img_squeez.shape[0]\n",
    "        img_sort_listed = np.sort(img_squeez)\n",
    "        \n",
    "        img_max_var= int(img_size* perc_max-1)\n",
    "        img_min_var= int(img_size* perc_min)\n",
    "     \n",
    "        img_max = img_sort_listed[img_max_var]\n",
    "        img_min = img_sort_listed[img_min_var]\n",
    "        \n",
    "        img_perc.append(img_min)\n",
    "        img_perc.append(img_max)\n",
    "    return img_perc"
   ]
  },
  {
   "cell_type": "code",
   "execution_count": 12,
   "id": "8a0b7608-0ff0-4e07-b591-af3b19d90c75",
   "metadata": {},
   "outputs": [
    {
     "name": "stdout",
     "output_type": "stream",
     "text": [
      "(108810254,)\n",
      "(108810254,)\n",
      "(108810254,)\n",
      "(108810254,)\n",
      "(108810254,)\n",
      "(108810254,)\n"
     ]
    }
   ],
   "source": [
    "max_min = get_max_min_by_bands(file_path, percentile, single_band)"
   ]
  },
  {
   "cell_type": "code",
   "execution_count": 13,
   "id": "3715de21-2a39-4237-b8a9-07eb314b1967",
   "metadata": {},
   "outputs": [
    {
     "name": "stdout",
     "output_type": "stream",
     "text": [
      "[326.29517, 1051.6909, 391.3888, 875.3834, 447.24457, 854.81647]\n"
     ]
    }
   ],
   "source": [
    "print(max_min)"
   ]
  },
  {
   "cell_type": "code",
   "execution_count": 14,
   "id": "62d182cb-ebd0-493d-85df-4808c2efa308",
   "metadata": {},
   "outputs": [],
   "source": [
    "def conv_img(img, imin, imax, target_size, target_type):\n",
    "    \n",
    "    target_min, target_max = target_size #reads out min and max in target_size\n",
    "    a = (target_max - target_min) / (imax -imin) # builds the rescale steps \n",
    "    img = np.where(img == 0, imin, img)\n",
    "    b = img - imin\n",
    "    new_img = (a * b)\n",
    "    new_img = np.where(new_img>255, 255, new_img)\n",
    "    new_img = np.where(new_img<0, 0, new_img)\n",
    "    new_img.astype(target_type)\n",
    "    return new_img"
   ]
  },
  {
   "cell_type": "code",
   "execution_count": 15,
   "id": "a7512235-3f22-4585-8fc9-b20a02df2d51",
   "metadata": {},
   "outputs": [],
   "source": [
    "def converter(img_path, output_path, target_size, img_perc, single_band):\n",
    "    # loading in the input img \n",
    "    img = gdal.Open(img_path)\n",
    "    img_array = img.ReadAsArray()\n",
    "    bands = img_array.shape[0]\n",
    "    bands = 3 # if RGB wanted\n",
    "    width = img.RasterXSize\n",
    "    height = img.RasterYSize\n",
    "    format = \"GTiff\"\n",
    "    driver = gdal.GetDriverByName(format)\n",
    "    target_type = np.uint8\n",
    "    dst_ds = driver.Create(output_path, width, height, bands)\n",
    "    \n",
    "    width = img.RasterXSize\n",
    "    height = img.RasterYSize\n",
    "    if single_band == True:\n",
    "        for b in range (bands):\n",
    "            imin = img_perc[b*2]\n",
    "            imax = img_perc[b*2+1]\n",
    "            raster_array = img.GetRasterBand(b+1).ReadAsArray()\n",
    "            raster_conv = conv_img(raster_array, imin, imax, target_size, target_type)\n",
    "            dst_ds.GetRasterBand(b+1).WriteArray(raster_conv)\n",
    "    if single_band == False:\n",
    "        for b in range (bands):\n",
    "            imin = img_perc[0]\n",
    "            imax = img_perc[1]\n",
    "            raster_array = img.GetRasterBand(b+1).ReadAsArray()\n",
    "            raster_conv = conv_img(raster_array, imin, imax, target_size, target_type)\n",
    "            dst_ds.GetRasterBand(b+1).WriteArray(raster_conv)"
   ]
  },
  {
   "cell_type": "code",
   "execution_count": 16,
   "id": "b74a5371-a297-406d-97d2-7fea64a5f6cb",
   "metadata": {},
   "outputs": [],
   "source": [
    "img_path = r\"2015_Pleiades_Kigali_subset.tif\"\n",
    "output_path = r'2015_Pleiades_Kigali_subset_.tif'\n",
    "target_size = (0,255)\n",
    "max_min = max_min\n",
    "single_band = True "
   ]
  },
  {
   "cell_type": "code",
   "execution_count": 17,
   "id": "740d510d-6d19-48fd-b7ab-01018c5dbffa",
   "metadata": {},
   "outputs": [],
   "source": [
    "converter(img_path, output_path, target_size, max_min, single_band)"
   ]
  },
  {
   "cell_type": "code",
   "execution_count": 18,
   "id": "b7bb42a5-c945-4f33-856c-69a4657edf4c",
   "metadata": {},
   "outputs": [
    {
     "name": "stdout",
     "output_type": "stream",
     "text": [
      "imin is:  391.3888\n",
      "imax is:  875.3834\n",
      "a is:  0.5268653509156889\n",
      "b is:  -391.1253159453125\n",
      "0.0\n"
     ]
    }
   ],
   "source": [
    "target_min, target_max = target_size #reads out min and max in target_size\n",
    "imin = max_min[2]\n",
    "print(\"imin is: \", imin)\n",
    "imax = max_min[3]\n",
    "print(\"imax is: \", imax)\n",
    "img = 0.263478\n",
    "a = (target_max - target_min) / (imax - imin) # builds the rescale steps \n",
    "print(\"a is: \", a)\n",
    "b = img - imin\n",
    "print(\"b is: \", b)\n",
    "new_img = a*b\n",
    "new_img = np.where(new_img>255, 255, new_img)\n",
    "new_img = np.where(new_img<0, 0, new_img)\n",
    "print(new_img)"
   ]
  },
  {
   "cell_type": "code",
   "execution_count": null,
   "id": "fa31c065-9afd-44c8-b1d4-1192642914f6",
   "metadata": {},
   "outputs": [],
   "source": []
  }
 ],
 "metadata": {
  "kernelspec": {
   "display_name": "Python 3 (ipykernel)",
   "language": "python",
   "name": "python3"
  },
  "language_info": {
   "codemirror_mode": {
    "name": "ipython",
    "version": 3
   },
   "file_extension": ".py",
   "mimetype": "text/x-python",
   "name": "python",
   "nbconvert_exporter": "python",
   "pygments_lexer": "ipython3",
   "version": "3.10.2"
  }
 },
 "nbformat": 4,
 "nbformat_minor": 5
}
