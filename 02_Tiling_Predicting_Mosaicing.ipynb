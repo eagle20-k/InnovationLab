{
 "cells": [
  {
   "cell_type": "markdown",
   "id": "e3fade1f-3bfa-4a6a-a1cf-30271cecc2a6",
   "metadata": {},
   "source": [
    "# Tiling - Predicting - Mosaicing"
   ]
  },
  {
   "cell_type": "markdown",
   "id": "25118283-e3a1-47b7-8d6a-4f90c1352cb0",
   "metadata": {},
   "source": [
    "##### Before the data can be used in the model, they have to tiled to 256x256\n"
   ]
  },
  {
   "cell_type": "markdown",
   "id": "7092c1fa-a0ee-4092-90b3-9c612049aea3",
   "metadata": {},
   "source": [
    "https://towardsdatascience.com/efficiently-splitting-an-image-into-tiles-in-python-using-numpy-d1bf0dd7b6f7"
   ]
  },
  {
   "cell_type": "markdown",
   "id": "4dde8924-0c3f-4ec4-84dc-902e0cdc9836",
   "metadata": {},
   "source": [
    "TODO\n",
    "1) Tif lesen, georeferenzierten Punkt oben links für späteres Nutzen erstellen \n",
    "2) JPEG erstellen\n",
    "3) tiling\n",
    "4) Klassifizierung \n",
    "5) wieder zusammensetzten der Tiles \n",
    "6) Georeferenzierung wieder hinzufügen (maybe 5?))"
   ]
  },
  {
   "cell_type": "code",
   "execution_count": 1,
   "id": "7ffec791-bd33-476b-814f-7f8884355b40",
   "metadata": {},
   "outputs": [],
   "source": [
    "import os\n",
    "import sys\n",
    "from PIL import Image\n",
    "from osgeo import gdal\n",
    "import numpy as np\n",
    "import rasterio\n",
    "from osgeo import osr\n",
    "import geopandas as gpd\n",
    "from shapely.geometry import Point\n",
    "from pyproj import CRS\n",
    "import glob\n",
    "import re\n",
    "import pandas as pd\n",
    "import matplotlib.pyplot as plt\n",
    "import warnings\n",
    "\n",
    "import tensorflow as tf\n",
    "from tensorflow import keras\n",
    "from tensorflow.keras import backend as K\n",
    "\n",
    "import imageio"
   ]
  },
  {
   "cell_type": "markdown",
   "id": "6d519b8a-b2ce-423e-a446-8a4853c72dd2",
   "metadata": {},
   "source": [
    "### Set working directory"
   ]
  },
  {
   "cell_type": "code",
   "execution_count": 2,
   "id": "8d225d87-edfb-4dd7-abde-d3203746869b",
   "metadata": {},
   "outputs": [
    {
     "data": {
      "text/plain": [
       "'E:\\\\W_Katrin\\\\Kigali\\\\Raster'"
      ]
     },
     "execution_count": 2,
     "metadata": {},
     "output_type": "execute_result"
    }
   ],
   "source": [
    "os.getcwd()\n",
    "os.chdir('E:/W_Katrin/Kigali/Raster/')\n",
    "os.getcwd()"
   ]
  },
  {
   "cell_type": "markdown",
   "id": "d4d030d7-bf48-4c2b-b065-f6bcc93a69ff",
   "metadata": {},
   "source": [
    "### Define global variables"
   ]
  },
  {
   "cell_type": "code",
   "execution_count": 29,
   "id": "1e8124d8-7595-42f0-96f2-91e8ed92dccc",
   "metadata": {},
   "outputs": [],
   "source": [
    "ORIGINAL_IMG = \"2015_Pleiades_Kigali_subset.tif\"\n",
    "TILE_DIRECTORY = \"tiles_6/\"\n",
    "IMG_RESOLUTION = {}\n",
    "POINT_FILE = {}"
   ]
  },
  {
   "cell_type": "markdown",
   "id": "d8ec884c-e82e-454f-bf8e-9b7712547b5d",
   "metadata": {
    "tags": []
   },
   "source": [
    "## 1) Create Point for Georeferencing [upper left corner]"
   ]
  },
  {
   "cell_type": "code",
   "execution_count": 31,
   "id": "cab5ee1c-8d09-4f5d-9038-cb04e5df8a43",
   "metadata": {},
   "outputs": [
    {
     "name": "stdout",
     "output_type": "stream",
     "text": [
      "ulx, uly: 173723.36172185623 , 9789230.701895246 , xres, yres: 0.4963054573117089 , -0.4963054573117089\n",
      "SRC_CRS: 32736\n",
      "0.4963054573117089\n"
     ]
    }
   ],
   "source": [
    "# get coordinates from raster\n",
    "src = gdal.Open(ORIGINAL_IMG)\n",
    "ulx, xres, xskew, uly, yskew, yres  = src.GetGeoTransform() # ulx, uly = upper left x and y values\n",
    "# define global variable IMG_RESOLUTION\n",
    "IMG_RESOLUTION = xres\n",
    "# get projection from raster\n",
    "wkt = src.GetProjection()\n",
    "src_crs = osr.SpatialReference(wkt).GetAttrValue('AUTHORITY',1)\n",
    "\n",
    "print(\"ulx, uly:\", ulx, \",\", uly, \",\",\"xres, yres:\", xres,\",\", yres)\n",
    "print(\"SRC_CRS:\", src_crs)"
   ]
  },
  {
   "cell_type": "code",
   "execution_count": 6,
   "id": "a8593b19-3274-41c9-bef8-c7a316b45bce",
   "metadata": {},
   "outputs": [
    {
     "name": "stdout",
     "output_type": "stream",
     "text": [
      "SRC_CRS: 32736\n",
      "Point: POINT (173723.36172185623 9789230.701895246)\n",
      "GeoDataFrame CRS: epsg:32736\n"
     ]
    },
    {
     "name": "stderr",
     "output_type": "stream",
     "text": [
      "E:\\W_Katrin\\miniconda3\\envs\\tue_dl2\\lib\\site-packages\\geopandas\\io\\file.py:362: FutureWarning: pandas.Int64Index is deprecated and will be removed from pandas in a future version. Use pandas.Index with the appropriate dtype instead.\n",
      "  pd.Int64Index,\n"
     ]
    }
   ],
   "source": [
    "# create Point \n",
    "point = Point(ulx, uly)\n",
    "print(\"Point:\", point)\n",
    "\n",
    "#create new GeoDataFrame to save the point in\n",
    "newdata = gpd.GeoDataFrame()\n",
    "newdata['geometry'] = None\n",
    "newdata.loc[0, 'geometry'] = point\n",
    "\n",
    "# Set the GeoDataFrame's coordinate system to the same as the src raster \n",
    "newdata.crs = CRS.from_epsg(src_crs)\n",
    "print(\"GeoDataFrame CRS:\", newdata.crs)\n",
    "\n",
    "#save GeoDataFrame\n",
    "POINT_FILE = \"2015_Pleiades_Kigali_subset_ReferencePointUL.shp\"\n",
    "newdata.to_file(POINT_FILE)"
   ]
  },
  {
   "cell_type": "markdown",
   "id": "f78dd7bb-1123-40f2-add3-5d354f7ff891",
   "metadata": {
    "tags": []
   },
   "source": [
    "## 2) Convert input - file (Tif) to JPEG OR RESCALE\n",
    "#### using gdal translate\n",
    "https://gis.stackexchange.com/questions/42584/how-to-call-gdal-translate-from-python-code"
   ]
  },
  {
   "cell_type": "markdown",
   "id": "7edca92e-d2df-4f4c-aff8-41f73cdb4517",
   "metadata": {},
   "source": [
    "### Rescaling Input Raster to Uint8"
   ]
  },
  {
   "cell_type": "markdown",
   "id": "88717038-dacd-40c7-939c-651f737c03e1",
   "metadata": {
    "tags": []
   },
   "source": [
    "##### trying to convert Satellite image to Uint8 by hand, seems like the results are the same"
   ]
  },
  {
   "cell_type": "markdown",
   "id": "faa8c576-6854-44ba-b025-f609ef98e089",
   "metadata": {
    "jp-MarkdownHeadingCollapsed": true,
    "tags": []
   },
   "source": [
    "#### Try 1"
   ]
  },
  {
   "cell_type": "code",
   "execution_count": 71,
   "id": "cc70289e-ef59-481c-b466-f4fe0b4b1b73",
   "metadata": {},
   "outputs": [],
   "source": [
    "# for trying to change convert to int by hand\n",
    "# get min/max from QGIS Symbolization, Min/MAx Einstellungen Kumulativer Zählschnitt 2,0 - 98%\n",
    "def normalize8(I, mn, mx):\n",
    "    mx -= mn\n",
    "    I = ((I - mn)/mx) * 255\n",
    "    return I.astype(np.uint8)"
   ]
  },
  {
   "cell_type": "code",
   "execution_count": 72,
   "id": "a414bff4-6fd9-4bb6-8be6-23df7505f989",
   "metadata": {},
   "outputs": [],
   "source": [
    "src = gdal.Open(filename)\n",
    "src_array = src.ReadAsArray()\n",
    "src_uint8 = normalize8(src_array, 0, 1800)"
   ]
  },
  {
   "cell_type": "code",
   "execution_count": 73,
   "id": "7a5d968e-7f79-4fd9-aaf6-f39ff3122f12",
   "metadata": {},
   "outputs": [
    {
     "name": "stdout",
     "output_type": "stream",
     "text": [
      "0\n",
      "255\n",
      "98.40632405104026\n"
     ]
    },
    {
     "data": {
      "text/plain": [
       "(5, 8267, 13162)"
      ]
     },
     "execution_count": 73,
     "metadata": {},
     "output_type": "execute_result"
    }
   ],
   "source": [
    "print(src_uint8.min())\n",
    "print(src_uint8.max())\n",
    "print(src_uint8.mean())\n",
    "src_uint8.shape"
   ]
  },
  {
   "cell_type": "markdown",
   "id": "6df9a6ef-8ce3-447d-b6e3-dc32c5ccdaf0",
   "metadata": {
    "jp-MarkdownHeadingCollapsed": true,
    "tags": []
   },
   "source": [
    "#### Try 2"
   ]
  },
  {
   "cell_type": "code",
   "execution_count": 67,
   "id": "91bc4959-aaba-47a9-8023-f2a4c9d66e92",
   "metadata": {},
   "outputs": [],
   "source": [
    "def convert(img, target_type_min, target_type_max, target_type):\n",
    "    imin = img.min()\n",
    "    imax = img.max()\n",
    "\n",
    "    a = (target_type_max - target_type_min) / (imax - imin)\n",
    "    b = target_type_max - a * imax\n",
    "    new_img = (a * img + b).astype(target_type)\n",
    "    return new_img"
   ]
  },
  {
   "cell_type": "code",
   "execution_count": 10,
   "id": "b819af85-a840-4ed2-9731-9da0c7aea22d",
   "metadata": {},
   "outputs": [],
   "source": [
    "imgu8 = convert(src_array, 0, 255, np.uint8)"
   ]
  },
  {
   "cell_type": "code",
   "execution_count": 11,
   "id": "fadc1328-7cec-4c0b-87eb-04c5515d84b8",
   "metadata": {},
   "outputs": [
    {
     "name": "stdout",
     "output_type": "stream",
     "text": [
      "0\n",
      "255\n",
      "28.614318429952384\n"
     ]
    }
   ],
   "source": [
    "print(imgu8.min())\n",
    "print(imgu8.max())\n",
    "print(imgu8.mean())"
   ]
  },
  {
   "cell_type": "code",
   "execution_count": 75,
   "id": "84405d3a-fc70-4d95-aa1e-174f0b7f9ee4",
   "metadata": {},
   "outputs": [
    {
     "data": {
      "text/plain": [
       "0"
      ]
     },
     "execution_count": 75,
     "metadata": {},
     "output_type": "execute_result"
    }
   ],
   "source": [
    "format = \"GTiff\"\n",
    "driver = gdal.GetDriverByName(format)\n",
    "dst_filename = \"E:/W_Katrin/Kigali/Raster/2015_Pleiades_Kigali_subset_Uint8_8.tif\"\n",
    "width = src.RasterXSize\n",
    "height = src.RasterYSize\n",
    "dst_ds = driver.Create(dst_filename, width, height, 5)\n",
    "dst_ds.WriteRaster(0,0,width, height, src_uint8, band_list=[1,2,3,4,5])"
   ]
  },
  {
   "cell_type": "markdown",
   "id": "878e4ecb-c4ef-4d7e-af34-70600360dad6",
   "metadata": {
    "jp-MarkdownHeadingCollapsed": true,
    "tags": []
   },
   "source": [
    "#### Try 3 - each band separetly after already rescaling in QGIS"
   ]
  },
  {
   "cell_type": "code",
   "execution_count": 81,
   "id": "17bc05a7-a647-4069-8c17-2c39b1c19352",
   "metadata": {},
   "outputs": [],
   "source": [
    "b1 = gdal.Open(\"E:/W_Katrin/Kigali/Raster/2015_Pleiades_Kigali_subset_rescale_B1.tif\")\n",
    "b2 = gdal.Open(\"E:/W_Katrin/Kigali/Raster/2015_Pleiades_Kigali_subset_rescale_B2_2.tif\")\n",
    "b3 = gdal.Open(\"E:/W_Katrin/Kigali/Raster/2015_Pleiades_Kigali_subset_rescale_B3.tif\")"
   ]
  },
  {
   "cell_type": "code",
   "execution_count": 83,
   "id": "acf1463e-4130-4fc1-860b-3177a1f9fcb5",
   "metadata": {},
   "outputs": [],
   "source": [
    "b1_int = b1.ReadAsArray().astype(np.uint8)\n",
    "b2_int = b2.ReadAsArray().astype(np.uint8)\n",
    "b3_int = b3.ReadAsArray().astype(np.uint8)"
   ]
  },
  {
   "cell_type": "code",
   "execution_count": 72,
   "id": "94f344bf-29af-469c-9f0b-bf4380e86c62",
   "metadata": {},
   "outputs": [],
   "source": [
    "b1_array = b1.ReadAsArray()\n",
    "b2_array = b2.ReadAsArray()\n",
    "b3_array = b3.ReadAsArray()"
   ]
  },
  {
   "cell_type": "code",
   "execution_count": 73,
   "id": "d5d73b07-698f-4645-a1d5-330c518ae95f",
   "metadata": {},
   "outputs": [
    {
     "ename": "NameError",
     "evalue": "name 'normalize8' is not defined",
     "output_type": "error",
     "traceback": [
      "\u001b[1;31m---------------------------------------------------------------------------\u001b[0m",
      "\u001b[1;31mNameError\u001b[0m                                 Traceback (most recent call last)",
      "Input \u001b[1;32mIn [73]\u001b[0m, in \u001b[0;36m<cell line: 1>\u001b[1;34m()\u001b[0m\n\u001b[1;32m----> 1\u001b[0m b1_norm \u001b[38;5;241m=\u001b[39m \u001b[43mnormalize8\u001b[49m(b1_array, \u001b[38;5;241m-\u001b[39m\u001b[38;5;241m6\u001b[39m, \u001b[38;5;241m300\u001b[39m)\n\u001b[0;32m      2\u001b[0m b2_norm \u001b[38;5;241m=\u001b[39m normalize8(b2_array, \u001b[38;5;241m-\u001b[39m\u001b[38;5;241m40\u001b[39m, \u001b[38;5;241m500\u001b[39m)\n\u001b[0;32m      3\u001b[0m b3_norm \u001b[38;5;241m=\u001b[39m normalize8(b3_array, \u001b[38;5;241m0\u001b[39m, \u001b[38;5;241m300\u001b[39m)\n",
      "\u001b[1;31mNameError\u001b[0m: name 'normalize8' is not defined"
     ]
    }
   ],
   "source": [
    "b1_norm = normalize8(b1_array, -6, 300)\n",
    "b2_norm = normalize8(b2_array, -40, 500)\n",
    "b3_norm = normalize8(b3_array, 0, 300)"
   ]
  },
  {
   "cell_type": "code",
   "execution_count": 76,
   "id": "c78bb940-28f4-42a2-9160-7f8a2329a1bb",
   "metadata": {},
   "outputs": [],
   "source": [
    "b1_norm = convert(b1_array, 0,255, np.uint8)\n",
    "b2_norm = convert(b2_array, 0,255, np.uint8)\n",
    "b3_norm = convert(b3_array, 0,255, np.uint8)"
   ]
  },
  {
   "cell_type": "code",
   "execution_count": 78,
   "id": "b0b0104f-af39-4812-ac46-60da541d41cb",
   "metadata": {},
   "outputs": [],
   "source": [
    "src = gdal.Open(filename)"
   ]
  },
  {
   "cell_type": "code",
   "execution_count": 75,
   "id": "412aa005-f978-45f1-a23f-dff128c6a3c5",
   "metadata": {},
   "outputs": [
    {
     "name": "stdout",
     "output_type": "stream",
     "text": [
      "B1 0 255 27.47782574792997 (8267, 13162) 11.339135603982013\n"
     ]
    }
   ],
   "source": [
    "print(\"B1\", b1_norm.min(),b1_norm.max(),b1_norm.mean(), b1_norm.shape, b1_norm.std())\n",
    "#print(\"B2\", b2_norm.min(),b2_norm.max(),b2_norm.mean(), b2_norm.std())\n",
    "#print(\"B3\", b3_norm.min(),b3_norm.max(),b3_norm.mean(), b3_norm.std())"
   ]
  },
  {
   "cell_type": "code",
   "execution_count": 85,
   "id": "2546f1cb-8faa-4b7b-8285-7bdab5fd4f88",
   "metadata": {},
   "outputs": [
    {
     "data": {
      "text/plain": [
       "0"
      ]
     },
     "execution_count": 85,
     "metadata": {},
     "output_type": "execute_result"
    }
   ],
   "source": [
    "format = \"GTiff\"\n",
    "driver = gdal.GetDriverByName(format)\n",
    "dst_filename = \"E:/W_Katrin/Kigali/Raster/2015_Pleiades_Kigali_subset_Uint8_14.tif\"\n",
    "width = src.RasterXSize\n",
    "height = src.RasterYSize\n",
    "dst_ds = driver.Create(dst_filename, width, height, 3)\n",
    "dst_ds.GetRasterBand(1).WriteArray(b1_int)\n",
    "dst_ds.GetRasterBand(2).WriteArray(b2_int)\n",
    "dst_ds.GetRasterBand(3).WriteArray(b3_int)\n",
    "\n",
    "#dst_ds.WriteRaster(0,0,width, height, src_uint8, band_list=[1,2,3,4,5])"
   ]
  },
  {
   "cell_type": "markdown",
   "id": "1631517b-b200-4e5a-aedd-98283d7152d7",
   "metadata": {},
   "source": [
    "### try 4 each band separetly, by hand, by using breakpoints from ErDAS Imagine"
   ]
  },
  {
   "cell_type": "code",
   "execution_count": 91,
   "id": "1f635901-bf0e-4f96-aa39-9ee45eaa1213",
   "metadata": {},
   "outputs": [],
   "source": [
    "def convert2(img, imin, imax, target_type_min, target_type_max, target_type):\n",
    "    a = (target_type_max - target_type_min) / (imax - imin)\n",
    "    b = target_type_max - a * imax\n",
    "    new_img = (a * img + b).astype(target_type)\n",
    "    return new_img"
   ]
  },
  {
   "cell_type": "code",
   "execution_count": 92,
   "id": "de165957-665b-4d06-8a14-a707196bf662",
   "metadata": {},
   "outputs": [],
   "source": [
    "src = gdal.Open(\"E:/W_Katrin/Kigali/Raster/2015_Pleiades_Kigali_subset.tif\")\n",
    "b1 = src.GetRasterBand(1).ReadAsArray()\n",
    "b2 = src.GetRasterBand(2).ReadAsArray()\n",
    "b3 = src.GetRasterBand(3).ReadAsArray()"
   ]
  },
  {
   "cell_type": "code",
   "execution_count": 120,
   "id": "7b53e754-4aad-4104-86af-b47c21077c88",
   "metadata": {},
   "outputs": [],
   "source": [
    "b1_conv = convert2(b1, 211, 3094, 0, 255, np.uint8)\n",
    "b2_conv = convert2(b2, 271, 2799, 0, 255, np.uint8)\n",
    "b3_conv = convert2(b3, 0, 1900, 0, 255, np.uint8)"
   ]
  },
  {
   "cell_type": "code",
   "execution_count": 122,
   "id": "e09ffbcd-d6e1-4d5f-bcfd-1d96731571c3",
   "metadata": {},
   "outputs": [
    {
     "data": {
      "text/plain": [
       "0"
      ]
     },
     "execution_count": 122,
     "metadata": {},
     "output_type": "execute_result"
    }
   ],
   "source": [
    "format = \"GTiff\"\n",
    "driver = gdal.GetDriverByName(format)\n",
    "dst_filename = \"E:/W_Katrin/Kigali/Raster/2015_Pleiades_Kigali_subset_Uint8_conv2_10.tif\"\n",
    "width = src.RasterXSize\n",
    "height = src.RasterYSize\n",
    "dst_ds = driver.Create(dst_filename, width, height, 3)\n",
    "dst_ds.GetRasterBand(1).WriteArray(b1_conv)\n",
    "dst_ds.GetRasterBand(2).WriteArray(b2_conv)\n",
    "dst_ds.GetRasterBand(3).WriteArray(b3_conv)"
   ]
  },
  {
   "cell_type": "markdown",
   "id": "cf2d5fb8-0c49-43aa-8f52-f738ddb8dd9e",
   "metadata": {
    "tags": []
   },
   "source": [
    "#### actual translation"
   ]
  },
  {
   "cell_type": "code",
   "execution_count": 115,
   "id": "f7530d6b-333c-4caa-bad1-f60b3ff29e1b",
   "metadata": {},
   "outputs": [
    {
     "name": "stdout",
     "output_type": "stream",
     "text": [
      "Input file size is 13162, 8267"
     ]
    },
    {
     "name": "stderr",
     "output_type": "stream",
     "text": [
      "Warning 6: PNG driver doesn't support data type Float32. Only eight bit (Byte) and sixteen bit (UInt16) bands supported. Defaulting to Byte\n",
      "\n"
     ]
    },
    {
     "name": "stdout",
     "output_type": "stream",
     "text": [
      "\n",
      "0...10...20...30...40...50...60...70...80...90...100 - done.\n"
     ]
    }
   ],
   "source": [
    "!gdal_translate -of PNG -b 1 -b 2 -b 3 -scale -co \"WORLDFILE=YES\" E:/W_Katrin/Kigali/Raster/2015_Pleiades_Kigali_subset.tif E:/W_Katrin/Kigali/Raster/2015_Pleiades_Kigali_subset_RGB.png"
   ]
  },
  {
   "cell_type": "code",
   "execution_count": null,
   "id": "fea547e6-fc06-4fe0-955e-e960aca69717",
   "metadata": {},
   "outputs": [],
   "source": [
    "dst = gdal.Open(\"E:/W_Katrin/Kigali/Raster/2015_Pleiades_Kigali_subset_RGB.png\")\n",
    "dst.GetMetadata()\n",
    "!gdalinfo E:/W_Katrin/Kigali/Raster/2015_Pleiades_Kigali_subset_RGB.png"
   ]
  },
  {
   "cell_type": "markdown",
   "id": "99e2d8d8-b429-4137-be1d-35463329d7a9",
   "metadata": {
    "tags": []
   },
   "source": [
    "## 3) TILING of input data\n",
    "##### - Input raster has to be tiled to feed the model for prediction - "
   ]
  },
  {
   "cell_type": "code",
   "execution_count": 2,
   "id": "a63c8e19-251d-477e-b6a2-b29fa3d4f3bf",
   "metadata": {},
   "outputs": [],
   "source": [
    "# define tiling function \n",
    "def tiling(filename, savedir, target_size): \n",
    "    if not os.path.exists(savedir): os.mkdir(savedir)\n",
    "    img = Image.open(filename)\n",
    "    width, height = img.size\n",
    "    start_pos = start_x, start_y = (0, 0)\n",
    "    cropped_image_size = w, h = target_size\n",
    "    frame_num = 1\n",
    "    for col_i in range(0, width, w):\n",
    "        for row_i in range(0, height, h):\n",
    "            crop = img.crop((col_i, row_i, col_i + w, row_i + h))\n",
    "            length = 5\n",
    "            padding='0'\n",
    "            save_to= os.path.join(savedir, \"testing_{col}_{row}.png\".format(col=format(col_i, padding + '>'+ str(length)), row=format(row_i, padding + '>'+ str(length))))\n",
    "            crop.save(save_to)\n"
   ]
  },
  {
   "cell_type": "code",
   "execution_count": 3,
   "id": "25b11eb1-ed7a-4a1f-9a49-6eb2ea952927",
   "metadata": {},
   "outputs": [],
   "source": [
    "# run tiling\n",
    "filename = \"2015_Pleiades_Kigali_subset_Uint8_12.tif\"\n",
    "\n",
    "warnings.simplefilter('ignore', Image.DecompressionBombWarning)\n",
    "\n",
    "tiling(filename, TILE_DIRECTORY, target_size = (256,256))"
   ]
  },
  {
   "cell_type": "markdown",
   "id": "4ca9aa27-5d0d-42b7-bea3-63000b03d95e",
   "metadata": {
    "tags": []
   },
   "source": [
    "## 4) Predict and save predicted masks "
   ]
  },
  {
   "cell_type": "code",
   "execution_count": 5,
   "id": "5e99e14d-f8ec-421c-921e-1044bdfaeb2b",
   "metadata": {},
   "outputs": [],
   "source": [
    "#Load the model\n",
    "model_improved = keras.models.load_model(\"E:/W_Katrin/InnovationLab/models/16_model_improved\")"
   ]
  },
  {
   "cell_type": "code",
   "execution_count": 130,
   "id": "698d9bea-f0e2-4345-bc43-8b4746abe2bf",
   "metadata": {},
   "outputs": [
    {
     "name": "stdout",
     "output_type": "stream",
     "text": [
      "Image files: 1716\n",
      "\n"
     ]
    }
   ],
   "source": [
    "# add here the folder path, where your  data is stored\n",
    "files = glob.glob(os.path.join(TILE_DIRECTORY,'*'))\n",
    "pattern_img = '.*\\.png'\n",
    "# create a list of all images in that directory [after converting them to jpg with the code in Github README]\n",
    "files_img = list(filter(re.compile(pattern_img).match,files))\n",
    "files_img = sorted(files_img)\n",
    "\n",
    "print('Image files: {}\\n'.format(len(files_img)))"
   ]
  },
  {
   "cell_type": "code",
   "execution_count": 131,
   "id": "3e18856b-c1b2-4d57-a25f-2eca10dbe9f7",
   "metadata": {},
   "outputs": [],
   "source": [
    "# create a dataframe of the satellite images\n",
    "df_files = pd.DataFrame(columns=['img'])\n",
    "df_files['img'] = files_img"
   ]
  },
  {
   "cell_type": "code",
   "execution_count": 133,
   "id": "387a13ca-488b-4305-875e-55f7e70a16ad",
   "metadata": {},
   "outputs": [],
   "source": [
    "def make_test_gen(df_test,target_size,batch_size,seed):# this function generates augmented data[!not only training data!]\n",
    "    # or better said: it generates a function which generates augmented data[generator function]\n",
    "    \n",
    "    # https://www.pyimagesearch.com/2019/07/08/keras-imagedatagenerator-and-data-augmentation/\n",
    "    # generate batches of tensor image data with real-time data augmentation \n",
    "    # batches of original training data are randomly transformed and then used for training (not the original data!)\n",
    "  test_gen = keras.preprocessing.image.ImageDataGenerator()\n",
    "    \n",
    "    # read data from dataframe and perform powerful on-the-fly image augmentation with ImageDataGenerator\n",
    "  test_generator = test_gen.flow_from_dataframe(\n",
    "          dataframe=df_test,        \n",
    "          x_col='img',\n",
    "          target_size=target_size,\n",
    "          batch_size=batch_size,\n",
    "          seed = seed,\n",
    "          class_mode=None,\n",
    "          color_mode='rgb',\n",
    "          shuffle=False)\n",
    "  return test_generator"
   ]
  },
  {
   "cell_type": "code",
   "execution_count": 134,
   "id": "3753e03b-a00e-43ed-add6-cf8f02ee2bf5",
   "metadata": {},
   "outputs": [
    {
     "name": "stdout",
     "output_type": "stream",
     "text": [
      "Found 1716 validated image filenames.\n"
     ]
    }
   ],
   "source": [
    "test_image_gen = make_test_gen(df_files, batch_size = 1,target_size = (256, 256), seed = 0) #seed 0 to keep the Reihenfolge"
   ]
  },
  {
   "cell_type": "code",
   "execution_count": 10,
   "id": "e7d2801c-e1c5-4b9c-86a0-02dc53ecbeea",
   "metadata": {},
   "outputs": [
    {
     "name": "stdout",
     "output_type": "stream",
     "text": [
      "1716/1716 [==============================] - 214s 125ms/step\n"
     ]
    }
   ],
   "source": [
    "# Generate output predictions for the input samples\n",
    "mask_predicted = model_improved.predict(test_image_gen, verbose = 1)"
   ]
  },
  {
   "cell_type": "code",
   "execution_count": 11,
   "id": "db37aa2c-8358-4382-a1fe-62edc36a07e3",
   "metadata": {},
   "outputs": [],
   "source": [
    "# add predicted masks to dataframe df_files\n",
    "df_files[\"mask_file\"] = mask_predicted"
   ]
  },
  {
   "cell_type": "code",
   "execution_count": 13,
   "id": "0ef09b89-0dd4-4788-9b80-5631863abf25",
   "metadata": {},
   "outputs": [],
   "source": [
    "#save predicted maps\n",
    "def save_pred(predicted, savedir):\n",
    "    for i in range(len(predicted)):\n",
    "        pred = np.squeeze(predicted[i])\n",
    "        pred = (255*(pred - np.min(pred))/np.ptp(pred)).astype(\"uint8\")\n",
    "        padding = '0'\n",
    "        length = 4\n",
    "        save_to = os.path.join(savedir, \"testing_{x}.tif\".format(x = format(i, padding + '>' + str(length))))\n",
    "        imageio.imwrite(save_to, mask_pred)"
   ]
  },
  {
   "cell_type": "code",
   "execution_count": null,
   "id": "2af1c1b4-aeb6-4d34-9446-2caa96a340e6",
   "metadata": {},
   "outputs": [],
   "source": [
    "_ = save_pred(mask_predicted,TILE_DIRECTORY)"
   ]
  },
  {
   "cell_type": "code",
   "execution_count": null,
   "id": "2f96fc82-2f95-4c5e-b0e1-d337d00157b9",
   "metadata": {},
   "outputs": [],
   "source": [
    "# define function to display the results\n",
    "def predict_buildings(img, mask_pred):\n",
    "    i=0\n",
    "    img=img[i].astype(int)\n",
    "    mask_pred=np.squeeze(mask_pred[i])\n",
    "    mask_pred_rend=np.argmax(mask_pred, axis=-1)\n",
    "    plt.figure(figsize=0.8*np.array([3*6.4, 4.8]))\n",
    "    plt.subplot(131) # = plt.subplot(1,3,1), 1 row, 4 columns,  first subplot (from right to left, first top row)\n",
    "    plt.imshow(img)\n",
    "    plt.subplot(132)\n",
    "    plt.imshow(mask_pred)\n",
    "    plt.subplot(133)\n",
    "    plt.imshow(mask_pred_rend)\n",
    "    plt.show()\n",
    "    \n",
    "    return mask_pred, mask_pred_rend"
   ]
  },
  {
   "cell_type": "code",
   "execution_count": null,
   "id": "9ce0a428-bb53-4c48-9f7f-8662c4a34106",
   "metadata": {},
   "outputs": [],
   "source": [
    "img_test = next(test_image_gen)\n",
    "mask_predicted_, mask_predicted_rend_= predict_buildings(img_test, mask_predicted)"
   ]
  },
  {
   "cell_type": "markdown",
   "id": "f6485318-e900-4d29-9adf-898d8c3dc79b",
   "metadata": {
    "tags": []
   },
   "source": [
    "## 5) Mosaic - Put images back together"
   ]
  },
  {
   "cell_type": "markdown",
   "id": "b180f362-7896-4b42-83dc-b77a6e5aba67",
   "metadata": {
    "tags": []
   },
   "source": [
    "### 5.1) Mosaic preparation"
   ]
  },
  {
   "cell_type": "code",
   "execution_count": 4,
   "id": "5cdbab70-8c7e-4450-950a-61449839bb92",
   "metadata": {},
   "outputs": [],
   "source": [
    "# if starting the Code here: RUN THIS CELL\n",
    "# create a dataframe of the satellite image tiles and their respective masks\n",
    "files = glob.glob(os.path.join(TILE_DIRECTORY,'*'))\n",
    "pattern_img = '.*\\.png$'\n",
    "files_img = list(filter(re.compile(pattern_img).match,files))\n",
    "files_img = sorted(files_img)\n",
    "\n",
    "pattern_mask = '.*\\.tif$'\n",
    "files_mask = list(filter(re.compile(pattern_mask).match,files))\n",
    "files_mask = sorted(files_mask)\n",
    "\n",
    "df_files = pd.DataFrame(columns=['img','mask', 'X', 'Y'])\n",
    "df_files['img'] = files_img\n",
    "df_files['mask'] = files_mask\n"
   ]
  },
  {
   "cell_type": "code",
   "execution_count": 15,
   "id": "db79b51e-b01d-4a05-b2b5-da08d25fb1e2",
   "metadata": {},
   "outputs": [
    {
     "data": {
      "text/html": [
       "<div>\n",
       "<style scoped>\n",
       "    .dataframe tbody tr th:only-of-type {\n",
       "        vertical-align: middle;\n",
       "    }\n",
       "\n",
       "    .dataframe tbody tr th {\n",
       "        vertical-align: top;\n",
       "    }\n",
       "\n",
       "    .dataframe thead th {\n",
       "        text-align: right;\n",
       "    }\n",
       "</style>\n",
       "<table border=\"1\" class=\"dataframe\">\n",
       "  <thead>\n",
       "    <tr style=\"text-align: right;\">\n",
       "      <th></th>\n",
       "      <th>img</th>\n",
       "      <th>mask</th>\n",
       "      <th>X</th>\n",
       "      <th>Y</th>\n",
       "    </tr>\n",
       "  </thead>\n",
       "  <tbody>\n",
       "    <tr>\n",
       "      <th>0</th>\n",
       "      <td>tiles_6\\testing_00000_00000.png</td>\n",
       "      <td>tiles_6\\testing_0000.tif</td>\n",
       "      <td>00000</td>\n",
       "      <td>00000</td>\n",
       "    </tr>\n",
       "    <tr>\n",
       "      <th>1</th>\n",
       "      <td>tiles_6\\testing_00000_00256.png</td>\n",
       "      <td>tiles_6\\testing_0001.tif</td>\n",
       "      <td>00000</td>\n",
       "      <td>00256</td>\n",
       "    </tr>\n",
       "    <tr>\n",
       "      <th>2</th>\n",
       "      <td>tiles_6\\testing_00000_00512.png</td>\n",
       "      <td>tiles_6\\testing_0002.tif</td>\n",
       "      <td>00000</td>\n",
       "      <td>00512</td>\n",
       "    </tr>\n",
       "    <tr>\n",
       "      <th>3</th>\n",
       "      <td>tiles_6\\testing_00000_00768.png</td>\n",
       "      <td>tiles_6\\testing_0003.tif</td>\n",
       "      <td>00000</td>\n",
       "      <td>00768</td>\n",
       "    </tr>\n",
       "    <tr>\n",
       "      <th>4</th>\n",
       "      <td>tiles_6\\testing_00000_01024.png</td>\n",
       "      <td>tiles_6\\testing_0004.tif</td>\n",
       "      <td>00000</td>\n",
       "      <td>01024</td>\n",
       "    </tr>\n",
       "    <tr>\n",
       "      <th>...</th>\n",
       "      <td>...</td>\n",
       "      <td>...</td>\n",
       "      <td>...</td>\n",
       "      <td>...</td>\n",
       "    </tr>\n",
       "    <tr>\n",
       "      <th>1711</th>\n",
       "      <td>tiles_6\\testing_13056_07168.png</td>\n",
       "      <td>tiles_6\\testing_1711.tif</td>\n",
       "      <td>13056</td>\n",
       "      <td>07168</td>\n",
       "    </tr>\n",
       "    <tr>\n",
       "      <th>1712</th>\n",
       "      <td>tiles_6\\testing_13056_07424.png</td>\n",
       "      <td>tiles_6\\testing_1712.tif</td>\n",
       "      <td>13056</td>\n",
       "      <td>07424</td>\n",
       "    </tr>\n",
       "    <tr>\n",
       "      <th>1713</th>\n",
       "      <td>tiles_6\\testing_13056_07680.png</td>\n",
       "      <td>tiles_6\\testing_1713.tif</td>\n",
       "      <td>13056</td>\n",
       "      <td>07680</td>\n",
       "    </tr>\n",
       "    <tr>\n",
       "      <th>1714</th>\n",
       "      <td>tiles_6\\testing_13056_07936.png</td>\n",
       "      <td>tiles_6\\testing_1714.tif</td>\n",
       "      <td>13056</td>\n",
       "      <td>07936</td>\n",
       "    </tr>\n",
       "    <tr>\n",
       "      <th>1715</th>\n",
       "      <td>tiles_6\\testing_13056_08192.png</td>\n",
       "      <td>tiles_6\\testing_1715.tif</td>\n",
       "      <td>13056</td>\n",
       "      <td>08192</td>\n",
       "    </tr>\n",
       "  </tbody>\n",
       "</table>\n",
       "<p>1716 rows × 4 columns</p>\n",
       "</div>"
      ],
      "text/plain": [
       "                                  img                      mask      X      Y\n",
       "0     tiles_6\\testing_00000_00000.png  tiles_6\\testing_0000.tif  00000  00000\n",
       "1     tiles_6\\testing_00000_00256.png  tiles_6\\testing_0001.tif  00000  00256\n",
       "2     tiles_6\\testing_00000_00512.png  tiles_6\\testing_0002.tif  00000  00512\n",
       "3     tiles_6\\testing_00000_00768.png  tiles_6\\testing_0003.tif  00000  00768\n",
       "4     tiles_6\\testing_00000_01024.png  tiles_6\\testing_0004.tif  00000  01024\n",
       "...                               ...                       ...    ...    ...\n",
       "1711  tiles_6\\testing_13056_07168.png  tiles_6\\testing_1711.tif  13056  07168\n",
       "1712  tiles_6\\testing_13056_07424.png  tiles_6\\testing_1712.tif  13056  07424\n",
       "1713  tiles_6\\testing_13056_07680.png  tiles_6\\testing_1713.tif  13056  07680\n",
       "1714  tiles_6\\testing_13056_07936.png  tiles_6\\testing_1714.tif  13056  07936\n",
       "1715  tiles_6\\testing_13056_08192.png  tiles_6\\testing_1715.tif  13056  08192\n",
       "\n",
       "[1716 rows x 4 columns]"
      ]
     },
     "execution_count": 15,
     "metadata": {},
     "output_type": "execute_result"
    }
   ],
   "source": [
    "# read the upper left corner coordinates from the img-filename and save it in X and Y\n",
    "for i in range(df_files.shape[0]): \n",
    "    string = df_files[\"img\"].iloc[i]\n",
    "    string = string.split('\\\\')[-1].split('.')[0].split('_')\n",
    "    x = string[-2]\n",
    "    y = string[-1]\n",
    "    df_files['X'].iloc[i] = x\n",
    "    df_files['Y'].iloc[i] = y\n",
    "\n",
    "df_files"
   ]
  },
  {
   "cell_type": "code",
   "execution_count": 27,
   "id": "e5c94daa-bd3e-46c8-b3a5-343185b92093",
   "metadata": {},
   "outputs": [],
   "source": [
    "# create worldfiles for every mask tile to add georeferencing to them \n",
    "def create_worldfiles(dataframe, res, point_path):\n",
    "    point = gpd.read_file(point_path)\n",
    "    x_coord = point[\"geometry\"].x[0]\n",
    "    y_coord = point[\"geometry\"].y[0]\n",
    "    for i in range(len(dataframe)): \n",
    "        directory = dataframe[\"mask\"].iloc[i].split('\\\\')[0]\n",
    "        mask_str = dataframe[\"mask\"].iloc[i].split('\\\\')[-1].split('.')[0]\n",
    "        ext_ = dataframe[\"mask\"].iloc[i].split('\\\\')[-1].split('.')[-1]\n",
    "        if ext_ == 'tif': \n",
    "            ext = '.tfw'\n",
    "        elif ext_ == 'png':\n",
    "            ext = '.pgw'\n",
    "        elif ext_ == 'jpg':\n",
    "            ext = '.jgw'\n",
    "        else:\n",
    "            print(\"File Extension not known, accepted as input: TIF, PNG, JPG\")\n",
    "        f = open(os.path.join(directory, mask_str + ext), \"w\")\n",
    "        f.write('{pixel_size}\\n'.format(pixel_size = res)) #pixel size x\n",
    "        f.write('0.0\\n') #rotation\n",
    "        f.write('0.0\\n') #rotation\n",
    "        f.write('{pixel_size}\\n'.format(pixel_size = -res)) #pixel size y\n",
    "        f.write('{easting}\\n'.format(easting = (x_coord + (res*int(dataframe[\"X\"].iloc[i]))))) #location x\n",
    "        # be aware! In southern Hemisphere here minus instead of plus!\n",
    "        f.write('{northing}\\n'.format(northing = (y_coord - (res*int(dataframe[\"Y\"].iloc[i])))))#location y\n",
    "        f.close()"
   ]
  },
  {
   "cell_type": "code",
   "execution_count": 28,
   "id": "0845832e-f375-462c-86c8-eb8abc6121ec",
   "metadata": {},
   "outputs": [],
   "source": [
    "create_worldfiles(dataframe = df_files, res = IMG_RESOLUTION , point_path = POINT_FILE)"
   ]
  },
  {
   "cell_type": "markdown",
   "id": "877db079-19a2-410b-989a-d3df0d835bdc",
   "metadata": {},
   "source": [
    "### 5.2) Mosaicing"
   ]
  },
  {
   "cell_type": "code",
   "execution_count": 45,
   "id": "7cb2c6de-2226-48d3-8414-f2e70d31cc69",
   "metadata": {},
   "outputs": [],
   "source": [
    "# write all paths of predicted masks in txt file\n",
    "files_list = glob.glob('*.tif')\n",
    "\n",
    "with open('mask_files.txt', 'w') as f:\n",
    "    for item in files_list:\n",
    "        f.write(\"%s\\n\" % item)"
   ]
  },
  {
   "cell_type": "code",
   "execution_count": 46,
   "id": "7321050f-a203-47f2-9fc3-1b20b2aa5bad",
   "metadata": {},
   "outputs": [
    {
     "name": "stdout",
     "output_type": "stream",
     "text": [
      "0...10...20...30...40...50...60...70...80...90...100 - done.\n"
     ]
    },
    {
     "name": "stderr",
     "output_type": "stream",
     "text": [
      "Warning 6: gdalbuildvrt does not support ungeoreferenced image. Skipping mask_predicted_mosaic_MAX.tif\n"
     ]
    }
   ],
   "source": [
    "!gdalbuildvrt -input_file_list mask_files.txt merged1.vrt"
   ]
  },
  {
   "cell_type": "code",
   "execution_count": 47,
   "id": "7d5d12ec-1cd1-4fdd-ae67-47567a827217",
   "metadata": {},
   "outputs": [
    {
     "name": "stdout",
     "output_type": "stream",
     "text": [
      "\n",
      "Processing file     1 of     1,  0.000% completed in 0 minutes.\n",
      "Filename: merged1.vrt\n",
      "File Size: 13312x8448x3\n",
      "Pixel Size: 1.000000 x -1.000000\n",
      "UL:(173722.861722,9789231.201895)   LR:(187034.861722,9780783.201895)\n",
      "Copy 0,0,13312,8448 to 0,0,13312,8448.\n",
      "Copy 0,0,13312,8448 to 0,0,13312,8448.\n",
      "Copy 0,0,13312,8448 to 0,0,13312,8448.\n"
     ]
    }
   ],
   "source": [
    "!python \"E:\\W_Katrin\\miniconda3\\envs\\tue_dl2\\Lib\\site-packages\\GDAL-3.4.1-py3.10-win-amd64.egg-info\\scripts\\gdal_merge.py\" -init 255 -o mask_predicted_mosaic1.tif -of GTiff -v merged1.vrt"
   ]
  },
  {
   "cell_type": "markdown",
   "id": "39f3e694-fc58-42fe-a043-c2e19c13cb67",
   "metadata": {},
   "source": [
    "### Max Rend"
   ]
  },
  {
   "cell_type": "code",
   "execution_count": 21,
   "id": "f665a33e-0677-491f-8a11-1b93193b5d07",
   "metadata": {},
   "outputs": [],
   "source": [
    "mask_ = gdal.Open(\"mask_predicted_mosaic.tif\")\n",
    "mask = mask_.ReadAsArray()"
   ]
  },
  {
   "cell_type": "code",
   "execution_count": 22,
   "id": "7ca9b6e1-8e3d-40ec-9d74-02f2e623bf26",
   "metadata": {},
   "outputs": [
    {
     "data": {
      "text/plain": [
       "(8448, 13312)"
      ]
     },
     "execution_count": 22,
     "metadata": {},
     "output_type": "execute_result"
    }
   ],
   "source": [
    "mask_rend = np.argmax(mask, axis=0).astype(np.uint8)\n",
    "mask_rend.shape"
   ]
  },
  {
   "cell_type": "code",
   "execution_count": 24,
   "id": "64fec28c-f144-4d35-aa65-221c33c41293",
   "metadata": {},
   "outputs": [
    {
     "data": {
      "text/plain": [
       "0"
      ]
     },
     "execution_count": 24,
     "metadata": {},
     "output_type": "execute_result"
    }
   ],
   "source": [
    "format = \"GTiff\"\n",
    "driver = gdal.GetDriverByName(format)\n",
    "dst_filename = \"mask_predicted_mosaic_MAX.tif\"\n",
    "width = mask_.RasterXSize\n",
    "height = mask_.RasterYSize\n",
    "dst_ds = driver.Create(dst_filename, width, height,1)\n",
    "dst_ds.GetRasterBand(1).WriteArray(mask_rend)"
   ]
  },
  {
   "cell_type": "markdown",
   "id": "dc710bfe-18b6-47e4-ae12-ab515242e9f4",
   "metadata": {},
   "source": [
    "### 5.3 Mosaicing for input 512x512 tiles"
   ]
  },
  {
   "cell_type": "code",
   "execution_count": 59,
   "id": "143f78c8-9e18-4e86-8209-7e25be8e0eb4",
   "metadata": {},
   "outputs": [
    {
     "data": {
      "text/html": [
       "<div>\n",
       "<style scoped>\n",
       "    .dataframe tbody tr th:only-of-type {\n",
       "        vertical-align: middle;\n",
       "    }\n",
       "\n",
       "    .dataframe tbody tr th {\n",
       "        vertical-align: top;\n",
       "    }\n",
       "\n",
       "    .dataframe thead th {\n",
       "        text-align: right;\n",
       "    }\n",
       "</style>\n",
       "<table border=\"1\" class=\"dataframe\">\n",
       "  <thead>\n",
       "    <tr style=\"text-align: right;\">\n",
       "      <th></th>\n",
       "      <th>img</th>\n",
       "      <th>mask</th>\n",
       "      <th>X</th>\n",
       "      <th>Y</th>\n",
       "    </tr>\n",
       "  </thead>\n",
       "  <tbody>\n",
       "    <tr>\n",
       "      <th>0</th>\n",
       "      <td>E:/W_Katrin/Kigali/Raster/tiles_3\\testing_0000...</td>\n",
       "      <td>E:/W_Katrin/Kigali/Raster/tiles_3\\testing_0000...</td>\n",
       "      <td>0</td>\n",
       "      <td>0</td>\n",
       "    </tr>\n",
       "    <tr>\n",
       "      <th>1</th>\n",
       "      <td>E:/W_Katrin/Kigali/Raster/tiles_3\\testing_0000...</td>\n",
       "      <td>E:/W_Katrin/Kigali/Raster/tiles_3\\testing_0001...</td>\n",
       "      <td>0</td>\n",
       "      <td>256</td>\n",
       "    </tr>\n",
       "    <tr>\n",
       "      <th>2</th>\n",
       "      <td>E:/W_Katrin/Kigali/Raster/tiles_3\\testing_0000...</td>\n",
       "      <td>E:/W_Katrin/Kigali/Raster/tiles_3\\testing_0002...</td>\n",
       "      <td>0</td>\n",
       "      <td>512</td>\n",
       "    </tr>\n",
       "    <tr>\n",
       "      <th>3</th>\n",
       "      <td>E:/W_Katrin/Kigali/Raster/tiles_3\\testing_0000...</td>\n",
       "      <td>E:/W_Katrin/Kigali/Raster/tiles_3\\testing_0003...</td>\n",
       "      <td>0</td>\n",
       "      <td>768</td>\n",
       "    </tr>\n",
       "    <tr>\n",
       "      <th>4</th>\n",
       "      <td>E:/W_Katrin/Kigali/Raster/tiles_3\\testing_0000...</td>\n",
       "      <td>E:/W_Katrin/Kigali/Raster/tiles_3\\testing_0004...</td>\n",
       "      <td>0</td>\n",
       "      <td>1024</td>\n",
       "    </tr>\n",
       "    <tr>\n",
       "      <th>...</th>\n",
       "      <td>...</td>\n",
       "      <td>...</td>\n",
       "      <td>...</td>\n",
       "      <td>...</td>\n",
       "    </tr>\n",
       "    <tr>\n",
       "      <th>437</th>\n",
       "      <td>E:/W_Katrin/Kigali/Raster/tiles_3\\testing_1280...</td>\n",
       "      <td>E:/W_Katrin/Kigali/Raster/tiles_3\\testing_0437...</td>\n",
       "      <td>6400</td>\n",
       "      <td>3072</td>\n",
       "    </tr>\n",
       "    <tr>\n",
       "      <th>438</th>\n",
       "      <td>E:/W_Katrin/Kigali/Raster/tiles_3\\testing_1280...</td>\n",
       "      <td>E:/W_Katrin/Kigali/Raster/tiles_3\\testing_0438...</td>\n",
       "      <td>6400</td>\n",
       "      <td>3328</td>\n",
       "    </tr>\n",
       "    <tr>\n",
       "      <th>439</th>\n",
       "      <td>E:/W_Katrin/Kigali/Raster/tiles_3\\testing_1280...</td>\n",
       "      <td>E:/W_Katrin/Kigali/Raster/tiles_3\\testing_0439...</td>\n",
       "      <td>6400</td>\n",
       "      <td>3584</td>\n",
       "    </tr>\n",
       "    <tr>\n",
       "      <th>440</th>\n",
       "      <td>E:/W_Katrin/Kigali/Raster/tiles_3\\testing_1280...</td>\n",
       "      <td>E:/W_Katrin/Kigali/Raster/tiles_3\\testing_0440...</td>\n",
       "      <td>6400</td>\n",
       "      <td>3840</td>\n",
       "    </tr>\n",
       "    <tr>\n",
       "      <th>441</th>\n",
       "      <td>E:/W_Katrin/Kigali/Raster/tiles_3\\testing_1280...</td>\n",
       "      <td>E:/W_Katrin/Kigali/Raster/tiles_3\\testing_0441...</td>\n",
       "      <td>6400</td>\n",
       "      <td>4096</td>\n",
       "    </tr>\n",
       "  </tbody>\n",
       "</table>\n",
       "<p>442 rows × 4 columns</p>\n",
       "</div>"
      ],
      "text/plain": [
       "                                                   img  \\\n",
       "0    E:/W_Katrin/Kigali/Raster/tiles_3\\testing_0000...   \n",
       "1    E:/W_Katrin/Kigali/Raster/tiles_3\\testing_0000...   \n",
       "2    E:/W_Katrin/Kigali/Raster/tiles_3\\testing_0000...   \n",
       "3    E:/W_Katrin/Kigali/Raster/tiles_3\\testing_0000...   \n",
       "4    E:/W_Katrin/Kigali/Raster/tiles_3\\testing_0000...   \n",
       "..                                                 ...   \n",
       "437  E:/W_Katrin/Kigali/Raster/tiles_3\\testing_1280...   \n",
       "438  E:/W_Katrin/Kigali/Raster/tiles_3\\testing_1280...   \n",
       "439  E:/W_Katrin/Kigali/Raster/tiles_3\\testing_1280...   \n",
       "440  E:/W_Katrin/Kigali/Raster/tiles_3\\testing_1280...   \n",
       "441  E:/W_Katrin/Kigali/Raster/tiles_3\\testing_1280...   \n",
       "\n",
       "                                                  mask     X     Y  \n",
       "0    E:/W_Katrin/Kigali/Raster/tiles_3\\testing_0000...     0     0  \n",
       "1    E:/W_Katrin/Kigali/Raster/tiles_3\\testing_0001...     0   256  \n",
       "2    E:/W_Katrin/Kigali/Raster/tiles_3\\testing_0002...     0   512  \n",
       "3    E:/W_Katrin/Kigali/Raster/tiles_3\\testing_0003...     0   768  \n",
       "4    E:/W_Katrin/Kigali/Raster/tiles_3\\testing_0004...     0  1024  \n",
       "..                                                 ...   ...   ...  \n",
       "437  E:/W_Katrin/Kigali/Raster/tiles_3\\testing_0437...  6400  3072  \n",
       "438  E:/W_Katrin/Kigali/Raster/tiles_3\\testing_0438...  6400  3328  \n",
       "439  E:/W_Katrin/Kigali/Raster/tiles_3\\testing_0439...  6400  3584  \n",
       "440  E:/W_Katrin/Kigali/Raster/tiles_3\\testing_0440...  6400  3840  \n",
       "441  E:/W_Katrin/Kigali/Raster/tiles_3\\testing_0441...  6400  4096  \n",
       "\n",
       "[442 rows x 4 columns]"
      ]
     },
     "execution_count": 59,
     "metadata": {},
     "output_type": "execute_result"
    }
   ],
   "source": [
    "# create a dataframe of the satellite image tiles and their respective masks\n",
    "directory_img = 'E:/W_Katrin/Kigali/Raster/tiles_3'\n",
    "files = glob.glob(os.path.join(directory_img,'*'))\n",
    "pattern_img = '.*\\.png$'\n",
    "files_img = list(filter(re.compile(pattern_img).match,files))\n",
    "files_img = sorted(files_img)\n",
    "\n",
    "directory_mask = \"E:/W_Katrin/Kigali/Raster/tiles_3\"\n",
    "files_ = glob.glob(os.path.join(directory_mask,'*'))\n",
    "pattern_mask = '.*\\.tif$'\n",
    "files_mask = list(filter(re.compile(pattern_mask).match,files_))\n",
    "files_mask = sorted(files_mask)\n",
    "\n",
    "df_files = pd.DataFrame(columns=['img','mask', 'X', 'Y'])\n",
    "df_files['img'] = files_img\n",
    "df_files['mask'] = files_mask\n",
    "\n",
    "\n",
    "# read the upper left corner coordinates from the img-filename and save it in X and Y\n",
    "\n",
    "for i in range(df_files.shape[0]): \n",
    "    string = df_files[\"img\"].iloc[i]\n",
    "    string = string.split('/')[4].split('.')[0].split('_')\n",
    "    x = int(string[2]) *0.5\n",
    "    y = int(string[3]) *0.5\n",
    "    df_files['X'].iloc[i] = int(x)\n",
    "    df_files['Y'].iloc[i] = int(y)\n",
    "\n",
    "df_files"
   ]
  },
  {
   "cell_type": "code",
   "execution_count": 60,
   "id": "a6aeea92-cb0d-4091-97b2-634b63a82052",
   "metadata": {},
   "outputs": [],
   "source": [
    "# create worldfiles for every mask tile to add georeferencing to them \n",
    "def create_worldfiles(dataframe, res, point_path):\n",
    "    point = gpd.read_file(point_path)\n",
    "    x_coord = point[\"geometry\"].x[0]\n",
    "    y_coord = point[\"geometry\"].y[0]\n",
    "    for i in range(len(dataframe)): \n",
    "        directory = dataframe[\"mask\"].iloc[i].split('\\\\')[0]\n",
    "        mask_str = dataframe[\"mask\"].iloc[i].split('\\\\')[1].split('.')[0]\n",
    "        # attention: for PNG: .pgw; for JPG: .jgw; TIFF: .tfw\n",
    "        f = open(os.path.join(directory, mask_str + '.tfw'), \"w\")\n",
    "        f.write('{pixel_size}\\n'.format(pixel_size = res)) #pixel size x\n",
    "        f.write('0.0\\n') #rotation\n",
    "        f.write('0.0\\n') #rotation\n",
    "        f.write('{pixel_size}\\n'.format(pixel_size = -res)) #pixel size y\n",
    "        f.write('{easting}\\n'.format(easting = (x_coord + (res*int(dataframe[\"X\"].iloc[i]))))) #location x\n",
    "        # be aware! In southern Hemisphere here minus instead of plus!\n",
    "        f.write('{northing}\\n'.format(northing = (y_coord - (res*int(dataframe[\"Y\"].iloc[i])))))#location y\n",
    "        f.close()"
   ]
  },
  {
   "cell_type": "code",
   "execution_count": 61,
   "id": "3752a837-2525-472f-9335-518c55837f9c",
   "metadata": {},
   "outputs": [],
   "source": [
    "pt_file = \"E:/W_Katrin/Kigali/Raster/2015_Pleiades_Kigali_subset_ReferencePointUL.shp\"\n",
    "create_worldfiles(dataframe = df_files, res = 1, point_path = pt_file)"
   ]
  },
  {
   "cell_type": "code",
   "execution_count": 62,
   "id": "0be1cae2-abfe-4ef6-95e7-95ecdf0f4b3f",
   "metadata": {},
   "outputs": [
    {
     "data": {
      "text/plain": [
       "'E:\\\\W_Katrin\\\\Kigali\\\\Raster\\\\tiles_3'"
      ]
     },
     "execution_count": 62,
     "metadata": {},
     "output_type": "execute_result"
    }
   ],
   "source": [
    "os.getcwd()\n",
    "os.chdir('E:/W_Katrin/Kigali/Raster/tiles_3')\n",
    "os.getcwd()"
   ]
  },
  {
   "cell_type": "code",
   "execution_count": 63,
   "id": "bd60b01a-abe0-4a44-bb05-a3d1171293e8",
   "metadata": {},
   "outputs": [],
   "source": [
    "# write all paths ofpredicted masks in txt file\n",
    "files_list = glob.glob('*.tif')\n",
    "\n",
    "with open('mask_files.txt', 'w') as f:\n",
    "    for item in files_list:\n",
    "        f.write(\"%s\\n\" % item)"
   ]
  },
  {
   "cell_type": "code",
   "execution_count": 64,
   "id": "1ba7a1e8-e523-4f8e-9095-1408c2723033",
   "metadata": {},
   "outputs": [
    {
     "name": "stdout",
     "output_type": "stream",
     "text": [
      "0...10...20...30...40...50...60...70...80...90...100 - done.\n"
     ]
    }
   ],
   "source": [
    "!gdalbuildvrt -input_file_list mask_files.txt merged2.vrt"
   ]
  },
  {
   "cell_type": "code",
   "execution_count": 65,
   "id": "2d2706f8-e62b-4620-8c71-51da9d3be63e",
   "metadata": {},
   "outputs": [
    {
     "name": "stdout",
     "output_type": "stream",
     "text": [
      "\n",
      "Processing file     1 of     1,  0.000% completed in 0 minutes.\n",
      "Filename: merged2.vrt\n",
      "File Size: 6656x4352x3\n",
      "Pixel Size: 1.000000 x -1.000000\n",
      "UL:(173722.861722,9789231.201895)   LR:(180378.861722,9784879.201895)\n",
      "Copy 0,0,6656,4352 to 0,0,6656,4352.\n",
      "Copy 0,0,6656,4352 to 0,0,6656,4352.\n",
      "Copy 0,0,6656,4352 to 0,0,6656,4352.\n"
     ]
    }
   ],
   "source": [
    "!python \"E:\\W_Katrin\\miniconda3\\envs\\tue_dl2\\Lib\\site-packages\\GDAL-3.4.1-py3.10-win-amd64.egg-info\\scripts\\gdal_merge.py\" -init 255 -o mask_predicted_mosaic2.tif -of GTiff -v merged2.vrt"
   ]
  }
 ],
 "metadata": {
  "kernelspec": {
   "display_name": "Python 3 (ipykernel)",
   "language": "python",
   "name": "python3"
  },
  "language_info": {
   "codemirror_mode": {
    "name": "ipython",
    "version": 3
   },
   "file_extension": ".py",
   "mimetype": "text/x-python",
   "name": "python",
   "nbconvert_exporter": "python",
   "pygments_lexer": "ipython3",
   "version": "3.10.2"
  }
 },
 "nbformat": 4,
 "nbformat_minor": 5
}
